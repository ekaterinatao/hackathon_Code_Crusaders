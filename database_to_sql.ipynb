{
 "cells": [
  {
   "cell_type": "code",
   "execution_count": 1,
   "id": "356896b9",
   "metadata": {},
   "outputs": [],
   "source": [
    "import pandas as pd\n",
    "import sqlite3"
   ]
  },
  {
   "cell_type": "markdown",
   "id": "75cca305",
   "metadata": {},
   "source": [
    "# Создаем базу данных из датасета"
   ]
  },
  {
   "cell_type": "code",
   "execution_count": 2,
   "id": "561e8420",
   "metadata": {
    "scrolled": true
   },
   "outputs": [
    {
     "name": "stderr",
     "output_type": "stream",
     "text": [
      "C:\\Users\\Ekaterina\\AppData\\Local\\Temp\\ipykernel_17896\\4240546656.py:1: DtypeWarning: Columns (7,8,9,10,11,12,13,14,15,16,17,18,20,21,25,26,27,33,34,35,36,37,38,39,55) have mixed types. Specify dtype option on import or set low_memory=False.\n",
      "  df = pd.read_csv('final_dataset.csv')\n"
     ]
    }
   ],
   "source": [
    "df = pd.read_csv('final_dataset.csv')"
   ]
  },
  {
   "cell_type": "code",
   "execution_count": 3,
   "id": "d4285628",
   "metadata": {
    "scrolled": true
   },
   "outputs": [
    {
     "data": {
      "text/html": [
       "<div>\n",
       "<style scoped>\n",
       "    .dataframe tbody tr th:only-of-type {\n",
       "        vertical-align: middle;\n",
       "    }\n",
       "\n",
       "    .dataframe tbody tr th {\n",
       "        vertical-align: top;\n",
       "    }\n",
       "\n",
       "    .dataframe thead th {\n",
       "        text-align: right;\n",
       "    }\n",
       "</style>\n",
       "<table border=\"1\" class=\"dataframe\">\n",
       "  <thead>\n",
       "    <tr style=\"text-align: right;\">\n",
       "      <th></th>\n",
       "      <th>name</th>\n",
       "      <th>name_norm</th>\n",
       "      <th>Website</th>\n",
       "      <th>country_code</th>\n",
       "      <th>city</th>\n",
       "      <th>state_code</th>\n",
       "      <th>status</th>\n",
       "      <th>founded_at</th>\n",
       "      <th>closed_at</th>\n",
       "      <th>first_investment_at</th>\n",
       "      <th>...</th>\n",
       "      <th>TOP_avg_multiplicator</th>\n",
       "      <th>TOP_success_strategy_diversity_index</th>\n",
       "      <th>TOP_follow_on_index</th>\n",
       "      <th>TOP_readiness_take_younger_startups</th>\n",
       "      <th>team_size</th>\n",
       "      <th>employeeRange</th>\n",
       "      <th>followerCount</th>\n",
       "      <th>positionCount</th>\n",
       "      <th>stage</th>\n",
       "      <th>best_company</th>\n",
       "    </tr>\n",
       "  </thead>\n",
       "  <tbody>\n",
       "    <tr>\n",
       "      <th>0</th>\n",
       "      <td>Wetpaint</td>\n",
       "      <td>wetpaint</td>\n",
       "      <td>http://wetpaint-inc.com</td>\n",
       "      <td>USA</td>\n",
       "      <td>Seattle</td>\n",
       "      <td>WA</td>\n",
       "      <td>operating</td>\n",
       "      <td>2005-10-17</td>\n",
       "      <td>NaN</td>\n",
       "      <td>NaN</td>\n",
       "      <td>...</td>\n",
       "      <td>NaN</td>\n",
       "      <td>NaN</td>\n",
       "      <td>NaN</td>\n",
       "      <td>NaN</td>\n",
       "      <td>NaN</td>\n",
       "      <td>NaN</td>\n",
       "      <td>NaN</td>\n",
       "      <td>NaN</td>\n",
       "      <td>NaN</td>\n",
       "      <td>0</td>\n",
       "    </tr>\n",
       "    <tr>\n",
       "      <th>1</th>\n",
       "      <td>Flektor</td>\n",
       "      <td>flektor</td>\n",
       "      <td>http://www.flektor.com</td>\n",
       "      <td>USA</td>\n",
       "      <td>Culver City</td>\n",
       "      <td>CA</td>\n",
       "      <td>acquired</td>\n",
       "      <td>NaN</td>\n",
       "      <td>NaN</td>\n",
       "      <td>NaN</td>\n",
       "      <td>...</td>\n",
       "      <td>NaN</td>\n",
       "      <td>NaN</td>\n",
       "      <td>NaN</td>\n",
       "      <td>NaN</td>\n",
       "      <td>NaN</td>\n",
       "      <td>NaN</td>\n",
       "      <td>NaN</td>\n",
       "      <td>NaN</td>\n",
       "      <td>NaN</td>\n",
       "      <td>0</td>\n",
       "    </tr>\n",
       "    <tr>\n",
       "      <th>2</th>\n",
       "      <td>There</td>\n",
       "      <td>there</td>\n",
       "      <td>http://www.there.com</td>\n",
       "      <td>USA</td>\n",
       "      <td>San Mateo</td>\n",
       "      <td>CA</td>\n",
       "      <td>acquired</td>\n",
       "      <td>NaN</td>\n",
       "      <td>NaN</td>\n",
       "      <td>NaN</td>\n",
       "      <td>...</td>\n",
       "      <td>NaN</td>\n",
       "      <td>NaN</td>\n",
       "      <td>NaN</td>\n",
       "      <td>NaN</td>\n",
       "      <td>NaN</td>\n",
       "      <td>NaN</td>\n",
       "      <td>NaN</td>\n",
       "      <td>NaN</td>\n",
       "      <td>NaN</td>\n",
       "      <td>0</td>\n",
       "    </tr>\n",
       "    <tr>\n",
       "      <th>3</th>\n",
       "      <td>MYWEBBO</td>\n",
       "      <td>mywebbo</td>\n",
       "      <td>http://www.mywebbo.com</td>\n",
       "      <td>NaN</td>\n",
       "      <td>NaN</td>\n",
       "      <td>NaN</td>\n",
       "      <td>operating</td>\n",
       "      <td>2008-07-26</td>\n",
       "      <td>NaN</td>\n",
       "      <td>NaN</td>\n",
       "      <td>...</td>\n",
       "      <td>NaN</td>\n",
       "      <td>NaN</td>\n",
       "      <td>NaN</td>\n",
       "      <td>NaN</td>\n",
       "      <td>NaN</td>\n",
       "      <td>NaN</td>\n",
       "      <td>NaN</td>\n",
       "      <td>NaN</td>\n",
       "      <td>NaN</td>\n",
       "      <td>0</td>\n",
       "    </tr>\n",
       "    <tr>\n",
       "      <th>4</th>\n",
       "      <td>THE Movie Streamer</td>\n",
       "      <td>the movie streamer</td>\n",
       "      <td>http://themoviestreamer.com</td>\n",
       "      <td>NaN</td>\n",
       "      <td>NaN</td>\n",
       "      <td>NaN</td>\n",
       "      <td>operating</td>\n",
       "      <td>2008-07-26</td>\n",
       "      <td>NaN</td>\n",
       "      <td>NaN</td>\n",
       "      <td>...</td>\n",
       "      <td>NaN</td>\n",
       "      <td>NaN</td>\n",
       "      <td>NaN</td>\n",
       "      <td>NaN</td>\n",
       "      <td>NaN</td>\n",
       "      <td>NaN</td>\n",
       "      <td>NaN</td>\n",
       "      <td>NaN</td>\n",
       "      <td>NaN</td>\n",
       "      <td>0</td>\n",
       "    </tr>\n",
       "  </tbody>\n",
       "</table>\n",
       "<p>5 rows × 58 columns</p>\n",
       "</div>"
      ],
      "text/plain": [
       "                 name           name_norm                      Website  \\\n",
       "0            Wetpaint            wetpaint      http://wetpaint-inc.com   \n",
       "1             Flektor             flektor       http://www.flektor.com   \n",
       "2               There               there         http://www.there.com   \n",
       "3             MYWEBBO             mywebbo       http://www.mywebbo.com   \n",
       "4  THE Movie Streamer  the movie streamer  http://themoviestreamer.com   \n",
       "\n",
       "  country_code         city state_code     status  founded_at closed_at  \\\n",
       "0          USA      Seattle         WA  operating  2005-10-17       NaN   \n",
       "1          USA  Culver City         CA   acquired         NaN       NaN   \n",
       "2          USA    San Mateo         CA   acquired         NaN       NaN   \n",
       "3          NaN          NaN        NaN  operating  2008-07-26       NaN   \n",
       "4          NaN          NaN        NaN  operating  2008-07-26       NaN   \n",
       "\n",
       "  first_investment_at  ... TOP_avg_multiplicator  \\\n",
       "0                 NaN  ...                   NaN   \n",
       "1                 NaN  ...                   NaN   \n",
       "2                 NaN  ...                   NaN   \n",
       "3                 NaN  ...                   NaN   \n",
       "4                 NaN  ...                   NaN   \n",
       "\n",
       "  TOP_success_strategy_diversity_index TOP_follow_on_index  \\\n",
       "0                                  NaN                 NaN   \n",
       "1                                  NaN                 NaN   \n",
       "2                                  NaN                 NaN   \n",
       "3                                  NaN                 NaN   \n",
       "4                                  NaN                 NaN   \n",
       "\n",
       "  TOP_readiness_take_younger_startups team_size employeeRange followerCount  \\\n",
       "0                                 NaN       NaN           NaN           NaN   \n",
       "1                                 NaN       NaN           NaN           NaN   \n",
       "2                                 NaN       NaN           NaN           NaN   \n",
       "3                                 NaN       NaN           NaN           NaN   \n",
       "4                                 NaN       NaN           NaN           NaN   \n",
       "\n",
       "  positionCount stage best_company  \n",
       "0           NaN   NaN            0  \n",
       "1           NaN   NaN            0  \n",
       "2           NaN   NaN            0  \n",
       "3           NaN   NaN            0  \n",
       "4           NaN   NaN            0  \n",
       "\n",
       "[5 rows x 58 columns]"
      ]
     },
     "execution_count": 3,
     "metadata": {},
     "output_type": "execute_result"
    }
   ],
   "source": [
    "df.head()"
   ]
  },
  {
   "cell_type": "code",
   "execution_count": 4,
   "id": "7d486c19",
   "metadata": {},
   "outputs": [],
   "source": [
    "def create_connection(path):\n",
    "    connection = None\n",
    "    try:\n",
    "        connection = sqlite3.connect(path)\n",
    "        print(\"Connection to SQLite DB successful\")\n",
    "    except Error as e:\n",
    "        print(f\"The error '{e}' occurred\")\n",
    "\n",
    "    return connection\n",
    "\n",
    "def execute_query(connection, query):\n",
    "    cursor = connection.cursor()\n",
    "    try:\n",
    "        cursor.execute(query)\n",
    "        connection.commit()\n",
    "        print(\"Query executed successfully\")\n",
    "    except Error as e:\n",
    "        print(f\"The error '{e}' occurred\")"
   ]
  },
  {
   "cell_type": "code",
   "execution_count": 5,
   "id": "72d07161",
   "metadata": {},
   "outputs": [
    {
     "name": "stdout",
     "output_type": "stream",
     "text": [
      "Connection to SQLite DB successful\n"
     ]
    }
   ],
   "source": [
    "connection = create_connection(\"StartUps_DB.db\")\n",
    "\n",
    "create_table_query = f\"\"\"\n",
    "            CREATE TABLE IF NOT EXISTS StartUps_DB(\n",
    "                id SERIAL PRIMARY KEY,\n",
    "                {\", \".join([f'{column} TEXT' for column in df.columns])}\n",
    "            );\n",
    "        \"\"\""
   ]
  },
  {
   "cell_type": "code",
   "execution_count": 6,
   "id": "69f744f1",
   "metadata": {},
   "outputs": [
    {
     "data": {
      "text/plain": [
       "604428"
      ]
     },
     "execution_count": 6,
     "metadata": {},
     "output_type": "execute_result"
    }
   ],
   "source": [
    "df.to_sql('StartUps_DB', connection, if_exists='replace', index=False)"
   ]
  },
  {
   "cell_type": "code",
   "execution_count": null,
   "id": "d6ba6f3d",
   "metadata": {},
   "outputs": [],
   "source": []
  }
 ],
 "metadata": {
  "kernelspec": {
   "display_name": "Python 3 (ipykernel)",
   "language": "python",
   "name": "python3"
  },
  "language_info": {
   "codemirror_mode": {
    "name": "ipython",
    "version": 3
   },
   "file_extension": ".py",
   "mimetype": "text/x-python",
   "name": "python",
   "nbconvert_exporter": "python",
   "pygments_lexer": "ipython3",
   "version": "3.9.12"
  },
  "toc": {
   "base_numbering": 1,
   "nav_menu": {},
   "number_sections": true,
   "sideBar": true,
   "skip_h1_title": false,
   "title_cell": "Table of Contents",
   "title_sidebar": "Contents",
   "toc_cell": false,
   "toc_position": {},
   "toc_section_display": true,
   "toc_window_display": true
  }
 },
 "nbformat": 4,
 "nbformat_minor": 5
}
