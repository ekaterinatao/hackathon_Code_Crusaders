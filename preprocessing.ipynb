{
 "cells": [
  {
   "cell_type": "code",
   "execution_count": 1,
   "id": "cc3ed892",
   "metadata": {},
   "outputs": [],
   "source": [
    "import numpy as np\n",
    "import pandas as pd\n",
    "import re\n",
    "from tqdm import tqdm\n",
    "from datetime import datetime\n",
    "\n",
    "import matplotlib.pyplot as plt\n",
    "import seaborn as sns\n",
    "%matplotlib inline\n",
    "import warnings\n",
    "warnings.simplefilter(\"ignore\")"
   ]
  },
  {
   "cell_type": "code",
   "execution_count": 2,
   "id": "1461fe6f",
   "metadata": {},
   "outputs": [],
   "source": [
    "def cols_null_percent(data: pd.DataFrame) -> pd.Series:\n",
    "    \"\"\"\n",
    "    Function creates series with columns containing nans\n",
    "    and draws heatmaps of data containing nans.\n",
    "\n",
    "    :param data: dataset\n",
    "    :return: series with percent of nan values\n",
    "    \"\"\"\n",
    "    cols_null_percent = data.isnull().mean() * 100\n",
    "    cols_with_null = cols_null_percent[\n",
    "        cols_null_percent > 0\n",
    "    ].sort_values(ascending=False)\n",
    "\n",
    "    colors = ['blue', 'pink'] \n",
    "    fig = plt.figure(figsize=(16, 10))\n",
    "    sns.heatmap(\n",
    "        data[cols_with_null.index].isnull().T,\n",
    "        cmap=sns.color_palette(colors),\n",
    "    )\n",
    "\n",
    "    return cols_with_null"
   ]
  },
  {
   "cell_type": "code",
   "execution_count": 191,
   "id": "f5dd827d",
   "metadata": {},
   "outputs": [],
   "source": [
    "def plot_histograms(data: pd.DataFrame,\n",
    "                    n_row: int,\n",
    "                    figsize: tuple[int, int]) -> None:\n",
    "    \"\"\"\n",
    "    Function prints histograms with kernel density function\n",
    "    of all numerical parameters.\n",
    "\n",
    "    :param data: dataset\n",
    "    :return: None\n",
    "    \"\"\"\n",
    "    fig, axes = plt.subplots(n_row, 3, figsize=figsize)\n",
    "    plt.subplots_adjust(wspace=0.2, hspace=0.5)\n",
    "    fig.suptitle('Params distribution', fontsize=16)\n",
    "    axes = axes.flatten()\n",
    "    cols = list(data.columns)\n",
    "    if axes.shape[0] > len(cols):\n",
    "        ax_del = axes.shape[0] - len(cols)\n",
    "        for i in range(ax_del):\n",
    "            fig.delaxes(axes[axes.shape[0] - i - 1])\n",
    "\n",
    "    for i, col in enumerate(cols):\n",
    "        hist = sns.histplot(\n",
    "            data=data,\n",
    "            x=col,\n",
    "            bins=20,\n",
    "            kde=True,\n",
    "            ax=axes[i]\n",
    "        );"
   ]
  },
  {
   "cell_type": "markdown",
   "id": "d61da034",
   "metadata": {},
   "source": [
    "# Part 1. Data from `theorg.com`"
   ]
  },
  {
   "cell_type": "code",
   "execution_count": 3,
   "id": "827602ab",
   "metadata": {},
   "outputs": [
    {
     "name": "stderr",
     "output_type": "stream",
     "text": [
      "b'Skipping line 1436: expected 17 fields, saw 18\\n'\n",
      "b'Skipping line 60004: expected 17 fields, saw 19\\n'\n"
     ]
    },
    {
     "data": {
      "text/html": [
       "<div>\n",
       "<style scoped>\n",
       "    .dataframe tbody tr th:only-of-type {\n",
       "        vertical-align: middle;\n",
       "    }\n",
       "\n",
       "    .dataframe tbody tr th {\n",
       "        vertical-align: top;\n",
       "    }\n",
       "\n",
       "    .dataframe thead th {\n",
       "        text-align: right;\n",
       "    }\n",
       "</style>\n",
       "<table border=\"1\" class=\"dataframe\">\n",
       "  <thead>\n",
       "    <tr style=\"text-align: right;\">\n",
       "      <th></th>\n",
       "      <th>name</th>\n",
       "      <th>city</th>\n",
       "      <th>state</th>\n",
       "      <th>country</th>\n",
       "      <th>isPrimary</th>\n",
       "      <th>employeeRange</th>\n",
       "      <th>followerCount</th>\n",
       "      <th>positionCount</th>\n",
       "      <th>announcementsCount</th>\n",
       "      <th>following</th>\n",
       "      <th>promptDismissal</th>\n",
       "      <th>latestFundingRound</th>\n",
       "      <th>tags</th>\n",
       "      <th>verificationType</th>\n",
       "      <th>stage</th>\n",
       "      <th>websiteUrl</th>\n",
       "      <th>Industry</th>\n",
       "    </tr>\n",
       "  </thead>\n",
       "  <tbody>\n",
       "    <tr>\n",
       "      <th>0</th>\n",
       "      <td>.</td>\n",
       "      <td>Berlin</td>\n",
       "      <td>None</td>\n",
       "      <td>Germany</td>\n",
       "      <td>True</td>\n",
       "      <td>10-50</td>\n",
       "      <td>0</td>\n",
       "      <td>0</td>\n",
       "      <td>0</td>\n",
       "      <td>False</td>\n",
       "      <td>None</td>\n",
       "      <td>{'__typename': 'FundingRound', 'id': '437df374...</td>\n",
       "      <td>None</td>\n",
       "      <td>u</td>\n",
       "      <td>None</td>\n",
       "      <td>https://www.sharepop.com</td>\n",
       "      <td>['Advertising', 'Marketing']</td>\n",
       "    </tr>\n",
       "    <tr>\n",
       "      <th>1</th>\n",
       "      <td>.</td>\n",
       "      <td>None</td>\n",
       "      <td>None</td>\n",
       "      <td>None</td>\n",
       "      <td>None</td>\n",
       "      <td>None</td>\n",
       "      <td>2</td>\n",
       "      <td>1</td>\n",
       "      <td>0</td>\n",
       "      <td>False</td>\n",
       "      <td>None</td>\n",
       "      <td>None</td>\n",
       "      <td>None</td>\n",
       "      <td>u</td>\n",
       "      <td>None</td>\n",
       "      <td>None</td>\n",
       "      <td>[]</td>\n",
       "    </tr>\n",
       "    <tr>\n",
       "      <th>2</th>\n",
       "      <td>..</td>\n",
       "      <td>Vancouver</td>\n",
       "      <td>None</td>\n",
       "      <td>Canada</td>\n",
       "      <td>True</td>\n",
       "      <td>1-10</td>\n",
       "      <td>0</td>\n",
       "      <td>0</td>\n",
       "      <td>0</td>\n",
       "      <td>False</td>\n",
       "      <td>None</td>\n",
       "      <td>{'__typename': 'FundingRound', 'id': '5b066db7...</td>\n",
       "      <td>None</td>\n",
       "      <td>u</td>\n",
       "      <td>None</td>\n",
       "      <td>https://www.dojo.co/</td>\n",
       "      <td>['Electronics', 'Software']</td>\n",
       "    </tr>\n",
       "  </tbody>\n",
       "</table>\n",
       "</div>"
      ],
      "text/plain": [
       "  name       city state  country isPrimary employeeRange  followerCount  \\\n",
       "0    .     Berlin  None  Germany      True         10-50              0   \n",
       "1    .       None  None     None      None          None              2   \n",
       "2   ..  Vancouver  None   Canada      True          1-10              0   \n",
       "\n",
       "   positionCount  announcementsCount  following promptDismissal  \\\n",
       "0              0                   0      False            None   \n",
       "1              1                   0      False            None   \n",
       "2              0                   0      False            None   \n",
       "\n",
       "                                  latestFundingRound  tags verificationType  \\\n",
       "0  {'__typename': 'FundingRound', 'id': '437df374...  None                u   \n",
       "1                                               None  None                u   \n",
       "2  {'__typename': 'FundingRound', 'id': '5b066db7...  None                u   \n",
       "\n",
       "  stage                websiteUrl                      Industry  \n",
       "0  None  https://www.sharepop.com  ['Advertising', 'Marketing']  \n",
       "1  None                      None                            []  \n",
       "2  None      https://www.dojo.co/   ['Electronics', 'Software']  "
      ]
     },
     "execution_count": 3,
     "metadata": {},
     "output_type": "execute_result"
    }
   ],
   "source": [
    "raw_data1 = pd.read_csv(\n",
    "    'raw_data/dataset-full-part1.csv', sep=';', error_bad_lines=False\n",
    ")\n",
    "raw_data1.head(3)"
   ]
  },
  {
   "cell_type": "code",
   "execution_count": 4,
   "id": "0430e982",
   "metadata": {},
   "outputs": [
    {
     "data": {
      "text/plain": [
       "(131625, 17)"
      ]
     },
     "execution_count": 4,
     "metadata": {},
     "output_type": "execute_result"
    }
   ],
   "source": [
    "data1 = raw_data1.copy()\n",
    "data1.shape"
   ]
  },
  {
   "cell_type": "markdown",
   "id": "e1007411",
   "metadata": {},
   "source": [
    "___"
   ]
  },
  {
   "cell_type": "code",
   "execution_count": 5,
   "id": "a63bbdfb",
   "metadata": {},
   "outputs": [
    {
     "data": {
      "text/html": [
       "<div>\n",
       "<style scoped>\n",
       "    .dataframe tbody tr th:only-of-type {\n",
       "        vertical-align: middle;\n",
       "    }\n",
       "\n",
       "    .dataframe tbody tr th {\n",
       "        vertical-align: top;\n",
       "    }\n",
       "\n",
       "    .dataframe thead th {\n",
       "        text-align: right;\n",
       "    }\n",
       "</style>\n",
       "<table border=\"1\" class=\"dataframe\">\n",
       "  <thead>\n",
       "    <tr style=\"text-align: right;\">\n",
       "      <th></th>\n",
       "      <th>name</th>\n",
       "      <th>city</th>\n",
       "      <th>state</th>\n",
       "      <th>country</th>\n",
       "      <th>isPrimary</th>\n",
       "      <th>employeeRange</th>\n",
       "      <th>followerCount</th>\n",
       "      <th>positionCount</th>\n",
       "      <th>announcementsCount</th>\n",
       "      <th>following</th>\n",
       "      <th>promptDismissal</th>\n",
       "      <th>latestFundingRound</th>\n",
       "      <th>tags</th>\n",
       "      <th>verificationType</th>\n",
       "      <th>stage</th>\n",
       "      <th>websiteUrl</th>\n",
       "      <th>Industry</th>\n",
       "      <th>Unnamed: 17</th>\n",
       "    </tr>\n",
       "  </thead>\n",
       "  <tbody>\n",
       "    <tr>\n",
       "      <th>0</th>\n",
       "      <td>Gamesight</td>\n",
       "      <td>Seattle</td>\n",
       "      <td>WA</td>\n",
       "      <td>United States</td>\n",
       "      <td>True</td>\n",
       "      <td>10-50</td>\n",
       "      <td>0</td>\n",
       "      <td>33</td>\n",
       "      <td>0</td>\n",
       "      <td>False</td>\n",
       "      <td>None</td>\n",
       "      <td>{'__typename': 'FundingRound', 'id': 'de5e5cd8...</td>\n",
       "      <td>None</td>\n",
       "      <td>u</td>\n",
       "      <td>None</td>\n",
       "      <td>http://www.gamesight.io/</td>\n",
       "      <td>['Analytics', 'Software', 'Test &amp; Measurement']</td>\n",
       "      <td>NaN</td>\n",
       "    </tr>\n",
       "    <tr>\n",
       "      <th>1</th>\n",
       "      <td>Games Industry</td>\n",
       "      <td>None</td>\n",
       "      <td>None</td>\n",
       "      <td>None</td>\n",
       "      <td>None</td>\n",
       "      <td>1-10</td>\n",
       "      <td>0</td>\n",
       "      <td>0</td>\n",
       "      <td>0</td>\n",
       "      <td>False</td>\n",
       "      <td>None</td>\n",
       "      <td>None</td>\n",
       "      <td>None</td>\n",
       "      <td>u</td>\n",
       "      <td>None</td>\n",
       "      <td>http://www.gamesindustry.biz/</td>\n",
       "      <td>[]</td>\n",
       "      <td>NaN</td>\n",
       "    </tr>\n",
       "    <tr>\n",
       "      <th>2</th>\n",
       "      <td>Gamesite</td>\n",
       "      <td>Manchester</td>\n",
       "      <td>CT</td>\n",
       "      <td>United States</td>\n",
       "      <td>True</td>\n",
       "      <td>1-10</td>\n",
       "      <td>0</td>\n",
       "      <td>0</td>\n",
       "      <td>0</td>\n",
       "      <td>False</td>\n",
       "      <td>None</td>\n",
       "      <td>None</td>\n",
       "      <td>None</td>\n",
       "      <td>u</td>\n",
       "      <td>None</td>\n",
       "      <td>http://www.gamesiteapp.com/</td>\n",
       "      <td>['Apps', 'Mobile', 'Sports']</td>\n",
       "      <td>NaN</td>\n",
       "    </tr>\n",
       "  </tbody>\n",
       "</table>\n",
       "</div>"
      ],
      "text/plain": [
       "             name        city state        country isPrimary employeeRange  \\\n",
       "0       Gamesight     Seattle    WA  United States      True         10-50   \n",
       "1  Games Industry        None  None           None      None          1-10   \n",
       "2        Gamesite  Manchester    CT  United States      True          1-10   \n",
       "\n",
       "  followerCount  positionCount  announcementsCount following promptDismissal  \\\n",
       "0             0             33                   0     False            None   \n",
       "1             0              0                   0     False            None   \n",
       "2             0              0                   0     False            None   \n",
       "\n",
       "                                  latestFundingRound  tags verificationType  \\\n",
       "0  {'__typename': 'FundingRound', 'id': 'de5e5cd8...  None                u   \n",
       "1                                               None  None                u   \n",
       "2                                               None  None                u   \n",
       "\n",
       "  stage                     websiteUrl  \\\n",
       "0  None       http://www.gamesight.io/   \n",
       "1  None  http://www.gamesindustry.biz/   \n",
       "2  None    http://www.gamesiteapp.com/   \n",
       "\n",
       "                                          Industry Unnamed: 17  \n",
       "0  ['Analytics', 'Software', 'Test & Measurement']         NaN  \n",
       "1                                               []         NaN  \n",
       "2                     ['Apps', 'Mobile', 'Sports']         NaN  "
      ]
     },
     "execution_count": 5,
     "metadata": {},
     "output_type": "execute_result"
    }
   ],
   "source": [
    "raw_data2 = pd.read_csv(\n",
    "    'raw_data/dataset-full-part2.csv', sep=';', error_bad_lines=False\n",
    ")\n",
    "raw_data2.head(3)"
   ]
  },
  {
   "cell_type": "code",
   "execution_count": 7,
   "id": "f07af143",
   "metadata": {},
   "outputs": [
    {
     "data": {
      "text/plain": [
       "(118428, 17)"
      ]
     },
     "execution_count": 7,
     "metadata": {},
     "output_type": "execute_result"
    }
   ],
   "source": [
    "data2 = raw_data2.copy()\n",
    "data2 = data2.drop(columns='Unnamed: 17')\n",
    "data2.shape"
   ]
  },
  {
   "cell_type": "markdown",
   "id": "f0734b9f",
   "metadata": {},
   "source": [
    "___"
   ]
  },
  {
   "cell_type": "code",
   "execution_count": 8,
   "id": "19a2439c",
   "metadata": {},
   "outputs": [
    {
     "data": {
      "text/html": [
       "<div>\n",
       "<style scoped>\n",
       "    .dataframe tbody tr th:only-of-type {\n",
       "        vertical-align: middle;\n",
       "    }\n",
       "\n",
       "    .dataframe tbody tr th {\n",
       "        vertical-align: top;\n",
       "    }\n",
       "\n",
       "    .dataframe thead th {\n",
       "        text-align: right;\n",
       "    }\n",
       "</style>\n",
       "<table border=\"1\" class=\"dataframe\">\n",
       "  <thead>\n",
       "    <tr style=\"text-align: right;\">\n",
       "      <th></th>\n",
       "      <th>name</th>\n",
       "      <th>city</th>\n",
       "      <th>state</th>\n",
       "      <th>country</th>\n",
       "      <th>isPrimary</th>\n",
       "      <th>employeeRange</th>\n",
       "      <th>followerCount</th>\n",
       "      <th>positionCount</th>\n",
       "      <th>announcementsCount</th>\n",
       "      <th>following</th>\n",
       "      <th>promptDismissal</th>\n",
       "      <th>latestFundingRound</th>\n",
       "      <th>tags</th>\n",
       "      <th>verificationType</th>\n",
       "      <th>stage</th>\n",
       "      <th>websiteUrl</th>\n",
       "      <th>Industry</th>\n",
       "      <th>Unnamed: 17</th>\n",
       "    </tr>\n",
       "  </thead>\n",
       "  <tbody>\n",
       "    <tr>\n",
       "      <th>0</th>\n",
       "      <td>Pelle Pelle</td>\n",
       "      <td>None</td>\n",
       "      <td>None</td>\n",
       "      <td>None</td>\n",
       "      <td>None</td>\n",
       "      <td>10-50</td>\n",
       "      <td>1</td>\n",
       "      <td>1</td>\n",
       "      <td>0</td>\n",
       "      <td>False</td>\n",
       "      <td>None</td>\n",
       "      <td>None</td>\n",
       "      <td>None</td>\n",
       "      <td>u</td>\n",
       "      <td>None</td>\n",
       "      <td>https://pellepelle.us/</td>\n",
       "      <td>['Apparel &amp; Fashion']</td>\n",
       "      <td>NaN</td>\n",
       "    </tr>\n",
       "    <tr>\n",
       "      <th>1</th>\n",
       "      <td>Pellego</td>\n",
       "      <td>Seattle</td>\n",
       "      <td>WA</td>\n",
       "      <td>United States</td>\n",
       "      <td>True</td>\n",
       "      <td>1-10</td>\n",
       "      <td>0</td>\n",
       "      <td>0</td>\n",
       "      <td>0</td>\n",
       "      <td>False</td>\n",
       "      <td>None</td>\n",
       "      <td>None</td>\n",
       "      <td>None</td>\n",
       "      <td>u</td>\n",
       "      <td>None</td>\n",
       "      <td>https://www.pellego.com/</td>\n",
       "      <td>['Finance', 'Real Estate']</td>\n",
       "      <td>NaN</td>\n",
       "    </tr>\n",
       "    <tr>\n",
       "      <th>2</th>\n",
       "      <td>Pellegrini spa</td>\n",
       "      <td>Milan</td>\n",
       "      <td>Milano</td>\n",
       "      <td>Italy</td>\n",
       "      <td>True</td>\n",
       "      <td>5000-10000</td>\n",
       "      <td>0</td>\n",
       "      <td>0</td>\n",
       "      <td>0</td>\n",
       "      <td>False</td>\n",
       "      <td>None</td>\n",
       "      <td>None</td>\n",
       "      <td>None</td>\n",
       "      <td>u</td>\n",
       "      <td>None</td>\n",
       "      <td>https://www.gruppopellegrini.it/</td>\n",
       "      <td>['Restaurants']</td>\n",
       "      <td>NaN</td>\n",
       "    </tr>\n",
       "  </tbody>\n",
       "</table>\n",
       "</div>"
      ],
      "text/plain": [
       "             name     city   state        country isPrimary employeeRange  \\\n",
       "0     Pelle Pelle     None    None           None      None         10-50   \n",
       "1         Pellego  Seattle      WA  United States      True          1-10   \n",
       "2  Pellegrini spa    Milan  Milano          Italy      True    5000-10000   \n",
       "\n",
       "  followerCount  positionCount  announcementsCount following promptDismissal  \\\n",
       "0             1              1                   0     False            None   \n",
       "1             0              0                   0     False            None   \n",
       "2             0              0                   0     False            None   \n",
       "\n",
       "  latestFundingRound  tags verificationType stage  \\\n",
       "0               None  None                u  None   \n",
       "1               None  None                u  None   \n",
       "2               None  None                u  None   \n",
       "\n",
       "                         websiteUrl                    Industry Unnamed: 17  \n",
       "0            https://pellepelle.us/       ['Apparel & Fashion']         NaN  \n",
       "1          https://www.pellego.com/  ['Finance', 'Real Estate']         NaN  \n",
       "2  https://www.gruppopellegrini.it/             ['Restaurants']         NaN  "
      ]
     },
     "execution_count": 8,
     "metadata": {},
     "output_type": "execute_result"
    }
   ],
   "source": [
    "raw_data3 = pd.read_csv(\n",
    "    'raw_data/dataset-full-part3.csv', sep=';', error_bad_lines=False\n",
    ")\n",
    "raw_data3.head(3)"
   ]
  },
  {
   "cell_type": "code",
   "execution_count": 9,
   "id": "d78bf763",
   "metadata": {},
   "outputs": [
    {
     "data": {
      "text/plain": [
       "(128432, 17)"
      ]
     },
     "execution_count": 9,
     "metadata": {},
     "output_type": "execute_result"
    }
   ],
   "source": [
    "data3 = raw_data3.copy()\n",
    "data3 = data3.drop(columns='Unnamed: 17')\n",
    "data3.shape"
   ]
  },
  {
   "cell_type": "markdown",
   "id": "8562350e",
   "metadata": {},
   "source": [
    "___"
   ]
  },
  {
   "cell_type": "code",
   "execution_count": 10,
   "id": "4c58c4e5",
   "metadata": {},
   "outputs": [
    {
     "data": {
      "text/plain": [
       "(378485, 17)"
      ]
     },
     "execution_count": 10,
     "metadata": {},
     "output_type": "execute_result"
    }
   ],
   "source": [
    "data = pd.concat([data1, data2, data3], ignore_index=True)\n",
    "data.shape"
   ]
  },
  {
   "cell_type": "code",
   "execution_count": 11,
   "id": "e26c1081",
   "metadata": {},
   "outputs": [
    {
     "data": {
      "text/plain": [
       "761"
      ]
     },
     "execution_count": 11,
     "metadata": {},
     "output_type": "execute_result"
    }
   ],
   "source": [
    "data.duplicated().sum()"
   ]
  },
  {
   "cell_type": "code",
   "execution_count": 12,
   "id": "e07aa6f8",
   "metadata": {},
   "outputs": [
    {
     "data": {
      "text/plain": [
       "(377724, 17)"
      ]
     },
     "execution_count": 12,
     "metadata": {},
     "output_type": "execute_result"
    }
   ],
   "source": [
    "data = data.drop_duplicates(ignore_index=True)\n",
    "data.shape"
   ]
  },
  {
   "cell_type": "code",
   "execution_count": 13,
   "id": "4fd6139b",
   "metadata": {},
   "outputs": [
    {
     "data": {
      "text/html": [
       "<div>\n",
       "<style scoped>\n",
       "    .dataframe tbody tr th:only-of-type {\n",
       "        vertical-align: middle;\n",
       "    }\n",
       "\n",
       "    .dataframe tbody tr th {\n",
       "        vertical-align: top;\n",
       "    }\n",
       "\n",
       "    .dataframe thead th {\n",
       "        text-align: right;\n",
       "    }\n",
       "</style>\n",
       "<table border=\"1\" class=\"dataframe\">\n",
       "  <thead>\n",
       "    <tr style=\"text-align: right;\">\n",
       "      <th></th>\n",
       "      <th>name</th>\n",
       "      <th>city</th>\n",
       "      <th>state</th>\n",
       "      <th>country</th>\n",
       "      <th>isPrimary</th>\n",
       "      <th>employeeRange</th>\n",
       "      <th>followerCount</th>\n",
       "      <th>positionCount</th>\n",
       "      <th>announcementsCount</th>\n",
       "      <th>following</th>\n",
       "      <th>promptDismissal</th>\n",
       "      <th>latestFundingRound</th>\n",
       "      <th>tags</th>\n",
       "      <th>verificationType</th>\n",
       "      <th>stage</th>\n",
       "      <th>websiteUrl</th>\n",
       "      <th>Industry</th>\n",
       "    </tr>\n",
       "  </thead>\n",
       "  <tbody>\n",
       "    <tr>\n",
       "      <th>0</th>\n",
       "      <td>.</td>\n",
       "      <td>Berlin</td>\n",
       "      <td>None</td>\n",
       "      <td>Germany</td>\n",
       "      <td>True</td>\n",
       "      <td>10-50</td>\n",
       "      <td>0</td>\n",
       "      <td>0</td>\n",
       "      <td>0</td>\n",
       "      <td>False</td>\n",
       "      <td>None</td>\n",
       "      <td>{'__typename': 'FundingRound', 'id': '437df374...</td>\n",
       "      <td>None</td>\n",
       "      <td>u</td>\n",
       "      <td>None</td>\n",
       "      <td>https://www.sharepop.com</td>\n",
       "      <td>['Advertising', 'Marketing']</td>\n",
       "    </tr>\n",
       "    <tr>\n",
       "      <th>1</th>\n",
       "      <td>.</td>\n",
       "      <td>None</td>\n",
       "      <td>None</td>\n",
       "      <td>None</td>\n",
       "      <td>None</td>\n",
       "      <td>None</td>\n",
       "      <td>2</td>\n",
       "      <td>1</td>\n",
       "      <td>0</td>\n",
       "      <td>False</td>\n",
       "      <td>None</td>\n",
       "      <td>None</td>\n",
       "      <td>None</td>\n",
       "      <td>u</td>\n",
       "      <td>None</td>\n",
       "      <td>None</td>\n",
       "      <td>[]</td>\n",
       "    </tr>\n",
       "    <tr>\n",
       "      <th>2</th>\n",
       "      <td>..</td>\n",
       "      <td>Vancouver</td>\n",
       "      <td>None</td>\n",
       "      <td>Canada</td>\n",
       "      <td>True</td>\n",
       "      <td>1-10</td>\n",
       "      <td>0</td>\n",
       "      <td>0</td>\n",
       "      <td>0</td>\n",
       "      <td>False</td>\n",
       "      <td>None</td>\n",
       "      <td>{'__typename': 'FundingRound', 'id': '5b066db7...</td>\n",
       "      <td>None</td>\n",
       "      <td>u</td>\n",
       "      <td>None</td>\n",
       "      <td>https://www.dojo.co/</td>\n",
       "      <td>['Electronics', 'Software']</td>\n",
       "    </tr>\n",
       "    <tr>\n",
       "      <th>3</th>\n",
       "      <td>00 AGENCY, LLC</td>\n",
       "      <td>None</td>\n",
       "      <td>None</td>\n",
       "      <td>None</td>\n",
       "      <td>None</td>\n",
       "      <td>1-10</td>\n",
       "      <td>0</td>\n",
       "      <td>0</td>\n",
       "      <td>0</td>\n",
       "      <td>False</td>\n",
       "      <td>None</td>\n",
       "      <td>None</td>\n",
       "      <td>None</td>\n",
       "      <td>u</td>\n",
       "      <td>None</td>\n",
       "      <td>https://the00agency.com</td>\n",
       "      <td>[]</td>\n",
       "    </tr>\n",
       "    <tr>\n",
       "      <th>4</th>\n",
       "      <td>011 Communications</td>\n",
       "      <td>El Segundo</td>\n",
       "      <td>CA</td>\n",
       "      <td>United States</td>\n",
       "      <td>True</td>\n",
       "      <td>1-10</td>\n",
       "      <td>0</td>\n",
       "      <td>0</td>\n",
       "      <td>0</td>\n",
       "      <td>False</td>\n",
       "      <td>None</td>\n",
       "      <td>None</td>\n",
       "      <td>None</td>\n",
       "      <td>u</td>\n",
       "      <td>None</td>\n",
       "      <td>https://www.011communications.com/</td>\n",
       "      <td>['Telecommunications']</td>\n",
       "    </tr>\n",
       "  </tbody>\n",
       "</table>\n",
       "</div>"
      ],
      "text/plain": [
       "                 name        city state        country isPrimary  \\\n",
       "0                   .      Berlin  None        Germany      True   \n",
       "1                   .        None  None           None      None   \n",
       "2                  ..   Vancouver  None         Canada      True   \n",
       "3      00 AGENCY, LLC        None  None           None      None   \n",
       "4  011 Communications  El Segundo    CA  United States      True   \n",
       "\n",
       "  employeeRange followerCount  positionCount  announcementsCount following  \\\n",
       "0         10-50             0              0                   0     False   \n",
       "1          None             2              1                   0     False   \n",
       "2          1-10             0              0                   0     False   \n",
       "3          1-10             0              0                   0     False   \n",
       "4          1-10             0              0                   0     False   \n",
       "\n",
       "  promptDismissal                                 latestFundingRound  tags  \\\n",
       "0            None  {'__typename': 'FundingRound', 'id': '437df374...  None   \n",
       "1            None                                               None  None   \n",
       "2            None  {'__typename': 'FundingRound', 'id': '5b066db7...  None   \n",
       "3            None                                               None  None   \n",
       "4            None                                               None  None   \n",
       "\n",
       "  verificationType stage                          websiteUrl  \\\n",
       "0                u  None            https://www.sharepop.com   \n",
       "1                u  None                                None   \n",
       "2                u  None                https://www.dojo.co/   \n",
       "3                u  None             https://the00agency.com   \n",
       "4                u  None  https://www.011communications.com/   \n",
       "\n",
       "                       Industry  \n",
       "0  ['Advertising', 'Marketing']  \n",
       "1                            []  \n",
       "2   ['Electronics', 'Software']  \n",
       "3                            []  \n",
       "4        ['Telecommunications']  "
      ]
     },
     "execution_count": 13,
     "metadata": {},
     "output_type": "execute_result"
    }
   ],
   "source": [
    "data.head()"
   ]
  },
  {
   "cell_type": "code",
   "execution_count": 14,
   "id": "19528d29",
   "metadata": {},
   "outputs": [
    {
     "name": "stdout",
     "output_type": "stream",
     "text": [
      "<class 'pandas.core.frame.DataFrame'>\n",
      "RangeIndex: 377724 entries, 0 to 377723\n",
      "Data columns (total 17 columns):\n",
      " #   Column              Non-Null Count   Dtype \n",
      "---  ------              --------------   ----- \n",
      " 0   name                377721 non-null  object\n",
      " 1   city                373784 non-null  object\n",
      " 2   state               377723 non-null  object\n",
      " 3   country             377710 non-null  object\n",
      " 4   isPrimary           377724 non-null  object\n",
      " 5   employeeRange       377724 non-null  object\n",
      " 6   followerCount       377724 non-null  object\n",
      " 7   positionCount       377724 non-null  int64 \n",
      " 8   announcementsCount  377724 non-null  int64 \n",
      " 9   following           377724 non-null  object\n",
      " 10  promptDismissal     377724 non-null  object\n",
      " 11  latestFundingRound  377724 non-null  object\n",
      " 12  tags                377724 non-null  object\n",
      " 13  verificationType    377724 non-null  object\n",
      " 14  stage               377724 non-null  object\n",
      " 15  websiteUrl          377724 non-null  object\n",
      " 16  Industry            377724 non-null  object\n",
      "dtypes: int64(2), object(15)\n",
      "memory usage: 49.0+ MB\n"
     ]
    }
   ],
   "source": [
    "data.info()"
   ]
  },
  {
   "cell_type": "markdown",
   "id": "d03f1d0f",
   "metadata": {},
   "source": [
    "#### Drop noninformative columns"
   ]
  },
  {
   "cell_type": "code",
   "execution_count": 15,
   "id": "5b4d2de6",
   "metadata": {},
   "outputs": [
    {
     "data": {
      "text/plain": [
       "True             346495\n",
       "None              31222\n",
       "United States         4\n",
       "Japan                 2\n",
       "Germany               1\n",
       "Name: isPrimary, dtype: int64"
      ]
     },
     "execution_count": 15,
     "metadata": {},
     "output_type": "execute_result"
    }
   ],
   "source": [
    "data['isPrimary'].value_counts()"
   ]
  },
  {
   "cell_type": "code",
   "execution_count": 16,
   "id": "57d1e398",
   "metadata": {},
   "outputs": [
    {
     "data": {
      "text/plain": [
       "count     377724\n",
       "unique       428\n",
       "top            0\n",
       "freq      186819\n",
       "Name: followerCount, dtype: int64"
      ]
     },
     "execution_count": 16,
     "metadata": {},
     "output_type": "execute_result"
    }
   ],
   "source": [
    "data['followerCount'].describe()"
   ]
  },
  {
   "cell_type": "code",
   "execution_count": 17,
   "id": "d993fcdd",
   "metadata": {},
   "outputs": [
    {
     "data": {
      "text/plain": [
       "0      179871\n",
       "2       17312\n",
       "1       15514\n",
       "3       12765\n",
       "4       10894\n",
       "        ...  \n",
       "420         1\n",
       "356         1\n",
       "408         1\n",
       "372         1\n",
       "297         1\n",
       "Name: positionCount, Length: 396, dtype: int64"
      ]
     },
     "execution_count": 17,
     "metadata": {},
     "output_type": "execute_result"
    }
   ],
   "source": [
    "data['positionCount'].value_counts()"
   ]
  },
  {
   "cell_type": "code",
   "execution_count": 18,
   "id": "4cb910ac",
   "metadata": {},
   "outputs": [
    {
     "data": {
      "text/plain": [
       "0     377723\n",
       "16         1\n",
       "Name: announcementsCount, dtype: int64"
      ]
     },
     "execution_count": 18,
     "metadata": {},
     "output_type": "execute_result"
    }
   ],
   "source": [
    "data['announcementsCount'].value_counts()"
   ]
  },
  {
   "cell_type": "code",
   "execution_count": 19,
   "id": "572a3edf",
   "metadata": {},
   "outputs": [
    {
     "data": {
      "text/plain": [
       "False    216882\n",
       "False    160834\n",
       "0             8\n",
       "Name: following, dtype: int64"
      ]
     },
     "execution_count": 19,
     "metadata": {},
     "output_type": "execute_result"
    }
   ],
   "source": [
    "data['following'].value_counts()"
   ]
  },
  {
   "cell_type": "code",
   "execution_count": 20,
   "id": "2690ae76",
   "metadata": {},
   "outputs": [
    {
     "data": {
      "text/plain": [
       "None     377716\n",
       "False         8\n",
       "Name: promptDismissal, dtype: int64"
      ]
     },
     "execution_count": 20,
     "metadata": {},
     "output_type": "execute_result"
    }
   ],
   "source": [
    "data['promptDismissal'].value_counts()"
   ]
  },
  {
   "cell_type": "code",
   "execution_count": 21,
   "id": "20352d2d",
   "metadata": {},
   "outputs": [
    {
     "data": {
      "text/plain": [
       "None                                                                                                       377723\n",
       "{'__typename': 'FundingRound', 'id': '979822cc-2e09-4264-93e1-c62fdcb5e202', 'fundingType': 'series_d'}         1\n",
       "Name: tags, dtype: int64"
      ]
     },
     "execution_count": 21,
     "metadata": {},
     "output_type": "execute_result"
    }
   ],
   "source": [
    "data['tags'].value_counts()"
   ]
  },
  {
   "cell_type": "code",
   "execution_count": 22,
   "id": "3b9e1f6c",
   "metadata": {},
   "outputs": [
    {
     "data": {
      "text/plain": [
       "u       376605\n",
       "b         1111\n",
       "None         8\n",
       "Name: verificationType, dtype: int64"
      ]
     },
     "execution_count": 22,
     "metadata": {},
     "output_type": "execute_result"
    }
   ],
   "source": [
    "data['verificationType'].value_counts()"
   ]
  },
  {
   "cell_type": "code",
   "execution_count": 23,
   "id": "f9c9a077",
   "metadata": {},
   "outputs": [
    {
     "data": {
      "text/plain": [
       "None           358947\n",
       "established      8357\n",
       "startup          7751\n",
       "other            2661\n",
       "u                   8\n",
       "Name: stage, dtype: int64"
      ]
     },
     "execution_count": 23,
     "metadata": {},
     "output_type": "execute_result"
    }
   ],
   "source": [
    "data['stage'].value_counts()"
   ]
  },
  {
   "cell_type": "code",
   "execution_count": 24,
   "id": "68696c80",
   "metadata": {},
   "outputs": [],
   "source": [
    "data = data.drop(columns=[\n",
    "    'isPrimary', 'announcementsCount', 'following',\n",
    "    'promptDismissal', 'tags', 'verificationType'\n",
    "])"
   ]
  },
  {
   "cell_type": "markdown",
   "id": "e46e0d7d",
   "metadata": {},
   "source": [
    "### Drop empty names"
   ]
  },
  {
   "cell_type": "code",
   "execution_count": 25,
   "id": "c9bf3041",
   "metadata": {},
   "outputs": [
    {
     "data": {
      "text/html": [
       "<div>\n",
       "<style scoped>\n",
       "    .dataframe tbody tr th:only-of-type {\n",
       "        vertical-align: middle;\n",
       "    }\n",
       "\n",
       "    .dataframe tbody tr th {\n",
       "        vertical-align: top;\n",
       "    }\n",
       "\n",
       "    .dataframe thead th {\n",
       "        text-align: right;\n",
       "    }\n",
       "</style>\n",
       "<table border=\"1\" class=\"dataframe\">\n",
       "  <thead>\n",
       "    <tr style=\"text-align: right;\">\n",
       "      <th></th>\n",
       "      <th>name</th>\n",
       "      <th>city</th>\n",
       "      <th>state</th>\n",
       "      <th>country</th>\n",
       "      <th>employeeRange</th>\n",
       "      <th>followerCount</th>\n",
       "      <th>positionCount</th>\n",
       "      <th>latestFundingRound</th>\n",
       "      <th>stage</th>\n",
       "      <th>websiteUrl</th>\n",
       "      <th>Industry</th>\n",
       "    </tr>\n",
       "  </thead>\n",
       "  <tbody>\n",
       "    <tr>\n",
       "      <th>222455</th>\n",
       "      <td>NaN</td>\n",
       "      <td>None</td>\n",
       "      <td>None</td>\n",
       "      <td>None</td>\n",
       "      <td>None</td>\n",
       "      <td>0</td>\n",
       "      <td>0</td>\n",
       "      <td>None</td>\n",
       "      <td>None</td>\n",
       "      <td>None</td>\n",
       "      <td>[]</td>\n",
       "    </tr>\n",
       "    <tr>\n",
       "      <th>222456</th>\n",
       "      <td>NaN</td>\n",
       "      <td>Houston</td>\n",
       "      <td>TX</td>\n",
       "      <td>United States</td>\n",
       "      <td>10-50</td>\n",
       "      <td>0</td>\n",
       "      <td>0</td>\n",
       "      <td>{'__typename': 'FundingRound', 'id': 'dfc645ff...</td>\n",
       "      <td>None</td>\n",
       "      <td>https://www.myglobalexpertise.com/</td>\n",
       "      <td>['Logistics &amp; Supply Chain']</td>\n",
       "    </tr>\n",
       "    <tr>\n",
       "      <th>222457</th>\n",
       "      <td>NaN</td>\n",
       "      <td>None</td>\n",
       "      <td>None</td>\n",
       "      <td>None</td>\n",
       "      <td>10-50</td>\n",
       "      <td>1</td>\n",
       "      <td>51</td>\n",
       "      <td>{'__typename': 'FundingRound', 'id': '10c6a2d3...</td>\n",
       "      <td>None</td>\n",
       "      <td>http://www.leydenlabs.com/</td>\n",
       "      <td>['Biotechnology', 'Therapeutics']</td>\n",
       "    </tr>\n",
       "  </tbody>\n",
       "</table>\n",
       "</div>"
      ],
      "text/plain": [
       "       name     city state        country employeeRange followerCount  \\\n",
       "222455  NaN     None  None           None          None             0   \n",
       "222456  NaN  Houston    TX  United States         10-50             0   \n",
       "222457  NaN     None  None           None         10-50             1   \n",
       "\n",
       "        positionCount                                 latestFundingRound  \\\n",
       "222455              0                                               None   \n",
       "222456              0  {'__typename': 'FundingRound', 'id': 'dfc645ff...   \n",
       "222457             51  {'__typename': 'FundingRound', 'id': '10c6a2d3...   \n",
       "\n",
       "       stage                          websiteUrl  \\\n",
       "222455  None                                None   \n",
       "222456  None  https://www.myglobalexpertise.com/   \n",
       "222457  None          http://www.leydenlabs.com/   \n",
       "\n",
       "                                 Industry  \n",
       "222455                                 []  \n",
       "222456       ['Logistics & Supply Chain']  \n",
       "222457  ['Biotechnology', 'Therapeutics']  "
      ]
     },
     "execution_count": 25,
     "metadata": {},
     "output_type": "execute_result"
    }
   ],
   "source": [
    "data[data['name'].isna()]"
   ]
  },
  {
   "cell_type": "code",
   "execution_count": 26,
   "id": "2c238f82",
   "metadata": {},
   "outputs": [],
   "source": [
    "data.loc[222456, 'name'] = 'myglobalexpertise.com'\n",
    "data.loc[222457, 'name'] = 'Leyden Labs'\n",
    "data = data[data.index != 222455].reset_index(drop=True)"
   ]
  },
  {
   "cell_type": "code",
   "execution_count": 27,
   "id": "e8fb0bba",
   "metadata": {},
   "outputs": [
    {
     "data": {
      "text/html": [
       "<div>\n",
       "<style scoped>\n",
       "    .dataframe tbody tr th:only-of-type {\n",
       "        vertical-align: middle;\n",
       "    }\n",
       "\n",
       "    .dataframe tbody tr th {\n",
       "        vertical-align: top;\n",
       "    }\n",
       "\n",
       "    .dataframe thead th {\n",
       "        text-align: right;\n",
       "    }\n",
       "</style>\n",
       "<table border=\"1\" class=\"dataframe\">\n",
       "  <thead>\n",
       "    <tr style=\"text-align: right;\">\n",
       "      <th></th>\n",
       "      <th>name</th>\n",
       "      <th>city</th>\n",
       "      <th>state</th>\n",
       "      <th>country</th>\n",
       "      <th>employeeRange</th>\n",
       "      <th>followerCount</th>\n",
       "      <th>positionCount</th>\n",
       "      <th>latestFundingRound</th>\n",
       "      <th>stage</th>\n",
       "      <th>websiteUrl</th>\n",
       "      <th>Industry</th>\n",
       "    </tr>\n",
       "  </thead>\n",
       "  <tbody>\n",
       "    <tr>\n",
       "      <th>0</th>\n",
       "      <td>NaN</td>\n",
       "      <td>Berlin</td>\n",
       "      <td>None</td>\n",
       "      <td>Germany</td>\n",
       "      <td>10-50</td>\n",
       "      <td>0</td>\n",
       "      <td>0</td>\n",
       "      <td>{'__typename': 'FundingRound', 'id': '437df374...</td>\n",
       "      <td>None</td>\n",
       "      <td>https://www.sharepop.com</td>\n",
       "      <td>['Advertising', 'Marketing']</td>\n",
       "    </tr>\n",
       "    <tr>\n",
       "      <th>1</th>\n",
       "      <td>NaN</td>\n",
       "      <td>None</td>\n",
       "      <td>None</td>\n",
       "      <td>None</td>\n",
       "      <td>None</td>\n",
       "      <td>2</td>\n",
       "      <td>1</td>\n",
       "      <td>None</td>\n",
       "      <td>None</td>\n",
       "      <td>None</td>\n",
       "      <td>[]</td>\n",
       "    </tr>\n",
       "    <tr>\n",
       "      <th>2</th>\n",
       "      <td>NaN</td>\n",
       "      <td>Vancouver</td>\n",
       "      <td>None</td>\n",
       "      <td>Canada</td>\n",
       "      <td>1-10</td>\n",
       "      <td>0</td>\n",
       "      <td>0</td>\n",
       "      <td>{'__typename': 'FundingRound', 'id': '5b066db7...</td>\n",
       "      <td>None</td>\n",
       "      <td>https://www.dojo.co/</td>\n",
       "      <td>['Electronics', 'Software']</td>\n",
       "    </tr>\n",
       "    <tr>\n",
       "      <th>3</th>\n",
       "      <td>00 AGENCY, LLC</td>\n",
       "      <td>None</td>\n",
       "      <td>None</td>\n",
       "      <td>None</td>\n",
       "      <td>1-10</td>\n",
       "      <td>0</td>\n",
       "      <td>0</td>\n",
       "      <td>None</td>\n",
       "      <td>None</td>\n",
       "      <td>https://the00agency.com</td>\n",
       "      <td>[]</td>\n",
       "    </tr>\n",
       "    <tr>\n",
       "      <th>4</th>\n",
       "      <td>011 Communications</td>\n",
       "      <td>El Segundo</td>\n",
       "      <td>CA</td>\n",
       "      <td>United States</td>\n",
       "      <td>1-10</td>\n",
       "      <td>0</td>\n",
       "      <td>0</td>\n",
       "      <td>None</td>\n",
       "      <td>None</td>\n",
       "      <td>https://www.011communications.com/</td>\n",
       "      <td>['Telecommunications']</td>\n",
       "    </tr>\n",
       "  </tbody>\n",
       "</table>\n",
       "</div>"
      ],
      "text/plain": [
       "                 name        city state        country employeeRange  \\\n",
       "0                 NaN      Berlin  None        Germany         10-50   \n",
       "1                 NaN        None  None           None          None   \n",
       "2                 NaN   Vancouver  None         Canada          1-10   \n",
       "3      00 AGENCY, LLC        None  None           None          1-10   \n",
       "4  011 Communications  El Segundo    CA  United States          1-10   \n",
       "\n",
       "  followerCount  positionCount  \\\n",
       "0             0              0   \n",
       "1             2              1   \n",
       "2             0              0   \n",
       "3             0              0   \n",
       "4             0              0   \n",
       "\n",
       "                                  latestFundingRound stage  \\\n",
       "0  {'__typename': 'FundingRound', 'id': '437df374...  None   \n",
       "1                                               None  None   \n",
       "2  {'__typename': 'FundingRound', 'id': '5b066db7...  None   \n",
       "3                                               None  None   \n",
       "4                                               None  None   \n",
       "\n",
       "                           websiteUrl                      Industry  \n",
       "0            https://www.sharepop.com  ['Advertising', 'Marketing']  \n",
       "1                                None                            []  \n",
       "2                https://www.dojo.co/   ['Electronics', 'Software']  \n",
       "3             https://the00agency.com                            []  \n",
       "4  https://www.011communications.com/        ['Telecommunications']  "
      ]
     },
     "execution_count": 27,
     "metadata": {},
     "output_type": "execute_result"
    }
   ],
   "source": [
    "def col_name(column):\n",
    "    if not re.findall(r\"[\\w]+\", column):\n",
    "        col = np.nan\n",
    "    else:\n",
    "        col = column\n",
    "    return col\n",
    "\n",
    "\n",
    "data['name'] = data['name'].apply(col_name)\n",
    "data.head()"
   ]
  },
  {
   "cell_type": "code",
   "execution_count": 28,
   "id": "8eb61457",
   "metadata": {},
   "outputs": [
    {
     "data": {
      "text/html": [
       "<div>\n",
       "<style scoped>\n",
       "    .dataframe tbody tr th:only-of-type {\n",
       "        vertical-align: middle;\n",
       "    }\n",
       "\n",
       "    .dataframe tbody tr th {\n",
       "        vertical-align: top;\n",
       "    }\n",
       "\n",
       "    .dataframe thead th {\n",
       "        text-align: right;\n",
       "    }\n",
       "</style>\n",
       "<table border=\"1\" class=\"dataframe\">\n",
       "  <thead>\n",
       "    <tr style=\"text-align: right;\">\n",
       "      <th></th>\n",
       "      <th>name</th>\n",
       "      <th>city</th>\n",
       "      <th>state</th>\n",
       "      <th>country</th>\n",
       "      <th>employeeRange</th>\n",
       "      <th>followerCount</th>\n",
       "      <th>positionCount</th>\n",
       "      <th>latestFundingRound</th>\n",
       "      <th>stage</th>\n",
       "      <th>websiteUrl</th>\n",
       "      <th>Industry</th>\n",
       "    </tr>\n",
       "  </thead>\n",
       "  <tbody>\n",
       "    <tr>\n",
       "      <th>0</th>\n",
       "      <td>NaN</td>\n",
       "      <td>Berlin</td>\n",
       "      <td>None</td>\n",
       "      <td>Germany</td>\n",
       "      <td>10-50</td>\n",
       "      <td>0</td>\n",
       "      <td>0</td>\n",
       "      <td>{'__typename': 'FundingRound', 'id': '437df374...</td>\n",
       "      <td>None</td>\n",
       "      <td>https://www.sharepop.com</td>\n",
       "      <td>['Advertising', 'Marketing']</td>\n",
       "    </tr>\n",
       "    <tr>\n",
       "      <th>1</th>\n",
       "      <td>NaN</td>\n",
       "      <td>None</td>\n",
       "      <td>None</td>\n",
       "      <td>None</td>\n",
       "      <td>None</td>\n",
       "      <td>2</td>\n",
       "      <td>1</td>\n",
       "      <td>None</td>\n",
       "      <td>None</td>\n",
       "      <td>None</td>\n",
       "      <td>[]</td>\n",
       "    </tr>\n",
       "    <tr>\n",
       "      <th>2</th>\n",
       "      <td>NaN</td>\n",
       "      <td>Vancouver</td>\n",
       "      <td>None</td>\n",
       "      <td>Canada</td>\n",
       "      <td>1-10</td>\n",
       "      <td>0</td>\n",
       "      <td>0</td>\n",
       "      <td>{'__typename': 'FundingRound', 'id': '5b066db7...</td>\n",
       "      <td>None</td>\n",
       "      <td>https://www.dojo.co/</td>\n",
       "      <td>['Electronics', 'Software']</td>\n",
       "    </tr>\n",
       "    <tr>\n",
       "      <th>136636</th>\n",
       "      <td>NaN</td>\n",
       "      <td>None</td>\n",
       "      <td>None</td>\n",
       "      <td>None</td>\n",
       "      <td>1-10</td>\n",
       "      <td>1</td>\n",
       "      <td>1</td>\n",
       "      <td>None</td>\n",
       "      <td>startup</td>\n",
       "      <td>None</td>\n",
       "      <td>[]</td>\n",
       "    </tr>\n",
       "    <tr>\n",
       "      <th>356336</th>\n",
       "      <td>NaN</td>\n",
       "      <td>None</td>\n",
       "      <td>None</td>\n",
       "      <td>None</td>\n",
       "      <td>None</td>\n",
       "      <td>2</td>\n",
       "      <td>1</td>\n",
       "      <td>None</td>\n",
       "      <td>None</td>\n",
       "      <td>None</td>\n",
       "      <td>[]</td>\n",
       "    </tr>\n",
       "  </tbody>\n",
       "</table>\n",
       "</div>"
      ],
      "text/plain": [
       "       name       city state  country employeeRange followerCount  \\\n",
       "0       NaN     Berlin  None  Germany         10-50             0   \n",
       "1       NaN       None  None     None          None             2   \n",
       "2       NaN  Vancouver  None   Canada          1-10             0   \n",
       "136636  NaN       None  None     None          1-10             1   \n",
       "356336  NaN       None  None     None          None             2   \n",
       "\n",
       "        positionCount                                 latestFundingRound  \\\n",
       "0                   0  {'__typename': 'FundingRound', 'id': '437df374...   \n",
       "1                   1                                               None   \n",
       "2                   0  {'__typename': 'FundingRound', 'id': '5b066db7...   \n",
       "136636              1                                               None   \n",
       "356336              1                                               None   \n",
       "\n",
       "          stage                websiteUrl                      Industry  \n",
       "0          None  https://www.sharepop.com  ['Advertising', 'Marketing']  \n",
       "1          None                      None                            []  \n",
       "2          None      https://www.dojo.co/   ['Electronics', 'Software']  \n",
       "136636  startup                      None                            []  \n",
       "356336     None                      None                            []  "
      ]
     },
     "execution_count": 28,
     "metadata": {},
     "output_type": "execute_result"
    }
   ],
   "source": [
    "data[data['name'].isna()]"
   ]
  },
  {
   "cell_type": "code",
   "execution_count": 29,
   "id": "81deb233",
   "metadata": {},
   "outputs": [
    {
     "data": {
      "text/html": [
       "<div>\n",
       "<style scoped>\n",
       "    .dataframe tbody tr th:only-of-type {\n",
       "        vertical-align: middle;\n",
       "    }\n",
       "\n",
       "    .dataframe tbody tr th {\n",
       "        vertical-align: top;\n",
       "    }\n",
       "\n",
       "    .dataframe thead th {\n",
       "        text-align: right;\n",
       "    }\n",
       "</style>\n",
       "<table border=\"1\" class=\"dataframe\">\n",
       "  <thead>\n",
       "    <tr style=\"text-align: right;\">\n",
       "      <th></th>\n",
       "      <th>name</th>\n",
       "      <th>city</th>\n",
       "      <th>state</th>\n",
       "      <th>country</th>\n",
       "      <th>employeeRange</th>\n",
       "      <th>followerCount</th>\n",
       "      <th>positionCount</th>\n",
       "      <th>latestFundingRound</th>\n",
       "      <th>stage</th>\n",
       "      <th>websiteUrl</th>\n",
       "      <th>Industry</th>\n",
       "    </tr>\n",
       "  </thead>\n",
       "  <tbody>\n",
       "    <tr>\n",
       "      <th>0</th>\n",
       "      <td>NaN</td>\n",
       "      <td>Berlin</td>\n",
       "      <td>None</td>\n",
       "      <td>Germany</td>\n",
       "      <td>10-50</td>\n",
       "      <td>0</td>\n",
       "      <td>0</td>\n",
       "      <td>{'__typename': 'FundingRound', 'id': '437df374...</td>\n",
       "      <td>None</td>\n",
       "      <td>https://www.sharepop.com</td>\n",
       "      <td>['Advertising', 'Marketing']</td>\n",
       "    </tr>\n",
       "    <tr>\n",
       "      <th>1</th>\n",
       "      <td>NaN</td>\n",
       "      <td>Vancouver</td>\n",
       "      <td>None</td>\n",
       "      <td>Canada</td>\n",
       "      <td>1-10</td>\n",
       "      <td>0</td>\n",
       "      <td>0</td>\n",
       "      <td>{'__typename': 'FundingRound', 'id': '5b066db7...</td>\n",
       "      <td>None</td>\n",
       "      <td>https://www.dojo.co/</td>\n",
       "      <td>['Electronics', 'Software']</td>\n",
       "    </tr>\n",
       "  </tbody>\n",
       "</table>\n",
       "</div>"
      ],
      "text/plain": [
       "  name       city state  country employeeRange followerCount  positionCount  \\\n",
       "0  NaN     Berlin  None  Germany         10-50             0              0   \n",
       "1  NaN  Vancouver  None   Canada          1-10             0              0   \n",
       "\n",
       "                                  latestFundingRound stage  \\\n",
       "0  {'__typename': 'FundingRound', 'id': '437df374...  None   \n",
       "1  {'__typename': 'FundingRound', 'id': '5b066db7...  None   \n",
       "\n",
       "                 websiteUrl                      Industry  \n",
       "0  https://www.sharepop.com  ['Advertising', 'Marketing']  \n",
       "1      https://www.dojo.co/   ['Electronics', 'Software']  "
      ]
     },
     "execution_count": 29,
     "metadata": {},
     "output_type": "execute_result"
    }
   ],
   "source": [
    "data = data[(data.index != 1) \n",
    "            & (data.index != 136636) \n",
    "            & (data.index != 356336)].reset_index(drop=True)\n",
    "data[data['name'].isna()]"
   ]
  },
  {
   "cell_type": "code",
   "execution_count": 30,
   "id": "76f9954b",
   "metadata": {},
   "outputs": [
    {
     "data": {
      "text/html": [
       "<div>\n",
       "<style scoped>\n",
       "    .dataframe tbody tr th:only-of-type {\n",
       "        vertical-align: middle;\n",
       "    }\n",
       "\n",
       "    .dataframe tbody tr th {\n",
       "        vertical-align: top;\n",
       "    }\n",
       "\n",
       "    .dataframe thead th {\n",
       "        text-align: right;\n",
       "    }\n",
       "</style>\n",
       "<table border=\"1\" class=\"dataframe\">\n",
       "  <thead>\n",
       "    <tr style=\"text-align: right;\">\n",
       "      <th></th>\n",
       "      <th>name</th>\n",
       "      <th>city</th>\n",
       "      <th>state</th>\n",
       "      <th>country</th>\n",
       "      <th>employeeRange</th>\n",
       "      <th>followerCount</th>\n",
       "      <th>positionCount</th>\n",
       "      <th>latestFundingRound</th>\n",
       "      <th>stage</th>\n",
       "      <th>websiteUrl</th>\n",
       "      <th>Industry</th>\n",
       "    </tr>\n",
       "  </thead>\n",
       "  <tbody>\n",
       "    <tr>\n",
       "      <th>0</th>\n",
       "      <td>Dan.com</td>\n",
       "      <td>Berlin</td>\n",
       "      <td>None</td>\n",
       "      <td>Germany</td>\n",
       "      <td>10-50</td>\n",
       "      <td>0</td>\n",
       "      <td>0</td>\n",
       "      <td>{'__typename': 'FundingRound', 'id': '437df374...</td>\n",
       "      <td>None</td>\n",
       "      <td>https://www.sharepop.com</td>\n",
       "      <td>['Advertising', 'Marketing']</td>\n",
       "    </tr>\n",
       "    <tr>\n",
       "      <th>1</th>\n",
       "      <td>DOJO</td>\n",
       "      <td>Vancouver</td>\n",
       "      <td>None</td>\n",
       "      <td>Canada</td>\n",
       "      <td>1-10</td>\n",
       "      <td>0</td>\n",
       "      <td>0</td>\n",
       "      <td>{'__typename': 'FundingRound', 'id': '5b066db7...</td>\n",
       "      <td>None</td>\n",
       "      <td>https://www.dojo.co/</td>\n",
       "      <td>['Electronics', 'Software']</td>\n",
       "    </tr>\n",
       "    <tr>\n",
       "      <th>2</th>\n",
       "      <td>00 AGENCY, LLC</td>\n",
       "      <td>None</td>\n",
       "      <td>None</td>\n",
       "      <td>None</td>\n",
       "      <td>1-10</td>\n",
       "      <td>0</td>\n",
       "      <td>0</td>\n",
       "      <td>None</td>\n",
       "      <td>None</td>\n",
       "      <td>https://the00agency.com</td>\n",
       "      <td>[]</td>\n",
       "    </tr>\n",
       "    <tr>\n",
       "      <th>3</th>\n",
       "      <td>011 Communications</td>\n",
       "      <td>El Segundo</td>\n",
       "      <td>CA</td>\n",
       "      <td>United States</td>\n",
       "      <td>1-10</td>\n",
       "      <td>0</td>\n",
       "      <td>0</td>\n",
       "      <td>None</td>\n",
       "      <td>None</td>\n",
       "      <td>https://www.011communications.com/</td>\n",
       "      <td>['Telecommunications']</td>\n",
       "    </tr>\n",
       "    <tr>\n",
       "      <th>4</th>\n",
       "      <td>011h</td>\n",
       "      <td>Barcelona</td>\n",
       "      <td>None</td>\n",
       "      <td>Spain</td>\n",
       "      <td>10-50</td>\n",
       "      <td>0</td>\n",
       "      <td>40</td>\n",
       "      <td>None</td>\n",
       "      <td>None</td>\n",
       "      <td>https://www.011h.com/</td>\n",
       "      <td>['Architecture', 'Construction']</td>\n",
       "    </tr>\n",
       "  </tbody>\n",
       "</table>\n",
       "</div>"
      ],
      "text/plain": [
       "                 name        city state        country employeeRange  \\\n",
       "0             Dan.com      Berlin  None        Germany         10-50   \n",
       "1                DOJO   Vancouver  None         Canada          1-10   \n",
       "2      00 AGENCY, LLC        None  None           None          1-10   \n",
       "3  011 Communications  El Segundo    CA  United States          1-10   \n",
       "4                011h   Barcelona  None          Spain         10-50   \n",
       "\n",
       "  followerCount  positionCount  \\\n",
       "0             0              0   \n",
       "1             0              0   \n",
       "2             0              0   \n",
       "3             0              0   \n",
       "4             0             40   \n",
       "\n",
       "                                  latestFundingRound stage  \\\n",
       "0  {'__typename': 'FundingRound', 'id': '437df374...  None   \n",
       "1  {'__typename': 'FundingRound', 'id': '5b066db7...  None   \n",
       "2                                               None  None   \n",
       "3                                               None  None   \n",
       "4                                               None  None   \n",
       "\n",
       "                           websiteUrl                          Industry  \n",
       "0            https://www.sharepop.com      ['Advertising', 'Marketing']  \n",
       "1                https://www.dojo.co/       ['Electronics', 'Software']  \n",
       "2             https://the00agency.com                                []  \n",
       "3  https://www.011communications.com/            ['Telecommunications']  \n",
       "4               https://www.011h.com/  ['Architecture', 'Construction']  "
      ]
     },
     "execution_count": 30,
     "metadata": {},
     "output_type": "execute_result"
    }
   ],
   "source": [
    "data.loc[0, 'name'] = 'Dan.com'\n",
    "data.loc[1, 'name'] = 'DOJO'\n",
    "data.head()"
   ]
  },
  {
   "cell_type": "markdown",
   "id": "64cf88d5",
   "metadata": {},
   "source": [
    "### Funding type"
   ]
  },
  {
   "cell_type": "code",
   "execution_count": 31,
   "id": "eccfccb1",
   "metadata": {},
   "outputs": [],
   "source": [
    "def col_funding(column):\n",
    "    try:\n",
    "        col = re.findall(r\"Type': '[\\w]+\", column)[0][8:]\n",
    "    except:\n",
    "        col = np.nan\n",
    "    return col\n",
    "\n",
    "\n",
    "data['funding_type'] = data['latestFundingRound'].apply(col_funding)\n",
    "data = data.drop(columns='latestFundingRound')"
   ]
  },
  {
   "cell_type": "code",
   "execution_count": 32,
   "id": "32db3a11",
   "metadata": {},
   "outputs": [
    {
     "data": {
      "text/plain": [
       "seed                     31349\n",
       "venture                  18089\n",
       "pre_seed                 10502\n",
       "series_a                  9906\n",
       "series_b                  4687\n",
       "grant                     4147\n",
       "private_equity            3916\n",
       "debt_financing            3601\n",
       "post_ipo_equity           2518\n",
       "series_c                  2124\n",
       "non_equity_assistance     1948\n",
       "angel                     1615\n",
       "convertible_note          1588\n",
       "equity_crowd_funding      1422\n",
       "funding_round             1187\n",
       "series_d                   929\n",
       "post_ipo_debt              822\n",
       "corporate_round            799\n",
       "series_e                   407\n",
       "secondary_market           360\n",
       "initial_coin_offering      315\n",
       "product_crowd_funding      189\n",
       "series_f                   147\n",
       "post_ipo_secondary          59\n",
       "other                       42\n",
       "series_g                    40\n",
       "series_h                    19\n",
       "series_i                     4\n",
       "series_j                     1\n",
       "Name: funding_type, dtype: int64"
      ]
     },
     "execution_count": 32,
     "metadata": {},
     "output_type": "execute_result"
    }
   ],
   "source": [
    "data['funding_type'].value_counts()"
   ]
  },
  {
   "cell_type": "markdown",
   "id": "d8849245",
   "metadata": {},
   "source": [
    "#### Drop deep duplicates (name & web site)"
   ]
  },
  {
   "cell_type": "code",
   "execution_count": 33,
   "id": "2d81e5a2",
   "metadata": {},
   "outputs": [
    {
     "name": "stderr",
     "output_type": "stream",
     "text": [
      "896it [00:50, 17.66it/s]\n"
     ]
    },
    {
     "data": {
      "text/plain": [
       "((896, 2), 886)"
      ]
     },
     "execution_count": 33,
     "metadata": {},
     "output_type": "execute_result"
    }
   ],
   "source": [
    "web = pd.DataFrame(data['websiteUrl'])\n",
    "web['name'] = data['name']\n",
    "web_dup = web[web.duplicated()]\n",
    "name_dup = {}\n",
    "\n",
    "for name, web_site in tqdm(\n",
    "    zip(web_dup['name'], web_dup['websiteUrl'])\n",
    "):\n",
    "    name_dup[name] = len(\n",
    "        data[\n",
    "            (data['name'] == name) \n",
    "             & (data['websiteUrl'] == web_site)\n",
    "        ].values\n",
    "    )\n",
    "\n",
    "web_dup.shape, len(name_dup)"
   ]
  },
  {
   "cell_type": "code",
   "execution_count": 34,
   "id": "00421c3d",
   "metadata": {},
   "outputs": [
    {
     "data": {
      "text/plain": [
       "(377720, 11)"
      ]
     },
     "execution_count": 34,
     "metadata": {},
     "output_type": "execute_result"
    }
   ],
   "source": [
    "df = data.copy()\n",
    "df.shape"
   ]
  },
  {
   "cell_type": "code",
   "execution_count": 35,
   "id": "b87ea686",
   "metadata": {},
   "outputs": [
    {
     "name": "stderr",
     "output_type": "stream",
     "text": [
      "896it [00:54, 16.49it/s]\n"
     ]
    }
   ],
   "source": [
    "idx = set()\n",
    "for name, web_site in tqdm(\n",
    "    zip(web_dup['name'], web_dup['websiteUrl'])\n",
    "):\n",
    "    i, industry = 0, []\n",
    "    n = df['name'] == name\n",
    "    w = df['websiteUrl'] == web_site\n",
    "    ind = df[n & w].index[0]\n",
    "\n",
    "    industry.extend(re.findall(r'\\w+', df[n & w].values[0][9]))\n",
    "    industry.extend(re.findall(r'\\w+', df[n & w].values[1][9]))\n",
    "    industry = list(set(industry))\n",
    "\n",
    "    for col in df[n & w].values[0]:\n",
    "        if (col =='None' or col is None or col is np.nan or col == 0 \n",
    "            or len(str(col)) < len(str(df[n & w].values[1][i]))):\n",
    "            col_1 = data[n & w].values[1][i]\n",
    "            df.iloc[ind, i] = col_1\n",
    "        i += 1\n",
    "\n",
    "    df.loc[ind, 'Industry'] = str(industry)\n",
    "    idx.add(df[n & w].index[1])"
   ]
  },
  {
   "cell_type": "code",
   "execution_count": 36,
   "id": "c78ac908",
   "metadata": {},
   "outputs": [
    {
     "data": {
      "text/plain": [
       "(376826, 11)"
      ]
     },
     "execution_count": 36,
     "metadata": {},
     "output_type": "execute_result"
    }
   ],
   "source": [
    "df = df.drop(index=list(idx)).reset_index(drop=True)\n",
    "df.shape"
   ]
  },
  {
   "cell_type": "code",
   "execution_count": 37,
   "id": "8d8fd811",
   "metadata": {},
   "outputs": [
    {
     "data": {
      "text/plain": [
       "0"
      ]
     },
     "execution_count": 37,
     "metadata": {},
     "output_type": "execute_result"
    }
   ],
   "source": [
    "df.duplicated().sum()"
   ]
  },
  {
   "cell_type": "code",
   "execution_count": 38,
   "id": "24df641e",
   "metadata": {},
   "outputs": [],
   "source": [
    "web_2 = pd.DataFrame(df['websiteUrl'])\n",
    "web_2['name'] = df['name']\n",
    "web_dup_2 = web_2[web_2.duplicated()]"
   ]
  },
  {
   "cell_type": "code",
   "execution_count": 39,
   "id": "d64c5bec",
   "metadata": {},
   "outputs": [
    {
     "data": {
      "text/html": [
       "<div>\n",
       "<style scoped>\n",
       "    .dataframe tbody tr th:only-of-type {\n",
       "        vertical-align: middle;\n",
       "    }\n",
       "\n",
       "    .dataframe tbody tr th {\n",
       "        vertical-align: top;\n",
       "    }\n",
       "\n",
       "    .dataframe thead th {\n",
       "        text-align: right;\n",
       "    }\n",
       "</style>\n",
       "<table border=\"1\" class=\"dataframe\">\n",
       "  <thead>\n",
       "    <tr style=\"text-align: right;\">\n",
       "      <th></th>\n",
       "      <th>websiteUrl</th>\n",
       "      <th>name</th>\n",
       "    </tr>\n",
       "  </thead>\n",
       "  <tbody>\n",
       "    <tr>\n",
       "      <th>286296</th>\n",
       "      <td>None</td>\n",
       "      <td>Gelp</td>\n",
       "    </tr>\n",
       "    <tr>\n",
       "      <th>298799</th>\n",
       "      <td>https://www.kliken.com/</td>\n",
       "      <td>Kliken</td>\n",
       "    </tr>\n",
       "  </tbody>\n",
       "</table>\n",
       "</div>"
      ],
      "text/plain": [
       "                     websiteUrl    name\n",
       "286296                     None    Gelp\n",
       "298799  https://www.kliken.com/  Kliken"
      ]
     },
     "execution_count": 39,
     "metadata": {},
     "output_type": "execute_result"
    }
   ],
   "source": [
    "web_dup_2"
   ]
  },
  {
   "cell_type": "code",
   "execution_count": 40,
   "id": "c05cc042",
   "metadata": {},
   "outputs": [
    {
     "data": {
      "text/html": [
       "<div>\n",
       "<style scoped>\n",
       "    .dataframe tbody tr th:only-of-type {\n",
       "        vertical-align: middle;\n",
       "    }\n",
       "\n",
       "    .dataframe tbody tr th {\n",
       "        vertical-align: top;\n",
       "    }\n",
       "\n",
       "    .dataframe thead th {\n",
       "        text-align: right;\n",
       "    }\n",
       "</style>\n",
       "<table border=\"1\" class=\"dataframe\">\n",
       "  <thead>\n",
       "    <tr style=\"text-align: right;\">\n",
       "      <th></th>\n",
       "      <th>name</th>\n",
       "      <th>city</th>\n",
       "      <th>state</th>\n",
       "      <th>country</th>\n",
       "      <th>employeeRange</th>\n",
       "      <th>followerCount</th>\n",
       "      <th>positionCount</th>\n",
       "      <th>stage</th>\n",
       "      <th>websiteUrl</th>\n",
       "      <th>Industry</th>\n",
       "      <th>funding_type</th>\n",
       "    </tr>\n",
       "  </thead>\n",
       "  <tbody>\n",
       "    <tr>\n",
       "      <th>132720</th>\n",
       "      <td>Gelp</td>\n",
       "      <td>None</td>\n",
       "      <td>None</td>\n",
       "      <td>None</td>\n",
       "      <td>None</td>\n",
       "      <td>0</td>\n",
       "      <td>1</td>\n",
       "      <td>startup</td>\n",
       "      <td>None</td>\n",
       "      <td>[]</td>\n",
       "      <td>NaN</td>\n",
       "    </tr>\n",
       "    <tr>\n",
       "      <th>286296</th>\n",
       "      <td>Gelp</td>\n",
       "      <td>None</td>\n",
       "      <td>None</td>\n",
       "      <td>None</td>\n",
       "      <td>None</td>\n",
       "      <td>0</td>\n",
       "      <td>1</td>\n",
       "      <td>startup</td>\n",
       "      <td>None</td>\n",
       "      <td>[]</td>\n",
       "      <td>NaN</td>\n",
       "    </tr>\n",
       "  </tbody>\n",
       "</table>\n",
       "</div>"
      ],
      "text/plain": [
       "        name  city state country employeeRange followerCount  positionCount  \\\n",
       "132720  Gelp  None  None    None          None             0              1   \n",
       "286296  Gelp  None  None    None          None             0              1   \n",
       "\n",
       "          stage websiteUrl Industry funding_type  \n",
       "132720  startup       None       []          NaN  \n",
       "286296  startup       None       []          NaN  "
      ]
     },
     "execution_count": 40,
     "metadata": {},
     "output_type": "execute_result"
    }
   ],
   "source": [
    "df[df['name'] == 'Gelp']"
   ]
  },
  {
   "cell_type": "code",
   "execution_count": 41,
   "id": "b0b3af41",
   "metadata": {},
   "outputs": [
    {
     "data": {
      "text/html": [
       "<div>\n",
       "<style scoped>\n",
       "    .dataframe tbody tr th:only-of-type {\n",
       "        vertical-align: middle;\n",
       "    }\n",
       "\n",
       "    .dataframe tbody tr th {\n",
       "        vertical-align: top;\n",
       "    }\n",
       "\n",
       "    .dataframe thead th {\n",
       "        text-align: right;\n",
       "    }\n",
       "</style>\n",
       "<table border=\"1\" class=\"dataframe\">\n",
       "  <thead>\n",
       "    <tr style=\"text-align: right;\">\n",
       "      <th></th>\n",
       "      <th>name</th>\n",
       "      <th>city</th>\n",
       "      <th>state</th>\n",
       "      <th>country</th>\n",
       "      <th>employeeRange</th>\n",
       "      <th>followerCount</th>\n",
       "      <th>positionCount</th>\n",
       "      <th>stage</th>\n",
       "      <th>websiteUrl</th>\n",
       "      <th>Industry</th>\n",
       "      <th>funding_type</th>\n",
       "    </tr>\n",
       "  </thead>\n",
       "  <tbody>\n",
       "    <tr>\n",
       "      <th>182826</th>\n",
       "      <td>Kliken</td>\n",
       "      <td>Tampa</td>\n",
       "      <td>FL</td>\n",
       "      <td>United States</td>\n",
       "      <td>10-50</td>\n",
       "      <td>0</td>\n",
       "      <td>14</td>\n",
       "      <td>None</td>\n",
       "      <td>https://www.kliken.com/</td>\n",
       "      <td>['Sales', 'Internet', 'Marketing', 'Advertisin...</td>\n",
       "      <td>venture</td>\n",
       "    </tr>\n",
       "    <tr>\n",
       "      <th>298799</th>\n",
       "      <td>Kliken</td>\n",
       "      <td>Tampa</td>\n",
       "      <td>FL</td>\n",
       "      <td>United States</td>\n",
       "      <td>10-50</td>\n",
       "      <td>0</td>\n",
       "      <td>14</td>\n",
       "      <td>None</td>\n",
       "      <td>https://www.kliken.com/</td>\n",
       "      <td>['Automation', 'Marketing', 'Sales']</td>\n",
       "      <td>venture</td>\n",
       "    </tr>\n",
       "  </tbody>\n",
       "</table>\n",
       "</div>"
      ],
      "text/plain": [
       "          name   city state        country employeeRange followerCount  \\\n",
       "182826  Kliken  Tampa    FL  United States         10-50             0   \n",
       "298799  Kliken  Tampa    FL  United States         10-50             0   \n",
       "\n",
       "        positionCount stage               websiteUrl  \\\n",
       "182826             14  None  https://www.kliken.com/   \n",
       "298799             14  None  https://www.kliken.com/   \n",
       "\n",
       "                                                 Industry funding_type  \n",
       "182826  ['Sales', 'Internet', 'Marketing', 'Advertisin...      venture  \n",
       "298799               ['Automation', 'Marketing', 'Sales']      venture  "
      ]
     },
     "execution_count": 41,
     "metadata": {},
     "output_type": "execute_result"
    }
   ],
   "source": [
    "df[df['name'] == 'Kliken']"
   ]
  },
  {
   "cell_type": "code",
   "execution_count": 42,
   "id": "1fe29431",
   "metadata": {},
   "outputs": [],
   "source": [
    "df = df.drop(index=[132720, 286296, 298799]).reset_index(drop=True)"
   ]
  },
  {
   "cell_type": "code",
   "execution_count": 45,
   "id": "02dc26d2",
   "metadata": {},
   "outputs": [
    {
     "data": {
      "text/plain": [
       "(376823, 11)"
      ]
     },
     "execution_count": 45,
     "metadata": {},
     "output_type": "execute_result"
    }
   ],
   "source": [
    "df.shape"
   ]
  },
  {
   "cell_type": "markdown",
   "id": "4363c0be",
   "metadata": {},
   "source": [
    "### Cols typing "
   ]
  },
  {
   "cell_type": "code",
   "execution_count": 47,
   "id": "397088ba",
   "metadata": {},
   "outputs": [],
   "source": [
    "df_cleaned_1 = df.replace(to_replace='None', value=np.nan)"
   ]
  },
  {
   "cell_type": "code",
   "execution_count": 49,
   "id": "8c11e534",
   "metadata": {},
   "outputs": [],
   "source": [
    "df_cleaned_1['Industry'] = df_cleaned_1['Industry'].replace(\n",
    "    to_replace='[]', value=np.nan\n",
    ")\n",
    "df_cleaned_1['employeeRange'] = df_cleaned_1['employeeRange'].replace(\n",
    "    to_replace='True', value=np.nan\n",
    ")"
   ]
  },
  {
   "cell_type": "code",
   "execution_count": 50,
   "id": "1e3086dc",
   "metadata": {},
   "outputs": [
    {
     "data": {
      "text/plain": [
       "10-50         103462\n",
       "1-10           96612\n",
       "50-200         45860\n",
       "200-500        45149\n",
       "1000-5000      31291\n",
       "500-1000       20046\n",
       ">10000          6851\n",
       "5000-10000      5495\n",
       "Name: employeeRange, dtype: int64"
      ]
     },
     "execution_count": 50,
     "metadata": {},
     "output_type": "execute_result"
    }
   ],
   "source": [
    "df_cleaned_1['employeeRange'].value_counts()"
   ]
  },
  {
   "cell_type": "code",
   "execution_count": 51,
   "id": "3404e059",
   "metadata": {},
   "outputs": [
    {
     "data": {
      "text/plain": [
       "stage            95.032681\n",
       "funding_type     72.829419\n",
       "state            28.414136\n",
       "city              9.476067\n",
       "country           8.259050\n",
       "Industry          6.343562\n",
       "employeeRange     5.853411\n",
       "websiteUrl        1.163676\n",
       "dtype: float64"
      ]
     },
     "execution_count": 51,
     "metadata": {},
     "output_type": "execute_result"
    },
    {
     "data": {
      "image/png": "[encoded data removed]",
      "text/plain": [
       "<Figure size 1152x720 with 2 Axes>"
      ]
     },
     "metadata": {
      "needs_background": "light"
     },
     "output_type": "display_data"
    }
   ],
   "source": [
    "# Оценка пропусков\n",
    "cols_null_percent(data=df_cleaned_1)"
   ]
  },
  {
   "cell_type": "code",
   "execution_count": 52,
   "id": "9d94ee41",
   "metadata": {},
   "outputs": [],
   "source": [
    "df_cleaned_1['name_norm'] = df_cleaned_1['name'].apply(lambda x: x.lower())"
   ]
  },
  {
   "cell_type": "markdown",
   "id": "b6dc2537",
   "metadata": {},
   "source": [
    "### Add index of best companies from another dataset "
   ]
  },
  {
   "cell_type": "code",
   "execution_count": 53,
   "id": "81b29662",
   "metadata": {},
   "outputs": [
    {
     "data": {
      "text/html": [
       "<div>\n",
       "<style scoped>\n",
       "    .dataframe tbody tr th:only-of-type {\n",
       "        vertical-align: middle;\n",
       "    }\n",
       "\n",
       "    .dataframe tbody tr th {\n",
       "        vertical-align: top;\n",
       "    }\n",
       "\n",
       "    .dataframe thead th {\n",
       "        text-align: right;\n",
       "    }\n",
       "</style>\n",
       "<table border=\"1\" class=\"dataframe\">\n",
       "  <thead>\n",
       "    <tr style=\"text-align: right;\">\n",
       "      <th></th>\n",
       "      <th>0</th>\n",
       "      <th>1</th>\n",
       "      <th>2</th>\n",
       "      <th>3</th>\n",
       "      <th>4</th>\n",
       "      <th>5</th>\n",
       "      <th>6</th>\n",
       "      <th>7</th>\n",
       "      <th>8</th>\n",
       "      <th>9</th>\n",
       "      <th>10</th>\n",
       "      <th>11</th>\n",
       "      <th>12</th>\n",
       "      <th>13</th>\n",
       "      <th>14</th>\n",
       "      <th>15</th>\n",
       "      <th>16</th>\n",
       "    </tr>\n",
       "  </thead>\n",
       "  <tbody>\n",
       "    <tr>\n",
       "      <th>0</th>\n",
       "      <td>DoiT International</td>\n",
       "      <td>Santa Clara</td>\n",
       "      <td>CA</td>\n",
       "      <td>United States</td>\n",
       "      <td>True</td>\n",
       "      <td>200-500</td>\n",
       "      <td>369</td>\n",
       "      <td>510</td>\n",
       "      <td>0</td>\n",
       "      <td>False</td>\n",
       "      <td>None</td>\n",
       "      <td>{'__typename': 'FundingRound', 'id': 'd7f06985...</td>\n",
       "      <td>None</td>\n",
       "      <td>b</td>\n",
       "      <td>startup</td>\n",
       "      <td>https://careers.doit.com/</td>\n",
       "      <td>['Analytics', 'Cloud', 'Data', 'Information Te...</td>\n",
       "    </tr>\n",
       "    <tr>\n",
       "      <th>1</th>\n",
       "      <td>Apple</td>\n",
       "      <td>Cupertino</td>\n",
       "      <td>CA</td>\n",
       "      <td>United States</td>\n",
       "      <td>True</td>\n",
       "      <td>&gt;10000</td>\n",
       "      <td>2922</td>\n",
       "      <td>180</td>\n",
       "      <td>0</td>\n",
       "      <td>False</td>\n",
       "      <td>None</td>\n",
       "      <td>None</td>\n",
       "      <td>None</td>\n",
       "      <td>u</td>\n",
       "      <td>established</td>\n",
       "      <td>https://www.apple.com/</td>\n",
       "      <td>['Computing', 'Consumer Goods', 'Electronics',...</td>\n",
       "    </tr>\n",
       "    <tr>\n",
       "      <th>2</th>\n",
       "      <td>Google</td>\n",
       "      <td>Mountain View</td>\n",
       "      <td>CA</td>\n",
       "      <td>United States</td>\n",
       "      <td>True</td>\n",
       "      <td>&gt;10000</td>\n",
       "      <td>6334</td>\n",
       "      <td>427</td>\n",
       "      <td>0</td>\n",
       "      <td>False</td>\n",
       "      <td>None</td>\n",
       "      <td>{'__typename': 'FundingRound', 'id': 'e3be9e34...</td>\n",
       "      <td>None</td>\n",
       "      <td>u</td>\n",
       "      <td>established</td>\n",
       "      <td>https://google.com</td>\n",
       "      <td>['Messaging &amp; Communication', 'Social Media', ...</td>\n",
       "    </tr>\n",
       "    <tr>\n",
       "      <th>3</th>\n",
       "      <td>The Org</td>\n",
       "      <td>New York</td>\n",
       "      <td>NY</td>\n",
       "      <td>United States</td>\n",
       "      <td>True</td>\n",
       "      <td>10-50</td>\n",
       "      <td>2617</td>\n",
       "      <td>44</td>\n",
       "      <td>0</td>\n",
       "      <td>False</td>\n",
       "      <td>None</td>\n",
       "      <td>{'__typename': 'FundingRound', 'id': '150c0ae6...</td>\n",
       "      <td>None</td>\n",
       "      <td>b</td>\n",
       "      <td>startup</td>\n",
       "      <td>https://theorg.com/</td>\n",
       "      <td>['Human Resources', 'Internet', 'Productivity'...</td>\n",
       "    </tr>\n",
       "    <tr>\n",
       "      <th>4</th>\n",
       "      <td>Amazon</td>\n",
       "      <td>Arlington</td>\n",
       "      <td>VA</td>\n",
       "      <td>United States</td>\n",
       "      <td>True</td>\n",
       "      <td>&gt;10000</td>\n",
       "      <td>5615</td>\n",
       "      <td>338</td>\n",
       "      <td>0</td>\n",
       "      <td>False</td>\n",
       "      <td>None</td>\n",
       "      <td>{'__typename': 'FundingRound', 'id': 'ca1c9971...</td>\n",
       "      <td>None</td>\n",
       "      <td>u</td>\n",
       "      <td>established</td>\n",
       "      <td>https://www.amazon.com/</td>\n",
       "      <td>['Cloud', 'E-Commerce', 'Enterprise Software',...</td>\n",
       "    </tr>\n",
       "    <tr>\n",
       "      <th>...</th>\n",
       "      <td>...</td>\n",
       "      <td>...</td>\n",
       "      <td>...</td>\n",
       "      <td>...</td>\n",
       "      <td>...</td>\n",
       "      <td>...</td>\n",
       "      <td>...</td>\n",
       "      <td>...</td>\n",
       "      <td>...</td>\n",
       "      <td>...</td>\n",
       "      <td>...</td>\n",
       "      <td>...</td>\n",
       "      <td>...</td>\n",
       "      <td>...</td>\n",
       "      <td>...</td>\n",
       "      <td>...</td>\n",
       "      <td>...</td>\n",
       "    </tr>\n",
       "    <tr>\n",
       "      <th>1995</th>\n",
       "      <td>AdaptHealth</td>\n",
       "      <td>Plymouth Meeting</td>\n",
       "      <td>PA</td>\n",
       "      <td>United States</td>\n",
       "      <td>True</td>\n",
       "      <td>5000-10000</td>\n",
       "      <td>2</td>\n",
       "      <td>21</td>\n",
       "      <td>0</td>\n",
       "      <td>False</td>\n",
       "      <td>None</td>\n",
       "      <td>{'__typename': 'FundingRound', 'id': 'bedefca4...</td>\n",
       "      <td>None</td>\n",
       "      <td>u</td>\n",
       "      <td>None</td>\n",
       "      <td>https://www.adapthealth.com/</td>\n",
       "      <td>['Hospital']</td>\n",
       "    </tr>\n",
       "    <tr>\n",
       "      <th>1996</th>\n",
       "      <td>TCW Group</td>\n",
       "      <td>Los Angeles</td>\n",
       "      <td>CA</td>\n",
       "      <td>United States</td>\n",
       "      <td>True</td>\n",
       "      <td>500-1000</td>\n",
       "      <td>0</td>\n",
       "      <td>86</td>\n",
       "      <td>0</td>\n",
       "      <td>False</td>\n",
       "      <td>None</td>\n",
       "      <td>{'__typename': 'FundingRound', 'id': 'c314759d...</td>\n",
       "      <td>None</td>\n",
       "      <td>u</td>\n",
       "      <td>None</td>\n",
       "      <td>http://tcw.com</td>\n",
       "      <td>['Banking']</td>\n",
       "    </tr>\n",
       "    <tr>\n",
       "      <th>1997</th>\n",
       "      <td>Cadence Design Systems</td>\n",
       "      <td>San Jose</td>\n",
       "      <td>CA</td>\n",
       "      <td>United States</td>\n",
       "      <td>True</td>\n",
       "      <td>5000-10000</td>\n",
       "      <td>22</td>\n",
       "      <td>23</td>\n",
       "      <td>0</td>\n",
       "      <td>False</td>\n",
       "      <td>None</td>\n",
       "      <td>None</td>\n",
       "      <td>None</td>\n",
       "      <td>u</td>\n",
       "      <td>None</td>\n",
       "      <td>https://www.cadence.com</td>\n",
       "      <td>['Software']</td>\n",
       "    </tr>\n",
       "    <tr>\n",
       "      <th>1998</th>\n",
       "      <td>G4S</td>\n",
       "      <td>NaN</td>\n",
       "      <td>England</td>\n",
       "      <td>United Kingdom</td>\n",
       "      <td>True</td>\n",
       "      <td>&gt;10000</td>\n",
       "      <td>8</td>\n",
       "      <td>18</td>\n",
       "      <td>0</td>\n",
       "      <td>False</td>\n",
       "      <td>None</td>\n",
       "      <td>{'__typename': 'FundingRound', 'id': 'f3ff86b6...</td>\n",
       "      <td>None</td>\n",
       "      <td>u</td>\n",
       "      <td>None</td>\n",
       "      <td>http://g4s.com</td>\n",
       "      <td>['Security']</td>\n",
       "    </tr>\n",
       "    <tr>\n",
       "      <th>1999</th>\n",
       "      <td>The Org</td>\n",
       "      <td>New York</td>\n",
       "      <td>NY</td>\n",
       "      <td>United States</td>\n",
       "      <td>True</td>\n",
       "      <td>10-50</td>\n",
       "      <td>2617</td>\n",
       "      <td>44</td>\n",
       "      <td>0</td>\n",
       "      <td>False</td>\n",
       "      <td>None</td>\n",
       "      <td>{'__typename': 'FundingRound', 'id': '150c0ae6...</td>\n",
       "      <td>None</td>\n",
       "      <td>b</td>\n",
       "      <td>startup</td>\n",
       "      <td>https://theorg.com/</td>\n",
       "      <td>['Human Resources', 'Internet', 'Productivity'...</td>\n",
       "    </tr>\n",
       "  </tbody>\n",
       "</table>\n",
       "<p>2000 rows × 17 columns</p>\n",
       "</div>"
      ],
      "text/plain": [
       "                          0                 1        2               3     4   \\\n",
       "0         DoiT International       Santa Clara       CA   United States  True   \n",
       "1                      Apple         Cupertino       CA   United States  True   \n",
       "2                     Google     Mountain View       CA   United States  True   \n",
       "3                    The Org          New York       NY   United States  True   \n",
       "4                     Amazon         Arlington       VA   United States  True   \n",
       "...                      ...               ...      ...             ...   ...   \n",
       "1995             AdaptHealth  Plymouth Meeting       PA   United States  True   \n",
       "1996               TCW Group       Los Angeles       CA   United States  True   \n",
       "1997  Cadence Design Systems          San Jose       CA   United States  True   \n",
       "1998                     G4S               NaN  England  United Kingdom  True   \n",
       "1999                 The Org          New York       NY   United States  True   \n",
       "\n",
       "              5     6    7   8      9     10  \\\n",
       "0        200-500   369  510   0  False  None   \n",
       "1         >10000  2922  180   0  False  None   \n",
       "2         >10000  6334  427   0  False  None   \n",
       "3          10-50  2617   44   0  False  None   \n",
       "4         >10000  5615  338   0  False  None   \n",
       "...          ...   ...  ...  ..    ...   ...   \n",
       "1995  5000-10000     2   21   0  False  None   \n",
       "1996    500-1000     0   86   0  False  None   \n",
       "1997  5000-10000    22   23   0  False  None   \n",
       "1998      >10000     8   18   0  False  None   \n",
       "1999       10-50  2617   44   0  False  None   \n",
       "\n",
       "                                                     11    12 13           14  \\\n",
       "0     {'__typename': 'FundingRound', 'id': 'd7f06985...  None  b      startup   \n",
       "1                                                  None  None  u  established   \n",
       "2     {'__typename': 'FundingRound', 'id': 'e3be9e34...  None  u  established   \n",
       "3     {'__typename': 'FundingRound', 'id': '150c0ae6...  None  b      startup   \n",
       "4     {'__typename': 'FundingRound', 'id': 'ca1c9971...  None  u  established   \n",
       "...                                                 ...   ... ..          ...   \n",
       "1995  {'__typename': 'FundingRound', 'id': 'bedefca4...  None  u         None   \n",
       "1996  {'__typename': 'FundingRound', 'id': 'c314759d...  None  u         None   \n",
       "1997                                               None  None  u         None   \n",
       "1998  {'__typename': 'FundingRound', 'id': 'f3ff86b6...  None  u         None   \n",
       "1999  {'__typename': 'FundingRound', 'id': '150c0ae6...  None  b      startup   \n",
       "\n",
       "                                15  \\\n",
       "0        https://careers.doit.com/   \n",
       "1           https://www.apple.com/   \n",
       "2               https://google.com   \n",
       "3              https://theorg.com/   \n",
       "4          https://www.amazon.com/   \n",
       "...                            ...   \n",
       "1995  https://www.adapthealth.com/   \n",
       "1996                http://tcw.com   \n",
       "1997       https://www.cadence.com   \n",
       "1998                http://g4s.com   \n",
       "1999           https://theorg.com/   \n",
       "\n",
       "                                                     16  \n",
       "0     ['Analytics', 'Cloud', 'Data', 'Information Te...  \n",
       "1     ['Computing', 'Consumer Goods', 'Electronics',...  \n",
       "2     ['Messaging & Communication', 'Social Media', ...  \n",
       "3     ['Human Resources', 'Internet', 'Productivity'...  \n",
       "4     ['Cloud', 'E-Commerce', 'Enterprise Software',...  \n",
       "...                                                 ...  \n",
       "1995                                       ['Hospital']  \n",
       "1996                                        ['Banking']  \n",
       "1997                                       ['Software']  \n",
       "1998                                       ['Security']  \n",
       "1999  ['Human Resources', 'Internet', 'Productivity'...  \n",
       "\n",
       "[2000 rows x 17 columns]"
      ]
     },
     "execution_count": 53,
     "metadata": {},
     "output_type": "execute_result"
    }
   ],
   "source": [
    "best = pd.read_csv('raw_data/dataset-best-new.csv', sep=';', header=None)\n",
    "best"
   ]
  },
  {
   "cell_type": "code",
   "execution_count": 56,
   "id": "4358f810",
   "metadata": {},
   "outputs": [
    {
     "data": {
      "text/plain": [
       "True     1992\n",
       "False       8\n",
       "Name: 0, dtype: int64"
      ]
     },
     "execution_count": 56,
     "metadata": {},
     "output_type": "execute_result"
    }
   ],
   "source": [
    "# Совпадение имен компаний с вышеобработанным датасетом\n",
    "best[0].isin(df_cleaned_1['name']).value_counts()"
   ]
  },
  {
   "cell_type": "code",
   "execution_count": 57,
   "id": "be95bac1",
   "metadata": {},
   "outputs": [],
   "source": [
    "best_set = set(best[0])"
   ]
  },
  {
   "cell_type": "code",
   "execution_count": 58,
   "id": "6c028f41",
   "metadata": {},
   "outputs": [],
   "source": [
    "# Добавление столбца - лучшая компания (0 / 1)\n",
    "df_cleaned_1['best_company'] = df_cleaned_1['name'].apply(\n",
    "    lambda x: 1 if x in best_set else 0\n",
    ")"
   ]
  },
  {
   "cell_type": "code",
   "execution_count": 60,
   "id": "c6c305ba",
   "metadata": {},
   "outputs": [
    {
     "data": {
      "text/html": [
       "<div>\n",
       "<style scoped>\n",
       "    .dataframe tbody tr th:only-of-type {\n",
       "        vertical-align: middle;\n",
       "    }\n",
       "\n",
       "    .dataframe tbody tr th {\n",
       "        vertical-align: top;\n",
       "    }\n",
       "\n",
       "    .dataframe thead th {\n",
       "        text-align: right;\n",
       "    }\n",
       "</style>\n",
       "<table border=\"1\" class=\"dataframe\">\n",
       "  <thead>\n",
       "    <tr style=\"text-align: right;\">\n",
       "      <th></th>\n",
       "      <th>name</th>\n",
       "      <th>city</th>\n",
       "      <th>state</th>\n",
       "      <th>country</th>\n",
       "      <th>employeeRange</th>\n",
       "      <th>followerCount</th>\n",
       "      <th>positionCount</th>\n",
       "      <th>stage</th>\n",
       "      <th>websiteUrl</th>\n",
       "      <th>Industry</th>\n",
       "      <th>funding_type</th>\n",
       "      <th>name_norm</th>\n",
       "      <th>best_company</th>\n",
       "    </tr>\n",
       "  </thead>\n",
       "  <tbody>\n",
       "    <tr>\n",
       "      <th>26</th>\n",
       "      <td>1</td>\n",
       "      <td>NaN</td>\n",
       "      <td>NaN</td>\n",
       "      <td>NaN</td>\n",
       "      <td>NaN</td>\n",
       "      <td>1</td>\n",
       "      <td>0</td>\n",
       "      <td>established</td>\n",
       "      <td>NaN</td>\n",
       "      <td>NaN</td>\n",
       "      <td>NaN</td>\n",
       "      <td>1</td>\n",
       "      <td>1</td>\n",
       "    </tr>\n",
       "    <tr>\n",
       "      <th>358</th>\n",
       "      <td>1-800-FLOWERS.COM</td>\n",
       "      <td>Jericho</td>\n",
       "      <td>NY</td>\n",
       "      <td>United States</td>\n",
       "      <td>1000-5000</td>\n",
       "      <td>7</td>\n",
       "      <td>25</td>\n",
       "      <td>NaN</td>\n",
       "      <td>http://1800flowers.com</td>\n",
       "      <td>['Retail']</td>\n",
       "      <td>NaN</td>\n",
       "      <td>1-800-flowers.com</td>\n",
       "      <td>1</td>\n",
       "    </tr>\n",
       "    <tr>\n",
       "      <th>770</th>\n",
       "      <td>23andMe</td>\n",
       "      <td>Mountain View</td>\n",
       "      <td>CA</td>\n",
       "      <td>United States</td>\n",
       "      <td>500-1000</td>\n",
       "      <td>73</td>\n",
       "      <td>70</td>\n",
       "      <td>NaN</td>\n",
       "      <td>https://23andme.com</td>\n",
       "      <td>['Biotechnology', 'Education']</td>\n",
       "      <td>post_ipo_equity</td>\n",
       "      <td>23andme</td>\n",
       "      <td>1</td>\n",
       "    </tr>\n",
       "    <tr>\n",
       "      <th>1568</th>\n",
       "      <td>3M</td>\n",
       "      <td>Saint Paul</td>\n",
       "      <td>MN</td>\n",
       "      <td>United States</td>\n",
       "      <td>&gt;10000</td>\n",
       "      <td>221</td>\n",
       "      <td>106</td>\n",
       "      <td>established</td>\n",
       "      <td>https://www.3m.com/</td>\n",
       "      <td>['Engineering']</td>\n",
       "      <td>NaN</td>\n",
       "      <td>3m</td>\n",
       "      <td>1</td>\n",
       "    </tr>\n",
       "    <tr>\n",
       "      <th>1910</th>\n",
       "      <td>4G Clinical</td>\n",
       "      <td>Wellesley</td>\n",
       "      <td>MA</td>\n",
       "      <td>United States</td>\n",
       "      <td>200-500</td>\n",
       "      <td>2</td>\n",
       "      <td>110</td>\n",
       "      <td>NaN</td>\n",
       "      <td>http://4gclinical.com</td>\n",
       "      <td>['Pharmaceutical']</td>\n",
       "      <td>venture</td>\n",
       "      <td>4g clinical</td>\n",
       "      <td>1</td>\n",
       "    </tr>\n",
       "    <tr>\n",
       "      <th>...</th>\n",
       "      <td>...</td>\n",
       "      <td>...</td>\n",
       "      <td>...</td>\n",
       "      <td>...</td>\n",
       "      <td>...</td>\n",
       "      <td>...</td>\n",
       "      <td>...</td>\n",
       "      <td>...</td>\n",
       "      <td>...</td>\n",
       "      <td>...</td>\n",
       "      <td>...</td>\n",
       "      <td>...</td>\n",
       "      <td>...</td>\n",
       "    </tr>\n",
       "    <tr>\n",
       "      <th>376167</th>\n",
       "      <td>Zomato</td>\n",
       "      <td>Gurugram</td>\n",
       "      <td>HR</td>\n",
       "      <td>India</td>\n",
       "      <td>1000-5000</td>\n",
       "      <td>48</td>\n",
       "      <td>12</td>\n",
       "      <td>NaN</td>\n",
       "      <td>https://zomato.com</td>\n",
       "      <td>['Internet']</td>\n",
       "      <td>venture</td>\n",
       "      <td>zomato</td>\n",
       "      <td>1</td>\n",
       "    </tr>\n",
       "    <tr>\n",
       "      <th>376261</th>\n",
       "      <td>Zoom</td>\n",
       "      <td>San Jose</td>\n",
       "      <td>CA</td>\n",
       "      <td>United States</td>\n",
       "      <td>5000-10000</td>\n",
       "      <td>437</td>\n",
       "      <td>94</td>\n",
       "      <td>established</td>\n",
       "      <td>https://zoom.us/</td>\n",
       "      <td>['Information Technology', 'IT Services', 'Sof...</td>\n",
       "      <td>NaN</td>\n",
       "      <td>zoom</td>\n",
       "      <td>1</td>\n",
       "    </tr>\n",
       "    <tr>\n",
       "      <th>376296</th>\n",
       "      <td>ZoomInfo</td>\n",
       "      <td>Vancouver</td>\n",
       "      <td>WA</td>\n",
       "      <td>United States</td>\n",
       "      <td>1000-5000</td>\n",
       "      <td>47</td>\n",
       "      <td>62</td>\n",
       "      <td>established</td>\n",
       "      <td>https://www.zoominfo.com/</td>\n",
       "      <td>['Software']</td>\n",
       "      <td>NaN</td>\n",
       "      <td>zoominfo</td>\n",
       "      <td>1</td>\n",
       "    </tr>\n",
       "    <tr>\n",
       "      <th>376332</th>\n",
       "      <td>Zoox</td>\n",
       "      <td>Foster City</td>\n",
       "      <td>CA</td>\n",
       "      <td>United States</td>\n",
       "      <td>1000-5000</td>\n",
       "      <td>45</td>\n",
       "      <td>32</td>\n",
       "      <td>NaN</td>\n",
       "      <td>https://zoox.com/</td>\n",
       "      <td>['Automotive']</td>\n",
       "      <td>convertible_note</td>\n",
       "      <td>zoox</td>\n",
       "      <td>1</td>\n",
       "    </tr>\n",
       "    <tr>\n",
       "      <th>376621</th>\n",
       "      <td>Zurich Insurance</td>\n",
       "      <td>Zürich</td>\n",
       "      <td>ZH</td>\n",
       "      <td>Switzerland</td>\n",
       "      <td>&gt;10000</td>\n",
       "      <td>27</td>\n",
       "      <td>25</td>\n",
       "      <td>established</td>\n",
       "      <td>http://zurich.com</td>\n",
       "      <td>['Insurance']</td>\n",
       "      <td>NaN</td>\n",
       "      <td>zurich insurance</td>\n",
       "      <td>1</td>\n",
       "    </tr>\n",
       "  </tbody>\n",
       "</table>\n",
       "<p>2115 rows × 13 columns</p>\n",
       "</div>"
      ],
      "text/plain": [
       "                     name           city state        country employeeRange  \\\n",
       "26                      1            NaN   NaN            NaN           NaN   \n",
       "358     1-800-FLOWERS.COM        Jericho    NY  United States     1000-5000   \n",
       "770               23andMe  Mountain View    CA  United States      500-1000   \n",
       "1568                   3M     Saint Paul    MN  United States        >10000   \n",
       "1910          4G Clinical      Wellesley    MA  United States       200-500   \n",
       "...                   ...            ...   ...            ...           ...   \n",
       "376167             Zomato       Gurugram    HR          India     1000-5000   \n",
       "376261               Zoom       San Jose    CA  United States    5000-10000   \n",
       "376296           ZoomInfo      Vancouver    WA  United States     1000-5000   \n",
       "376332               Zoox    Foster City    CA  United States     1000-5000   \n",
       "376621   Zurich Insurance         Zürich    ZH    Switzerland        >10000   \n",
       "\n",
       "       followerCount  positionCount        stage                 websiteUrl  \\\n",
       "26                 1              0  established                        NaN   \n",
       "358                7             25          NaN     http://1800flowers.com   \n",
       "770               73             70          NaN        https://23andme.com   \n",
       "1568             221            106  established        https://www.3m.com/   \n",
       "1910               2            110          NaN      http://4gclinical.com   \n",
       "...              ...            ...          ...                        ...   \n",
       "376167            48             12          NaN         https://zomato.com   \n",
       "376261           437             94  established           https://zoom.us/   \n",
       "376296            47             62  established  https://www.zoominfo.com/   \n",
       "376332            45             32          NaN          https://zoox.com/   \n",
       "376621            27             25  established          http://zurich.com   \n",
       "\n",
       "                                                 Industry      funding_type  \\\n",
       "26                                                    NaN               NaN   \n",
       "358                                            ['Retail']               NaN   \n",
       "770                        ['Biotechnology', 'Education']   post_ipo_equity   \n",
       "1568                                      ['Engineering']               NaN   \n",
       "1910                                   ['Pharmaceutical']           venture   \n",
       "...                                                   ...               ...   \n",
       "376167                                       ['Internet']           venture   \n",
       "376261  ['Information Technology', 'IT Services', 'Sof...               NaN   \n",
       "376296                                       ['Software']               NaN   \n",
       "376332                                     ['Automotive']  convertible_note   \n",
       "376621                                      ['Insurance']               NaN   \n",
       "\n",
       "                name_norm  best_company  \n",
       "26                      1             1  \n",
       "358     1-800-flowers.com             1  \n",
       "770               23andme             1  \n",
       "1568                   3m             1  \n",
       "1910          4g clinical             1  \n",
       "...                   ...           ...  \n",
       "376167             zomato             1  \n",
       "376261               zoom             1  \n",
       "376296           zoominfo             1  \n",
       "376332               zoox             1  \n",
       "376621   zurich insurance             1  \n",
       "\n",
       "[2115 rows x 13 columns]"
      ]
     },
     "execution_count": 60,
     "metadata": {},
     "output_type": "execute_result"
    }
   ],
   "source": [
    "df_cleaned_1[df_cleaned_1['best_company'] == 1]"
   ]
  },
  {
   "cell_type": "code",
   "execution_count": 61,
   "id": "0b189b51",
   "metadata": {},
   "outputs": [],
   "source": [
    "df_cleaned_1 = df_cleaned_1.drop(index=[26]).reset_index(drop=True)"
   ]
  },
  {
   "cell_type": "markdown",
   "id": "9183c10c",
   "metadata": {},
   "source": [
    "___"
   ]
  },
  {
   "cell_type": "raw",
   "id": "ab4cb0d2",
   "metadata": {},
   "source": [
    "df_cleaned_1.to_csv('df_cleaned_1.csv', index_label=False)"
   ]
  },
  {
   "cell_type": "raw",
   "id": "5d0af022",
   "metadata": {},
   "source": [
    "df_1 = pd.read_csv('df_cleaned_1.csv')"
   ]
  },
  {
   "cell_type": "code",
   "execution_count": 62,
   "id": "cd43541d",
   "metadata": {},
   "outputs": [
    {
     "name": "stdout",
     "output_type": "stream",
     "text": [
      "<class 'pandas.core.frame.DataFrame'>\n",
      "RangeIndex: 376822 entries, 0 to 376821\n",
      "Data columns (total 13 columns):\n",
      " #   Column         Non-Null Count   Dtype \n",
      "---  ------         --------------   ----- \n",
      " 0   name           376822 non-null  object\n",
      " 1   city           341115 non-null  object\n",
      " 2   state          269752 non-null  object\n",
      " 3   country        345701 non-null  object\n",
      " 4   employeeRange  354766 non-null  object\n",
      " 5   followerCount  376822 non-null  object\n",
      " 6   positionCount  376822 non-null  int64 \n",
      " 7   stage          18717 non-null   object\n",
      " 8   websiteUrl     372438 non-null  object\n",
      " 9   Industry       352919 non-null  object\n",
      " 10  funding_type   102385 non-null  object\n",
      " 11  name_norm      376822 non-null  object\n",
      " 12  best_company   376822 non-null  int64 \n",
      "dtypes: int64(2), object(11)\n",
      "memory usage: 37.4+ MB\n"
     ]
    }
   ],
   "source": [
    "df_1 = df_cleaned_1.copy()\n",
    "df_1.info()"
   ]
  },
  {
   "cell_type": "code",
   "execution_count": 63,
   "id": "8c0bc52b",
   "metadata": {},
   "outputs": [],
   "source": [
    "df_1['funding_type'] = df_1['funding_type'].replace(to_replace='pre_seed', value='pre-seed')\n",
    "df_1['funding_type'] = df_1['funding_type'].replace(to_replace='series_a', value='series a')\n",
    "df_1['funding_type'] = df_1['funding_type'].replace(to_replace='series_b', value='series b')\n",
    "df_1['funding_type'] = df_1['funding_type'].replace(to_replace='private_equity', value='private equity')\n",
    "df_1['funding_type'] = df_1['funding_type'].replace(to_replace='debt_financing', value='debt funding')\n",
    "df_1['funding_type'] = df_1['funding_type'].replace(to_replace='series_c', value='series c')\n",
    "df_1['funding_type'] = df_1['funding_type'].replace(to_replace='equity_crowd_funding', value='crowdfunding')\n",
    "df_1['funding_type'] = df_1['funding_type'].replace(to_replace='funding_round', value='funding')\n",
    "df_1['funding_type'] = df_1['funding_type'].replace(to_replace='series_d', value='series d')\n",
    "df_1['funding_type'] = df_1['funding_type'].replace(to_replace='corporate_round', value='corporate round')\n",
    "df_1['funding_type'] = df_1['funding_type'].replace(to_replace='series_e', value='series e')\n",
    "df_1['funding_type'] = df_1['funding_type'].replace(to_replace='product_crowd_funding', value='crowdfunding')\n",
    "df_1['funding_type'] = df_1['funding_type'].replace(to_replace='series_f', value='series f')\n",
    "df_1['funding_type'] = df_1['funding_type'].replace(to_replace='series_g', value='series g')\n",
    "df_1['funding_type'] = df_1['funding_type'].replace(to_replace='series_h', value='series h')\n",
    "df_1['funding_type'] = df_1['funding_type'].replace(to_replace='series_i', value='series i')\n",
    "df_1['funding_type'] = df_1['funding_type'].replace(to_replace='series_j', value='series j')"
   ]
  },
  {
   "cell_type": "raw",
   "id": "8d972132",
   "metadata": {},
   "source": [
    "df_1.to_csv('df_1_final.csv', index_label=False)"
   ]
  },
  {
   "cell_type": "markdown",
   "id": "9b6644be",
   "metadata": {},
   "source": [
    "___\n",
    "# PART 2. Data from kaggle"
   ]
  },
  {
   "cell_type": "code",
   "execution_count": 64,
   "id": "d036c0e3",
   "metadata": {},
   "outputs": [
    {
     "data": {
      "text/html": [
       "<div>\n",
       "<style scoped>\n",
       "    .dataframe tbody tr th:only-of-type {\n",
       "        vertical-align: middle;\n",
       "    }\n",
       "\n",
       "    .dataframe tbody tr th {\n",
       "        vertical-align: top;\n",
       "    }\n",
       "\n",
       "    .dataframe thead th {\n",
       "        text-align: right;\n",
       "    }\n",
       "</style>\n",
       "<table border=\"1\" class=\"dataframe\">\n",
       "  <thead>\n",
       "    <tr style=\"text-align: right;\">\n",
       "      <th></th>\n",
       "      <th>COMPANY NAME</th>\n",
       "      <th>category_code</th>\n",
       "      <th>status</th>\n",
       "      <th>founded_at</th>\n",
       "      <th>closed_at</th>\n",
       "      <th>Website</th>\n",
       "      <th>twitter_username</th>\n",
       "      <th>short_description</th>\n",
       "      <th>description</th>\n",
       "      <th>overview</th>\n",
       "      <th>...</th>\n",
       "      <th>Founded</th>\n",
       "      <th>Description</th>\n",
       "      <th>Valuation</th>\n",
       "      <th>Date</th>\n",
       "      <th>year</th>\n",
       "      <th>month</th>\n",
       "      <th>day</th>\n",
       "      <th>founded</th>\n",
       "      <th>team_size</th>\n",
       "      <th>location</th>\n",
       "    </tr>\n",
       "  </thead>\n",
       "  <tbody>\n",
       "    <tr>\n",
       "      <th>0</th>\n",
       "      <td>Wetpaint</td>\n",
       "      <td>web</td>\n",
       "      <td>operating</td>\n",
       "      <td>2005-10-17</td>\n",
       "      <td>NaN</td>\n",
       "      <td>http://wetpaint-inc.com</td>\n",
       "      <td>BachelrWetpaint</td>\n",
       "      <td>NaN</td>\n",
       "      <td>Technology Platform Company</td>\n",
       "      <td>Wetpaint is a technology platform company that...</td>\n",
       "      <td>...</td>\n",
       "      <td>NaN</td>\n",
       "      <td>NaN</td>\n",
       "      <td>NaN</td>\n",
       "      <td>NaN</td>\n",
       "      <td>NaN</td>\n",
       "      <td>NaN</td>\n",
       "      <td>NaN</td>\n",
       "      <td>NaN</td>\n",
       "      <td>NaN</td>\n",
       "      <td>NaN</td>\n",
       "    </tr>\n",
       "    <tr>\n",
       "      <th>1</th>\n",
       "      <td>Flektor</td>\n",
       "      <td>games_video</td>\n",
       "      <td>acquired</td>\n",
       "      <td>NaN</td>\n",
       "      <td>NaN</td>\n",
       "      <td>http://www.flektor.com</td>\n",
       "      <td>NaN</td>\n",
       "      <td>NaN</td>\n",
       "      <td>NaN</td>\n",
       "      <td>Flektor is a rich-media mash-up platform that ...</td>\n",
       "      <td>...</td>\n",
       "      <td>NaN</td>\n",
       "      <td>NaN</td>\n",
       "      <td>NaN</td>\n",
       "      <td>NaN</td>\n",
       "      <td>NaN</td>\n",
       "      <td>NaN</td>\n",
       "      <td>NaN</td>\n",
       "      <td>NaN</td>\n",
       "      <td>NaN</td>\n",
       "      <td>NaN</td>\n",
       "    </tr>\n",
       "    <tr>\n",
       "      <th>2</th>\n",
       "      <td>There</td>\n",
       "      <td>games_video</td>\n",
       "      <td>acquired</td>\n",
       "      <td>NaN</td>\n",
       "      <td>NaN</td>\n",
       "      <td>http://www.there.com</td>\n",
       "      <td>NaN</td>\n",
       "      <td>NaN</td>\n",
       "      <td>NaN</td>\n",
       "      <td>There.com is an online virtual world where any...</td>\n",
       "      <td>...</td>\n",
       "      <td>NaN</td>\n",
       "      <td>NaN</td>\n",
       "      <td>NaN</td>\n",
       "      <td>NaN</td>\n",
       "      <td>NaN</td>\n",
       "      <td>NaN</td>\n",
       "      <td>NaN</td>\n",
       "      <td>NaN</td>\n",
       "      <td>NaN</td>\n",
       "      <td>NaN</td>\n",
       "    </tr>\n",
       "    <tr>\n",
       "      <th>3</th>\n",
       "      <td>MYWEBBO</td>\n",
       "      <td>network_hosting</td>\n",
       "      <td>operating</td>\n",
       "      <td>2008-07-26</td>\n",
       "      <td>NaN</td>\n",
       "      <td>http://www.mywebbo.com</td>\n",
       "      <td>NaN</td>\n",
       "      <td>NaN</td>\n",
       "      <td>NaN</td>\n",
       "      <td>BRAND NEW ONLINE SOCIAL NETWORKING WEBSITE,FOR...</td>\n",
       "      <td>...</td>\n",
       "      <td>NaN</td>\n",
       "      <td>NaN</td>\n",
       "      <td>NaN</td>\n",
       "      <td>NaN</td>\n",
       "      <td>NaN</td>\n",
       "      <td>NaN</td>\n",
       "      <td>NaN</td>\n",
       "      <td>NaN</td>\n",
       "      <td>NaN</td>\n",
       "      <td>NaN</td>\n",
       "    </tr>\n",
       "    <tr>\n",
       "      <th>4</th>\n",
       "      <td>THE Movie Streamer</td>\n",
       "      <td>games_video</td>\n",
       "      <td>operating</td>\n",
       "      <td>2008-07-26</td>\n",
       "      <td>NaN</td>\n",
       "      <td>http://themoviestreamer.com</td>\n",
       "      <td>NaN</td>\n",
       "      <td>NaN</td>\n",
       "      <td>NaN</td>\n",
       "      <td>This company shows free movies online on their...</td>\n",
       "      <td>...</td>\n",
       "      <td>NaN</td>\n",
       "      <td>NaN</td>\n",
       "      <td>NaN</td>\n",
       "      <td>NaN</td>\n",
       "      <td>NaN</td>\n",
       "      <td>NaN</td>\n",
       "      <td>NaN</td>\n",
       "      <td>NaN</td>\n",
       "      <td>NaN</td>\n",
       "      <td>NaN</td>\n",
       "    </tr>\n",
       "    <tr>\n",
       "      <th>...</th>\n",
       "      <td>...</td>\n",
       "      <td>...</td>\n",
       "      <td>...</td>\n",
       "      <td>...</td>\n",
       "      <td>...</td>\n",
       "      <td>...</td>\n",
       "      <td>...</td>\n",
       "      <td>...</td>\n",
       "      <td>...</td>\n",
       "      <td>...</td>\n",
       "      <td>...</td>\n",
       "      <td>...</td>\n",
       "      <td>...</td>\n",
       "      <td>...</td>\n",
       "      <td>...</td>\n",
       "      <td>...</td>\n",
       "      <td>...</td>\n",
       "      <td>...</td>\n",
       "      <td>...</td>\n",
       "      <td>...</td>\n",
       "      <td>...</td>\n",
       "    </tr>\n",
       "    <tr>\n",
       "      <th>236128</th>\n",
       "      <td>Anfin</td>\n",
       "      <td>NaN</td>\n",
       "      <td>NaN</td>\n",
       "      <td>NaN</td>\n",
       "      <td>NaN</td>\n",
       "      <td>https://anfin.vn/</td>\n",
       "      <td>NaN</td>\n",
       "      <td>Modern stock trading for Vietnam</td>\n",
       "      <td>Anfin is building a modern trading experience ...</td>\n",
       "      <td>NaN</td>\n",
       "      <td>...</td>\n",
       "      <td>NaN</td>\n",
       "      <td>NaN</td>\n",
       "      <td>NaN</td>\n",
       "      <td>NaN</td>\n",
       "      <td>NaN</td>\n",
       "      <td>NaN</td>\n",
       "      <td>NaN</td>\n",
       "      <td>2021.0</td>\n",
       "      <td>40.0</td>\n",
       "      <td>Ho Chi Minh City, Vietnam</td>\n",
       "    </tr>\n",
       "    <tr>\n",
       "      <th>236129</th>\n",
       "      <td>InsureMyTeam</td>\n",
       "      <td>NaN</td>\n",
       "      <td>NaN</td>\n",
       "      <td>NaN</td>\n",
       "      <td>NaN</td>\n",
       "      <td>https://www.insuremyteam.com</td>\n",
       "      <td>NaN</td>\n",
       "      <td>Disrupting Indian Insurance space by empowerin...</td>\n",
       "      <td>India’s insurance market is filled with bygone...</td>\n",
       "      <td>NaN</td>\n",
       "      <td>...</td>\n",
       "      <td>NaN</td>\n",
       "      <td>NaN</td>\n",
       "      <td>NaN</td>\n",
       "      <td>NaN</td>\n",
       "      <td>NaN</td>\n",
       "      <td>NaN</td>\n",
       "      <td>NaN</td>\n",
       "      <td>2021.0</td>\n",
       "      <td>11.0</td>\n",
       "      <td>Mumbai, India</td>\n",
       "    </tr>\n",
       "    <tr>\n",
       "      <th>236130</th>\n",
       "      <td>SALT</td>\n",
       "      <td>NaN</td>\n",
       "      <td>NaN</td>\n",
       "      <td>NaN</td>\n",
       "      <td>NaN</td>\n",
       "      <td>https://salt.pe</td>\n",
       "      <td>NaN</td>\n",
       "      <td>B2B Cross-Border Payment &amp; Compliance Platform</td>\n",
       "      <td>Salt is a neo banking solution stitched togeth...</td>\n",
       "      <td>NaN</td>\n",
       "      <td>...</td>\n",
       "      <td>NaN</td>\n",
       "      <td>NaN</td>\n",
       "      <td>NaN</td>\n",
       "      <td>NaN</td>\n",
       "      <td>NaN</td>\n",
       "      <td>NaN</td>\n",
       "      <td>NaN</td>\n",
       "      <td>2020.0</td>\n",
       "      <td>14.0</td>\n",
       "      <td>Bengaluru, India</td>\n",
       "    </tr>\n",
       "    <tr>\n",
       "      <th>236131</th>\n",
       "      <td>NearWave</td>\n",
       "      <td>NaN</td>\n",
       "      <td>NaN</td>\n",
       "      <td>NaN</td>\n",
       "      <td>NaN</td>\n",
       "      <td>http://nearwave.co</td>\n",
       "      <td>NaN</td>\n",
       "      <td>Helping physicians select the right therapy fo...</td>\n",
       "      <td>NearWave makes a handheld imaging device that ...</td>\n",
       "      <td>NaN</td>\n",
       "      <td>...</td>\n",
       "      <td>NaN</td>\n",
       "      <td>NaN</td>\n",
       "      <td>NaN</td>\n",
       "      <td>NaN</td>\n",
       "      <td>NaN</td>\n",
       "      <td>NaN</td>\n",
       "      <td>NaN</td>\n",
       "      <td>2020.0</td>\n",
       "      <td>1.0</td>\n",
       "      <td>South Bend, IN</td>\n",
       "    </tr>\n",
       "    <tr>\n",
       "      <th>236132</th>\n",
       "      <td>Stairs Financial</td>\n",
       "      <td>NaN</td>\n",
       "      <td>NaN</td>\n",
       "      <td>NaN</td>\n",
       "      <td>NaN</td>\n",
       "      <td>https://stairsfinancial.com</td>\n",
       "      <td>NaN</td>\n",
       "      <td>Find a home you can actually afford</td>\n",
       "      <td>Stairs helps young Americans buy their first h...</td>\n",
       "      <td>NaN</td>\n",
       "      <td>...</td>\n",
       "      <td>NaN</td>\n",
       "      <td>NaN</td>\n",
       "      <td>NaN</td>\n",
       "      <td>NaN</td>\n",
       "      <td>NaN</td>\n",
       "      <td>NaN</td>\n",
       "      <td>NaN</td>\n",
       "      <td>2021.0</td>\n",
       "      <td>2.0</td>\n",
       "      <td>New York</td>\n",
       "    </tr>\n",
       "  </tbody>\n",
       "</table>\n",
       "<p>236133 rows × 83 columns</p>\n",
       "</div>"
      ],
      "text/plain": [
       "              COMPANY NAME    category_code     status  founded_at closed_at  \\\n",
       "0                 Wetpaint              web  operating  2005-10-17       NaN   \n",
       "1                  Flektor      games_video   acquired         NaN       NaN   \n",
       "2                    There      games_video   acquired         NaN       NaN   \n",
       "3                  MYWEBBO  network_hosting  operating  2008-07-26       NaN   \n",
       "4       THE Movie Streamer      games_video  operating  2008-07-26       NaN   \n",
       "...                    ...              ...        ...         ...       ...   \n",
       "236128               Anfin              NaN        NaN         NaN       NaN   \n",
       "236129        InsureMyTeam              NaN        NaN         NaN       NaN   \n",
       "236130                SALT              NaN        NaN         NaN       NaN   \n",
       "236131            NearWave              NaN        NaN         NaN       NaN   \n",
       "236132    Stairs Financial              NaN        NaN         NaN       NaN   \n",
       "\n",
       "                             Website twitter_username  \\\n",
       "0            http://wetpaint-inc.com  BachelrWetpaint   \n",
       "1             http://www.flektor.com              NaN   \n",
       "2               http://www.there.com              NaN   \n",
       "3             http://www.mywebbo.com              NaN   \n",
       "4        http://themoviestreamer.com              NaN   \n",
       "...                              ...              ...   \n",
       "236128             https://anfin.vn/              NaN   \n",
       "236129  https://www.insuremyteam.com              NaN   \n",
       "236130               https://salt.pe              NaN   \n",
       "236131            http://nearwave.co              NaN   \n",
       "236132   https://stairsfinancial.com              NaN   \n",
       "\n",
       "                                        short_description  \\\n",
       "0                                                     NaN   \n",
       "1                                                     NaN   \n",
       "2                                                     NaN   \n",
       "3                                                     NaN   \n",
       "4                                                     NaN   \n",
       "...                                                   ...   \n",
       "236128                   Modern stock trading for Vietnam   \n",
       "236129  Disrupting Indian Insurance space by empowerin...   \n",
       "236130     B2B Cross-Border Payment & Compliance Platform   \n",
       "236131  Helping physicians select the right therapy fo...   \n",
       "236132                Find a home you can actually afford   \n",
       "\n",
       "                                              description  \\\n",
       "0                             Technology Platform Company   \n",
       "1                                                     NaN   \n",
       "2                                                     NaN   \n",
       "3                                                     NaN   \n",
       "4                                                     NaN   \n",
       "...                                                   ...   \n",
       "236128  Anfin is building a modern trading experience ...   \n",
       "236129  India’s insurance market is filled with bygone...   \n",
       "236130  Salt is a neo banking solution stitched togeth...   \n",
       "236131  NearWave makes a handheld imaging device that ...   \n",
       "236132  Stairs helps young Americans buy their first h...   \n",
       "\n",
       "                                                 overview  ... Founded  \\\n",
       "0       Wetpaint is a technology platform company that...  ...     NaN   \n",
       "1       Flektor is a rich-media mash-up platform that ...  ...     NaN   \n",
       "2       There.com is an online virtual world where any...  ...     NaN   \n",
       "3       BRAND NEW ONLINE SOCIAL NETWORKING WEBSITE,FOR...  ...     NaN   \n",
       "4       This company shows free movies online on their...  ...     NaN   \n",
       "...                                                   ...  ...     ...   \n",
       "236128                                                NaN  ...     NaN   \n",
       "236129                                                NaN  ...     NaN   \n",
       "236130                                                NaN  ...     NaN   \n",
       "236131                                                NaN  ...     NaN   \n",
       "236132                                                NaN  ...     NaN   \n",
       "\n",
       "       Description Valuation Date year month day  founded  team_size  \\\n",
       "0              NaN       NaN  NaN  NaN   NaN NaN      NaN        NaN   \n",
       "1              NaN       NaN  NaN  NaN   NaN NaN      NaN        NaN   \n",
       "2              NaN       NaN  NaN  NaN   NaN NaN      NaN        NaN   \n",
       "3              NaN       NaN  NaN  NaN   NaN NaN      NaN        NaN   \n",
       "4              NaN       NaN  NaN  NaN   NaN NaN      NaN        NaN   \n",
       "...            ...       ...  ...  ...   ...  ..      ...        ...   \n",
       "236128         NaN       NaN  NaN  NaN   NaN NaN   2021.0       40.0   \n",
       "236129         NaN       NaN  NaN  NaN   NaN NaN   2021.0       11.0   \n",
       "236130         NaN       NaN  NaN  NaN   NaN NaN   2020.0       14.0   \n",
       "236131         NaN       NaN  NaN  NaN   NaN NaN   2020.0        1.0   \n",
       "236132         NaN       NaN  NaN  NaN   NaN NaN   2021.0        2.0   \n",
       "\n",
       "                         location  \n",
       "0                             NaN  \n",
       "1                             NaN  \n",
       "2                             NaN  \n",
       "3                             NaN  \n",
       "4                             NaN  \n",
       "...                           ...  \n",
       "236128  Ho Chi Minh City, Vietnam  \n",
       "236129              Mumbai, India  \n",
       "236130           Bengaluru, India  \n",
       "236131             South Bend, IN  \n",
       "236132                   New York  \n",
       "\n",
       "[236133 rows x 83 columns]"
      ]
     },
     "execution_count": 64,
     "metadata": {},
     "output_type": "execute_result"
    }
   ],
   "source": [
    "raw_data_2 = pd.read_csv('raw_data/dataset.csv')\n",
    "raw_data_2 = raw_data_2.drop(columns=['Unnamed: 0.1', 'Unnamed: 0'])\n",
    "raw_data_2"
   ]
  },
  {
   "cell_type": "code",
   "execution_count": 65,
   "id": "2ca70955",
   "metadata": {},
   "outputs": [
    {
     "name": "stdout",
     "output_type": "stream",
     "text": [
      "<class 'pandas.core.frame.DataFrame'>\n",
      "RangeIndex: 236133 entries, 0 to 236132\n",
      "Data columns (total 83 columns):\n",
      " #   Column                                            Non-Null Count   Dtype  \n",
      "---  ------                                            --------------   -----  \n",
      " 0   COMPANY NAME                                      236111 non-null  object \n",
      " 1   category_code                                     123186 non-null  object \n",
      " 2   status                                            196553 non-null  object \n",
      " 3   founded_at                                        91227 non-null   object \n",
      " 4   closed_at                                         2620 non-null    object \n",
      " 5   Website                                           144252 non-null  object \n",
      " 6   twitter_username                                  80591 non-null   object \n",
      " 7   short_description                                 8124 non-null    object \n",
      " 8   description                                       93017 non-null   object \n",
      " 9   overview                                          126971 non-null  object \n",
      " 10  tag_list                                          81452 non-null   object \n",
      " 11  country_code                                      87990 non-null   object \n",
      " 12  state_code                                        50903 non-null   object \n",
      " 13  city                                              83890 non-null   object \n",
      " 14  region                                            196553 non-null  object \n",
      " 15  first_investment_at                               2583 non-null    object \n",
      " 16  last_investment_at                                2583 non-null    object \n",
      " 17  investment_rounds                                 2591 non-null    float64\n",
      " 18  invested_companies                                2591 non-null    float64\n",
      " 19  first_funding_at                                  31507 non-null   object \n",
      " 20  last_funding_at                                   31507 non-null   object \n",
      " 21  funding_rounds                                    31707 non-null   float64\n",
      " 22  funding_total_usd                                 27874 non-null   float64\n",
      " 23  first_milestone_at                                91699 non-null   object \n",
      " 24  last_milestone_at                                 91699 non-null   object \n",
      " 25  milestones                                        91699 non-null   float64\n",
      " 26  relationships                                     129667 non-null  float64\n",
      " 27  created_by                                        155533 non-null  object \n",
      " 28  created_at                                        196553 non-null  object \n",
      " 29  updated_at                                        196553 non-null  object \n",
      " 30  lat                                               83852 non-null   float64\n",
      " 31  lng                                               83852 non-null   float64\n",
      " 32  ROI                                               726 non-null     float64\n",
      " 33  INDUSTRY                                          38225 non-null   object \n",
      " 34  SUB-INDUSTRY                                      2863 non-null    object \n",
      " 35  COUNTRY                                           33891 non-null   object \n",
      " 36  Funding Amount (USD)                              3575 non-null    object \n",
      " 37  Funding Stage                                     3575 non-null    object \n",
      " 38  Funding Date                                      3575 non-null    object \n",
      " 39  Updated at                                        1199 non-null    object \n",
      " 40  Crunchbase Url                                    27788 non-null   object \n",
      " 41  Last Valuation (Billion $)                        1199 non-null    float64\n",
      " 42  Date Joined                                       1199 non-null    object \n",
      " 43  Year Joined                                       1199 non-null    float64\n",
      " 44  City                                              2102 non-null    object \n",
      " 45  Investors                                         2135 non-null    object \n",
      " 46  Unicorn Nest website link                         26589 non-null   object \n",
      " 47  Fund structure                                    25012 non-null   object \n",
      " 48  One of the most outstanding startups              26253 non-null   object \n",
      " 49  Fund that most often invests in previous rounds   20290 non-null   object \n",
      " 50  Fund that most often invests together             23482 non-null   object \n",
      " 51  Fund that most often invests in following rounds  18526 non-null   object \n",
      " 52  Fund novelty                                      16261 non-null   object \n",
      " 53  Proximity to the year of peak activity            26171 non-null   object \n",
      " 54  Amount of Key Persons                             8479 non-null    object \n",
      " 55  Lead investments                                  8572 non-null    object \n",
      " 56  Exits                                             10373 non-null   object \n",
      " 57  Unicorn amount                                    3053 non-null    object \n",
      " 58  Average rounds per year                           26252 non-null   object \n",
      " 59  Average round size                                25540 non-null   object \n",
      " 60  Average startup valuation                         5282 non-null    object \n",
      " 61  Decision makers / strategy diversity index        997 non-null     object \n",
      " 62  Average multiplicator                             7813 non-null    object \n",
      " 63  Success / strategy diversity index                7481 non-null    object \n",
      " 64  Follow-on index                                   9053 non-null    object \n",
      " 65  Readiness to take younger startups                24240 non-null   object \n",
      " 66  Date dd/mm/yyyy                                   3044 non-null    object \n",
      " 67  SubVertical                                       2108 non-null    object \n",
      " 68  City  Location                                    2864 non-null    object \n",
      " 69  Investors Name                                    3020 non-null    object \n",
      " 70  InvestmentnType                                   3040 non-null    object \n",
      " 71  Amount in USD                                     2084 non-null    object \n",
      " 72  Tagline                                           374 non-null     object \n",
      " 73  Founded                                           374 non-null     object \n",
      " 74  Description                                       374 non-null     object \n",
      " 75  Valuation                                         936 non-null     float64\n",
      " 76  Date                                              936 non-null     object \n",
      " 77  year                                              936 non-null     float64\n",
      " 78  month                                             936 non-null     float64\n",
      " 79  day                                               936 non-null     float64\n",
      " 80  founded                                           1000 non-null    float64\n",
      " 81  team_size                                         1000 non-null    float64\n",
      " 82  location                                          985 non-null     object \n",
      "dtypes: float64(17), object(66)\n",
      "memory usage: 149.5+ MB\n"
     ]
    }
   ],
   "source": [
    "raw_data_2.info()"
   ]
  },
  {
   "cell_type": "code",
   "execution_count": 66,
   "id": "9ed8490a",
   "metadata": {},
   "outputs": [],
   "source": [
    "data_2 = raw_data_2.copy()"
   ]
  },
  {
   "cell_type": "code",
   "execution_count": 67,
   "id": "f6a9af9f",
   "metadata": {},
   "outputs": [
    {
     "data": {
      "text/plain": [
       "3"
      ]
     },
     "execution_count": 67,
     "metadata": {},
     "output_type": "execute_result"
    }
   ],
   "source": [
    "data_2.duplicated().sum()"
   ]
  },
  {
   "cell_type": "code",
   "execution_count": 68,
   "id": "ad17b1f3",
   "metadata": {},
   "outputs": [
    {
     "data": {
      "text/plain": [
       "(236130, 83)"
      ]
     },
     "execution_count": 68,
     "metadata": {},
     "output_type": "execute_result"
    }
   ],
   "source": [
    "data_2 = data_2.drop_duplicates().reset_index(drop=True)\n",
    "data_2.shape"
   ]
  },
  {
   "cell_type": "markdown",
   "id": "4e8c2d27",
   "metadata": {},
   "source": [
    "### Company name "
   ]
  },
  {
   "cell_type": "code",
   "execution_count": 69,
   "id": "8ae24ec9",
   "metadata": {},
   "outputs": [],
   "source": [
    "data_2['COMPANY NAME'] = data_2['COMPANY NAME'].str.replace('#', '')\n",
    "data_2['COMPANY NAME'] = data_2['COMPANY NAME'].str.replace('!', '')\n",
    "data_2['COMPANY NAME'] = data_2['COMPANY NAME'].str.replace('\"', '')\n",
    "data_2['COMPANY NAME'] = data_2['COMPANY NAME'].str.replace('/', ' ')\n",
    "data_2['COMPANY NAME'] = data_2['COMPANY NAME'].str.replace('\\\\', '')\n",
    "data_2['COMPANY NAME'] = data_2['COMPANY NAME'].str.replace('xc2', '')\n",
    "data_2['COMPANY NAME'] = data_2['COMPANY NAME'].str.replace('xa0', '')"
   ]
  },
  {
   "cell_type": "code",
   "execution_count": 70,
   "id": "c799edd0",
   "metadata": {},
   "outputs": [
    {
     "data": {
      "text/html": [
       "<div>\n",
       "<style scoped>\n",
       "    .dataframe tbody tr th:only-of-type {\n",
       "        vertical-align: middle;\n",
       "    }\n",
       "\n",
       "    .dataframe tbody tr th {\n",
       "        vertical-align: top;\n",
       "    }\n",
       "\n",
       "    .dataframe thead th {\n",
       "        text-align: right;\n",
       "    }\n",
       "</style>\n",
       "<table border=\"1\" class=\"dataframe\">\n",
       "  <thead>\n",
       "    <tr style=\"text-align: right;\">\n",
       "      <th></th>\n",
       "      <th>COMPANY NAME</th>\n",
       "      <th>category_code</th>\n",
       "      <th>status</th>\n",
       "      <th>founded_at</th>\n",
       "      <th>closed_at</th>\n",
       "      <th>Website</th>\n",
       "      <th>twitter_username</th>\n",
       "      <th>short_description</th>\n",
       "      <th>description</th>\n",
       "      <th>overview</th>\n",
       "      <th>...</th>\n",
       "      <th>Founded</th>\n",
       "      <th>Description</th>\n",
       "      <th>Valuation</th>\n",
       "      <th>Date</th>\n",
       "      <th>year</th>\n",
       "      <th>month</th>\n",
       "      <th>day</th>\n",
       "      <th>founded</th>\n",
       "      <th>team_size</th>\n",
       "      <th>location</th>\n",
       "    </tr>\n",
       "  </thead>\n",
       "  <tbody>\n",
       "    <tr>\n",
       "      <th>9079</th>\n",
       "      <td>NaN</td>\n",
       "      <td>ecommerce</td>\n",
       "      <td>operating</td>\n",
       "      <td>2010-02-13</td>\n",
       "      <td>NaN</td>\n",
       "      <td>http://www.mytable.pt</td>\n",
       "      <td>mytable_pt</td>\n",
       "      <td>NaN</td>\n",
       "      <td>Online restaurant bookings</td>\n",
       "      <td>NaN</td>\n",
       "      <td>...</td>\n",
       "      <td>NaN</td>\n",
       "      <td>NaN</td>\n",
       "      <td>NaN</td>\n",
       "      <td>NaN</td>\n",
       "      <td>NaN</td>\n",
       "      <td>NaN</td>\n",
       "      <td>NaN</td>\n",
       "      <td>NaN</td>\n",
       "      <td>NaN</td>\n",
       "      <td>NaN</td>\n",
       "    </tr>\n",
       "    <tr>\n",
       "      <th>12033</th>\n",
       "      <td>NaN</td>\n",
       "      <td>NaN</td>\n",
       "      <td>operating</td>\n",
       "      <td>NaN</td>\n",
       "      <td>NaN</td>\n",
       "      <td>NaN</td>\n",
       "      <td>NaN</td>\n",
       "      <td>NaN</td>\n",
       "      <td>NaN</td>\n",
       "      <td>NaN</td>\n",
       "      <td>...</td>\n",
       "      <td>NaN</td>\n",
       "      <td>NaN</td>\n",
       "      <td>NaN</td>\n",
       "      <td>NaN</td>\n",
       "      <td>NaN</td>\n",
       "      <td>NaN</td>\n",
       "      <td>NaN</td>\n",
       "      <td>NaN</td>\n",
       "      <td>NaN</td>\n",
       "      <td>NaN</td>\n",
       "    </tr>\n",
       "    <tr>\n",
       "      <th>20890</th>\n",
       "      <td>NaN</td>\n",
       "      <td>NaN</td>\n",
       "      <td>operating</td>\n",
       "      <td>2012-01-01</td>\n",
       "      <td>NaN</td>\n",
       "      <td>NaN</td>\n",
       "      <td>NaN</td>\n",
       "      <td>NaN</td>\n",
       "      <td>NaN</td>\n",
       "      <td>Team-Up Dating Game provides engagement engine...</td>\n",
       "      <td>...</td>\n",
       "      <td>NaN</td>\n",
       "      <td>NaN</td>\n",
       "      <td>NaN</td>\n",
       "      <td>NaN</td>\n",
       "      <td>NaN</td>\n",
       "      <td>NaN</td>\n",
       "      <td>NaN</td>\n",
       "      <td>NaN</td>\n",
       "      <td>NaN</td>\n",
       "      <td>NaN</td>\n",
       "    </tr>\n",
       "    <tr>\n",
       "      <th>29978</th>\n",
       "      <td>NaN</td>\n",
       "      <td>NaN</td>\n",
       "      <td>operating</td>\n",
       "      <td>NaN</td>\n",
       "      <td>NaN</td>\n",
       "      <td>NaN</td>\n",
       "      <td>NaN</td>\n",
       "      <td>NaN</td>\n",
       "      <td>NaN</td>\n",
       "      <td>NaN</td>\n",
       "      <td>...</td>\n",
       "      <td>NaN</td>\n",
       "      <td>NaN</td>\n",
       "      <td>NaN</td>\n",
       "      <td>NaN</td>\n",
       "      <td>NaN</td>\n",
       "      <td>NaN</td>\n",
       "      <td>NaN</td>\n",
       "      <td>NaN</td>\n",
       "      <td>NaN</td>\n",
       "      <td>NaN</td>\n",
       "    </tr>\n",
       "    <tr>\n",
       "      <th>59623</th>\n",
       "      <td>NaN</td>\n",
       "      <td>other</td>\n",
       "      <td>operating</td>\n",
       "      <td>2012-01-01</td>\n",
       "      <td>NaN</td>\n",
       "      <td>http://www.elitedivingagency.com</td>\n",
       "      <td>Elite_D_Agency</td>\n",
       "      <td>NaN</td>\n",
       "      <td>Tailor-made Diving Services</td>\n",
       "      <td>Organises tailor-made diving services.\\r\\nPers...</td>\n",
       "      <td>...</td>\n",
       "      <td>NaN</td>\n",
       "      <td>NaN</td>\n",
       "      <td>NaN</td>\n",
       "      <td>NaN</td>\n",
       "      <td>NaN</td>\n",
       "      <td>NaN</td>\n",
       "      <td>NaN</td>\n",
       "      <td>NaN</td>\n",
       "      <td>NaN</td>\n",
       "      <td>NaN</td>\n",
       "    </tr>\n",
       "    <tr>\n",
       "      <th>65122</th>\n",
       "      <td>NaN</td>\n",
       "      <td>NaN</td>\n",
       "      <td>operating</td>\n",
       "      <td>NaN</td>\n",
       "      <td>NaN</td>\n",
       "      <td>NaN</td>\n",
       "      <td>NaN</td>\n",
       "      <td>NaN</td>\n",
       "      <td>NaN</td>\n",
       "      <td>NaN</td>\n",
       "      <td>...</td>\n",
       "      <td>NaN</td>\n",
       "      <td>NaN</td>\n",
       "      <td>NaN</td>\n",
       "      <td>NaN</td>\n",
       "      <td>NaN</td>\n",
       "      <td>NaN</td>\n",
       "      <td>NaN</td>\n",
       "      <td>NaN</td>\n",
       "      <td>NaN</td>\n",
       "      <td>NaN</td>\n",
       "    </tr>\n",
       "    <tr>\n",
       "      <th>67052</th>\n",
       "      <td>NaN</td>\n",
       "      <td>NaN</td>\n",
       "      <td>operating</td>\n",
       "      <td>NaN</td>\n",
       "      <td>NaN</td>\n",
       "      <td>NaN</td>\n",
       "      <td>NaN</td>\n",
       "      <td>NaN</td>\n",
       "      <td>NaN</td>\n",
       "      <td>NaN</td>\n",
       "      <td>...</td>\n",
       "      <td>NaN</td>\n",
       "      <td>NaN</td>\n",
       "      <td>NaN</td>\n",
       "      <td>NaN</td>\n",
       "      <td>NaN</td>\n",
       "      <td>NaN</td>\n",
       "      <td>NaN</td>\n",
       "      <td>NaN</td>\n",
       "      <td>NaN</td>\n",
       "      <td>NaN</td>\n",
       "    </tr>\n",
       "    <tr>\n",
       "      <th>68942</th>\n",
       "      <td>NaN</td>\n",
       "      <td>ecommerce</td>\n",
       "      <td>operating</td>\n",
       "      <td>2013-03-01</td>\n",
       "      <td>NaN</td>\n",
       "      <td>http://cokhos.com</td>\n",
       "      <td>cokhoscom</td>\n",
       "      <td>NaN</td>\n",
       "      <td>Online shopping and lifestyle company.</td>\n",
       "      <td>NaN</td>\n",
       "      <td>...</td>\n",
       "      <td>NaN</td>\n",
       "      <td>NaN</td>\n",
       "      <td>NaN</td>\n",
       "      <td>NaN</td>\n",
       "      <td>NaN</td>\n",
       "      <td>NaN</td>\n",
       "      <td>NaN</td>\n",
       "      <td>NaN</td>\n",
       "      <td>NaN</td>\n",
       "      <td>NaN</td>\n",
       "    </tr>\n",
       "    <tr>\n",
       "      <th>73118</th>\n",
       "      <td>NaN</td>\n",
       "      <td>NaN</td>\n",
       "      <td>operating</td>\n",
       "      <td>NaN</td>\n",
       "      <td>NaN</td>\n",
       "      <td>NaN</td>\n",
       "      <td>NaN</td>\n",
       "      <td>NaN</td>\n",
       "      <td>NaN</td>\n",
       "      <td>NaN</td>\n",
       "      <td>...</td>\n",
       "      <td>NaN</td>\n",
       "      <td>NaN</td>\n",
       "      <td>NaN</td>\n",
       "      <td>NaN</td>\n",
       "      <td>NaN</td>\n",
       "      <td>NaN</td>\n",
       "      <td>NaN</td>\n",
       "      <td>NaN</td>\n",
       "      <td>NaN</td>\n",
       "      <td>NaN</td>\n",
       "    </tr>\n",
       "    <tr>\n",
       "      <th>78002</th>\n",
       "      <td>NaN</td>\n",
       "      <td>NaN</td>\n",
       "      <td>operating</td>\n",
       "      <td>NaN</td>\n",
       "      <td>NaN</td>\n",
       "      <td>NaN</td>\n",
       "      <td>NaN</td>\n",
       "      <td>NaN</td>\n",
       "      <td>NaN</td>\n",
       "      <td>NaN</td>\n",
       "      <td>...</td>\n",
       "      <td>NaN</td>\n",
       "      <td>NaN</td>\n",
       "      <td>NaN</td>\n",
       "      <td>NaN</td>\n",
       "      <td>NaN</td>\n",
       "      <td>NaN</td>\n",
       "      <td>NaN</td>\n",
       "      <td>NaN</td>\n",
       "      <td>NaN</td>\n",
       "      <td>NaN</td>\n",
       "    </tr>\n",
       "    <tr>\n",
       "      <th>102075</th>\n",
       "      <td>NaN</td>\n",
       "      <td>fashion</td>\n",
       "      <td>operating</td>\n",
       "      <td>2012-01-01</td>\n",
       "      <td>NaN</td>\n",
       "      <td>http://www.editionlingerie.de</td>\n",
       "      <td>editionlingerie</td>\n",
       "      <td>NaN</td>\n",
       "      <td>NaN</td>\n",
       "      <td>NaN</td>\n",
       "      <td>...</td>\n",
       "      <td>NaN</td>\n",
       "      <td>NaN</td>\n",
       "      <td>NaN</td>\n",
       "      <td>NaN</td>\n",
       "      <td>NaN</td>\n",
       "      <td>NaN</td>\n",
       "      <td>NaN</td>\n",
       "      <td>NaN</td>\n",
       "      <td>NaN</td>\n",
       "      <td>NaN</td>\n",
       "    </tr>\n",
       "    <tr>\n",
       "      <th>112032</th>\n",
       "      <td>NaN</td>\n",
       "      <td>NaN</td>\n",
       "      <td>operating</td>\n",
       "      <td>NaN</td>\n",
       "      <td>NaN</td>\n",
       "      <td>NaN</td>\n",
       "      <td>NaN</td>\n",
       "      <td>NaN</td>\n",
       "      <td>NaN</td>\n",
       "      <td>NaN</td>\n",
       "      <td>...</td>\n",
       "      <td>NaN</td>\n",
       "      <td>NaN</td>\n",
       "      <td>NaN</td>\n",
       "      <td>NaN</td>\n",
       "      <td>NaN</td>\n",
       "      <td>NaN</td>\n",
       "      <td>NaN</td>\n",
       "      <td>NaN</td>\n",
       "      <td>NaN</td>\n",
       "      <td>NaN</td>\n",
       "    </tr>\n",
       "    <tr>\n",
       "      <th>114787</th>\n",
       "      <td>NaN</td>\n",
       "      <td>other</td>\n",
       "      <td>operating</td>\n",
       "      <td>2013-04-03</td>\n",
       "      <td>NaN</td>\n",
       "      <td>http://www.cizimmasalari.org</td>\n",
       "      <td>NaN</td>\n",
       "      <td>NaN</td>\n",
       "      <td>NaN</td>\n",
       "      <td>NaN</td>\n",
       "      <td>...</td>\n",
       "      <td>NaN</td>\n",
       "      <td>NaN</td>\n",
       "      <td>NaN</td>\n",
       "      <td>NaN</td>\n",
       "      <td>NaN</td>\n",
       "      <td>NaN</td>\n",
       "      <td>NaN</td>\n",
       "      <td>NaN</td>\n",
       "      <td>NaN</td>\n",
       "      <td>NaN</td>\n",
       "    </tr>\n",
       "    <tr>\n",
       "      <th>117155</th>\n",
       "      <td>NaN</td>\n",
       "      <td>consulting</td>\n",
       "      <td>operating</td>\n",
       "      <td>2012-06-01</td>\n",
       "      <td>NaN</td>\n",
       "      <td>http://www.oresundswebb.se</td>\n",
       "      <td>NaN</td>\n",
       "      <td>NaN</td>\n",
       "      <td>Web Agency In</td>\n",
       "      <td>NaN</td>\n",
       "      <td>...</td>\n",
       "      <td>NaN</td>\n",
       "      <td>NaN</td>\n",
       "      <td>NaN</td>\n",
       "      <td>NaN</td>\n",
       "      <td>NaN</td>\n",
       "      <td>NaN</td>\n",
       "      <td>NaN</td>\n",
       "      <td>NaN</td>\n",
       "      <td>NaN</td>\n",
       "      <td>NaN</td>\n",
       "    </tr>\n",
       "    <tr>\n",
       "      <th>124905</th>\n",
       "      <td>NaN</td>\n",
       "      <td>manufacturing</td>\n",
       "      <td>operating</td>\n",
       "      <td>NaN</td>\n",
       "      <td>NaN</td>\n",
       "      <td>http://3dprinter-ntp.umi.ru</td>\n",
       "      <td>NaN</td>\n",
       "      <td>NaN</td>\n",
       "      <td>3Dprinting of precise parts</td>\n",
       "      <td>The project is directed on creation of technol...</td>\n",
       "      <td>...</td>\n",
       "      <td>NaN</td>\n",
       "      <td>NaN</td>\n",
       "      <td>NaN</td>\n",
       "      <td>NaN</td>\n",
       "      <td>NaN</td>\n",
       "      <td>NaN</td>\n",
       "      <td>NaN</td>\n",
       "      <td>NaN</td>\n",
       "      <td>NaN</td>\n",
       "      <td>NaN</td>\n",
       "    </tr>\n",
       "    <tr>\n",
       "      <th>129062</th>\n",
       "      <td>NaN</td>\n",
       "      <td>hospitality</td>\n",
       "      <td>operating</td>\n",
       "      <td>NaN</td>\n",
       "      <td>NaN</td>\n",
       "      <td>http://www.unaspies.com</td>\n",
       "      <td>NaN</td>\n",
       "      <td>NaN</td>\n",
       "      <td>Irish savoury pies</td>\n",
       "      <td>NaN</td>\n",
       "      <td>...</td>\n",
       "      <td>NaN</td>\n",
       "      <td>NaN</td>\n",
       "      <td>NaN</td>\n",
       "      <td>NaN</td>\n",
       "      <td>NaN</td>\n",
       "      <td>NaN</td>\n",
       "      <td>NaN</td>\n",
       "      <td>NaN</td>\n",
       "      <td>NaN</td>\n",
       "      <td>NaN</td>\n",
       "    </tr>\n",
       "    <tr>\n",
       "      <th>129092</th>\n",
       "      <td>NaN</td>\n",
       "      <td>fashion</td>\n",
       "      <td>operating</td>\n",
       "      <td>NaN</td>\n",
       "      <td>NaN</td>\n",
       "      <td>NaN</td>\n",
       "      <td>NaN</td>\n",
       "      <td>NaN</td>\n",
       "      <td>Fresh alternative in fanwear appeal</td>\n",
       "      <td>NaN</td>\n",
       "      <td>...</td>\n",
       "      <td>NaN</td>\n",
       "      <td>NaN</td>\n",
       "      <td>NaN</td>\n",
       "      <td>NaN</td>\n",
       "      <td>NaN</td>\n",
       "      <td>NaN</td>\n",
       "      <td>NaN</td>\n",
       "      <td>NaN</td>\n",
       "      <td>NaN</td>\n",
       "      <td>NaN</td>\n",
       "    </tr>\n",
       "    <tr>\n",
       "      <th>134422</th>\n",
       "      <td>NaN</td>\n",
       "      <td>web</td>\n",
       "      <td>operating</td>\n",
       "      <td>NaN</td>\n",
       "      <td>NaN</td>\n",
       "      <td>http://uberresearch.com</td>\n",
       "      <td>NaN</td>\n",
       "      <td>NaN</td>\n",
       "      <td>NaN</td>\n",
       "      <td>Our mission is to build decision support solu...</td>\n",
       "      <td>...</td>\n",
       "      <td>NaN</td>\n",
       "      <td>NaN</td>\n",
       "      <td>NaN</td>\n",
       "      <td>NaN</td>\n",
       "      <td>NaN</td>\n",
       "      <td>NaN</td>\n",
       "      <td>NaN</td>\n",
       "      <td>NaN</td>\n",
       "      <td>NaN</td>\n",
       "      <td>NaN</td>\n",
       "    </tr>\n",
       "    <tr>\n",
       "      <th>144915</th>\n",
       "      <td>NaN</td>\n",
       "      <td>software</td>\n",
       "      <td>operating</td>\n",
       "      <td>NaN</td>\n",
       "      <td>NaN</td>\n",
       "      <td>http://www.utorrent.com</td>\n",
       "      <td>utorrent</td>\n",
       "      <td>NaN</td>\n",
       "      <td>BitTorrent Client</td>\n",
       "      <td>NaN</td>\n",
       "      <td>...</td>\n",
       "      <td>NaN</td>\n",
       "      <td>NaN</td>\n",
       "      <td>NaN</td>\n",
       "      <td>NaN</td>\n",
       "      <td>NaN</td>\n",
       "      <td>NaN</td>\n",
       "      <td>NaN</td>\n",
       "      <td>NaN</td>\n",
       "      <td>NaN</td>\n",
       "      <td>NaN</td>\n",
       "    </tr>\n",
       "    <tr>\n",
       "      <th>160130</th>\n",
       "      <td>NaN</td>\n",
       "      <td>software</td>\n",
       "      <td>operating</td>\n",
       "      <td>1999-07-01</td>\n",
       "      <td>NaN</td>\n",
       "      <td>http://www.ubermind.com</td>\n",
       "      <td>ubermind</td>\n",
       "      <td>NaN</td>\n",
       "      <td>Software Development &amp; Consulting</td>\n",
       "      <td>Ubermind fueled by Deloitte is a leading agenc...</td>\n",
       "      <td>...</td>\n",
       "      <td>NaN</td>\n",
       "      <td>NaN</td>\n",
       "      <td>NaN</td>\n",
       "      <td>NaN</td>\n",
       "      <td>NaN</td>\n",
       "      <td>NaN</td>\n",
       "      <td>NaN</td>\n",
       "      <td>NaN</td>\n",
       "      <td>NaN</td>\n",
       "      <td>NaN</td>\n",
       "    </tr>\n",
       "    <tr>\n",
       "      <th>161350</th>\n",
       "      <td>NaN</td>\n",
       "      <td>NaN</td>\n",
       "      <td>operating</td>\n",
       "      <td>2006-01-01</td>\n",
       "      <td>NaN</td>\n",
       "      <td>http://www.u-gps.com</td>\n",
       "      <td>NaN</td>\n",
       "      <td>NaN</td>\n",
       "      <td>NaN</td>\n",
       "      <td>NaN</td>\n",
       "      <td>...</td>\n",
       "      <td>NaN</td>\n",
       "      <td>NaN</td>\n",
       "      <td>NaN</td>\n",
       "      <td>NaN</td>\n",
       "      <td>NaN</td>\n",
       "      <td>NaN</td>\n",
       "      <td>NaN</td>\n",
       "      <td>NaN</td>\n",
       "      <td>NaN</td>\n",
       "      <td>NaN</td>\n",
       "    </tr>\n",
       "    <tr>\n",
       "      <th>175506</th>\n",
       "      <td>NaN</td>\n",
       "      <td>software</td>\n",
       "      <td>operating</td>\n",
       "      <td>2010-08-12</td>\n",
       "      <td>NaN</td>\n",
       "      <td>NaN</td>\n",
       "      <td>NaN</td>\n",
       "      <td>NaN</td>\n",
       "      <td>vuon toi tuong lai</td>\n",
       "      <td>AnhSang is an iPhone application marketing and...</td>\n",
       "      <td>...</td>\n",
       "      <td>NaN</td>\n",
       "      <td>NaN</td>\n",
       "      <td>NaN</td>\n",
       "      <td>NaN</td>\n",
       "      <td>NaN</td>\n",
       "      <td>NaN</td>\n",
       "      <td>NaN</td>\n",
       "      <td>NaN</td>\n",
       "      <td>NaN</td>\n",
       "      <td>NaN</td>\n",
       "    </tr>\n",
       "  </tbody>\n",
       "</table>\n",
       "<p>22 rows × 83 columns</p>\n",
       "</div>"
      ],
      "text/plain": [
       "       COMPANY NAME  category_code     status  founded_at closed_at  \\\n",
       "9079            NaN      ecommerce  operating  2010-02-13       NaN   \n",
       "12033           NaN            NaN  operating         NaN       NaN   \n",
       "20890           NaN            NaN  operating  2012-01-01       NaN   \n",
       "29978           NaN            NaN  operating         NaN       NaN   \n",
       "59623           NaN          other  operating  2012-01-01       NaN   \n",
       "65122           NaN            NaN  operating         NaN       NaN   \n",
       "67052           NaN            NaN  operating         NaN       NaN   \n",
       "68942           NaN      ecommerce  operating  2013-03-01       NaN   \n",
       "73118           NaN            NaN  operating         NaN       NaN   \n",
       "78002           NaN            NaN  operating         NaN       NaN   \n",
       "102075          NaN        fashion  operating  2012-01-01       NaN   \n",
       "112032          NaN            NaN  operating         NaN       NaN   \n",
       "114787          NaN          other  operating  2013-04-03       NaN   \n",
       "117155          NaN     consulting  operating  2012-06-01       NaN   \n",
       "124905          NaN  manufacturing  operating         NaN       NaN   \n",
       "129062          NaN    hospitality  operating         NaN       NaN   \n",
       "129092          NaN        fashion  operating         NaN       NaN   \n",
       "134422          NaN            web  operating         NaN       NaN   \n",
       "144915          NaN       software  operating         NaN       NaN   \n",
       "160130          NaN       software  operating  1999-07-01       NaN   \n",
       "161350          NaN            NaN  operating  2006-01-01       NaN   \n",
       "175506          NaN       software  operating  2010-08-12       NaN   \n",
       "\n",
       "                                 Website twitter_username short_description  \\\n",
       "9079               http://www.mytable.pt       mytable_pt               NaN   \n",
       "12033                                NaN              NaN               NaN   \n",
       "20890                                NaN              NaN               NaN   \n",
       "29978                                NaN              NaN               NaN   \n",
       "59623   http://www.elitedivingagency.com   Elite_D_Agency               NaN   \n",
       "65122                                NaN              NaN               NaN   \n",
       "67052                                NaN              NaN               NaN   \n",
       "68942                  http://cokhos.com        cokhoscom               NaN   \n",
       "73118                                NaN              NaN               NaN   \n",
       "78002                                NaN              NaN               NaN   \n",
       "102075     http://www.editionlingerie.de  editionlingerie               NaN   \n",
       "112032                               NaN              NaN               NaN   \n",
       "114787      http://www.cizimmasalari.org              NaN               NaN   \n",
       "117155        http://www.oresundswebb.se              NaN               NaN   \n",
       "124905       http://3dprinter-ntp.umi.ru              NaN               NaN   \n",
       "129062           http://www.unaspies.com              NaN               NaN   \n",
       "129092                               NaN              NaN               NaN   \n",
       "134422           http://uberresearch.com              NaN               NaN   \n",
       "144915           http://www.utorrent.com         utorrent               NaN   \n",
       "160130           http://www.ubermind.com         ubermind               NaN   \n",
       "161350              http://www.u-gps.com              NaN               NaN   \n",
       "175506                               NaN              NaN               NaN   \n",
       "\n",
       "                                   description  \\\n",
       "9079                Online restaurant bookings   \n",
       "12033                                      NaN   \n",
       "20890                                      NaN   \n",
       "29978                                      NaN   \n",
       "59623              Tailor-made Diving Services   \n",
       "65122                                      NaN   \n",
       "67052                                      NaN   \n",
       "68942   Online shopping and lifestyle company.   \n",
       "73118                                      NaN   \n",
       "78002                                      NaN   \n",
       "102075                                     NaN   \n",
       "112032                                     NaN   \n",
       "114787                                     NaN   \n",
       "117155                          Web Agency In    \n",
       "124905             3Dprinting of precise parts   \n",
       "129062                      Irish savoury pies   \n",
       "129092     Fresh alternative in fanwear appeal   \n",
       "134422                                     NaN   \n",
       "144915                       BitTorrent Client   \n",
       "160130       Software Development & Consulting   \n",
       "161350                                     NaN   \n",
       "175506                      vuon toi tuong lai   \n",
       "\n",
       "                                                 overview  ... Founded  \\\n",
       "9079                                                  NaN  ...     NaN   \n",
       "12033                                                 NaN  ...     NaN   \n",
       "20890   Team-Up Dating Game provides engagement engine...  ...     NaN   \n",
       "29978                                                 NaN  ...     NaN   \n",
       "59623   Organises tailor-made diving services.\\r\\nPers...  ...     NaN   \n",
       "65122                                                 NaN  ...     NaN   \n",
       "67052                                                 NaN  ...     NaN   \n",
       "68942                                                 NaN  ...     NaN   \n",
       "73118                                                 NaN  ...     NaN   \n",
       "78002                                                 NaN  ...     NaN   \n",
       "102075                                                NaN  ...     NaN   \n",
       "112032                                                NaN  ...     NaN   \n",
       "114787                                                NaN  ...     NaN   \n",
       "117155                                                NaN  ...     NaN   \n",
       "124905  The project is directed on creation of technol...  ...     NaN   \n",
       "129062                                                NaN  ...     NaN   \n",
       "129092                                                NaN  ...     NaN   \n",
       "134422   Our mission is to build decision support solu...  ...     NaN   \n",
       "144915                                                NaN  ...     NaN   \n",
       "160130  Ubermind fueled by Deloitte is a leading agenc...  ...     NaN   \n",
       "161350                                                NaN  ...     NaN   \n",
       "175506  AnhSang is an iPhone application marketing and...  ...     NaN   \n",
       "\n",
       "       Description Valuation Date year month day  founded  team_size location  \n",
       "9079           NaN       NaN  NaN  NaN   NaN NaN      NaN        NaN      NaN  \n",
       "12033          NaN       NaN  NaN  NaN   NaN NaN      NaN        NaN      NaN  \n",
       "20890          NaN       NaN  NaN  NaN   NaN NaN      NaN        NaN      NaN  \n",
       "29978          NaN       NaN  NaN  NaN   NaN NaN      NaN        NaN      NaN  \n",
       "59623          NaN       NaN  NaN  NaN   NaN NaN      NaN        NaN      NaN  \n",
       "65122          NaN       NaN  NaN  NaN   NaN NaN      NaN        NaN      NaN  \n",
       "67052          NaN       NaN  NaN  NaN   NaN NaN      NaN        NaN      NaN  \n",
       "68942          NaN       NaN  NaN  NaN   NaN NaN      NaN        NaN      NaN  \n",
       "73118          NaN       NaN  NaN  NaN   NaN NaN      NaN        NaN      NaN  \n",
       "78002          NaN       NaN  NaN  NaN   NaN NaN      NaN        NaN      NaN  \n",
       "102075         NaN       NaN  NaN  NaN   NaN NaN      NaN        NaN      NaN  \n",
       "112032         NaN       NaN  NaN  NaN   NaN NaN      NaN        NaN      NaN  \n",
       "114787         NaN       NaN  NaN  NaN   NaN NaN      NaN        NaN      NaN  \n",
       "117155         NaN       NaN  NaN  NaN   NaN NaN      NaN        NaN      NaN  \n",
       "124905         NaN       NaN  NaN  NaN   NaN NaN      NaN        NaN      NaN  \n",
       "129062         NaN       NaN  NaN  NaN   NaN NaN      NaN        NaN      NaN  \n",
       "129092         NaN       NaN  NaN  NaN   NaN NaN      NaN        NaN      NaN  \n",
       "134422         NaN       NaN  NaN  NaN   NaN NaN      NaN        NaN      NaN  \n",
       "144915         NaN       NaN  NaN  NaN   NaN NaN      NaN        NaN      NaN  \n",
       "160130         NaN       NaN  NaN  NaN   NaN NaN      NaN        NaN      NaN  \n",
       "161350         NaN       NaN  NaN  NaN   NaN NaN      NaN        NaN      NaN  \n",
       "175506         NaN       NaN  NaN  NaN   NaN NaN      NaN        NaN      NaN  \n",
       "\n",
       "[22 rows x 83 columns]"
      ]
     },
     "execution_count": 70,
     "metadata": {},
     "output_type": "execute_result"
    }
   ],
   "source": [
    "data_2[data_2['COMPANY NAME'].isna()]"
   ]
  },
  {
   "cell_type": "code",
   "execution_count": 71,
   "id": "d17ec448",
   "metadata": {},
   "outputs": [],
   "source": [
    "data_2.loc[9079, 'COMPANY NAME'] = 'mytable'\n",
    "data_2.loc[59623, 'COMPANY NAME'] = 'Élite Diving Agency'\n",
    "data_2.loc[68942, 'COMPANY NAME'] = 'cokhos'\n",
    "data_2.loc[102075, 'COMPANY NAME'] = 'editionlingerie'\n",
    "data_2.loc[114787, 'COMPANY NAME'] = 'cizimmasalari'\n",
    "data_2.loc[117155, 'COMPANY NAME'] = 'oresundswebb'\n",
    "data_2.loc[124905, 'COMPANY NAME'] = '3dprinter-ntp'\n",
    "data_2.loc[129062, 'COMPANY NAME'] = 'unaspies'\n",
    "data_2.loc[134422, 'COMPANY NAME'] = 'Digital Science & Research Solutions'\n",
    "data_2.loc[144915, 'COMPANY NAME'] = 'Rainberry'\n",
    "data_2.loc[160130, 'COMPANY NAME'] = 'Deloitte'\n",
    "data_2.loc[161350, 'COMPANY NAME'] = 'u-gps'"
   ]
  },
  {
   "cell_type": "code",
   "execution_count": 72,
   "id": "138013a4",
   "metadata": {},
   "outputs": [
    {
     "data": {
      "text/plain": [
       "(236120, 83)"
      ]
     },
     "execution_count": 72,
     "metadata": {},
     "output_type": "execute_result"
    }
   ],
   "source": [
    "data_2 = data_2[data_2['COMPANY NAME'].notna()].reset_index(drop=True)\n",
    "data_2.shape"
   ]
  },
  {
   "cell_type": "code",
   "execution_count": 73,
   "id": "a949e971",
   "metadata": {},
   "outputs": [],
   "source": [
    "data_2['name_norm'] = data_2['COMPANY NAME'].apply(lambda x: x.lower())\n",
    "data_2 = data_2.rename(columns = {'COMPANY NAME': 'name'})"
   ]
  },
  {
   "cell_type": "markdown",
   "id": "f73457f1",
   "metadata": {},
   "source": [
    "### Category code, status "
   ]
  },
  {
   "cell_type": "code",
   "execution_count": 74,
   "id": "e94d4cc5",
   "metadata": {},
   "outputs": [
    {
     "data": {
      "text/plain": [
       "software            17921\n",
       "web                 15118\n",
       "other               13617\n",
       "ecommerce            9065\n",
       "games_video          7520\n",
       "mobile               6862\n",
       "advertising          6098\n",
       "consulting           5006\n",
       "enterprise           4441\n",
       "biotech              4430\n",
       "hardware             2951\n",
       "education            2901\n",
       "public_relations     2846\n",
       "network_hosting      2350\n",
       "search               2182\n",
       "cleantech            1940\n",
       "health               1698\n",
       "finance              1386\n",
       "social               1310\n",
       "security             1171\n",
       "medical              1153\n",
       "analytics            1022\n",
       "legal                1012\n",
       "travel                936\n",
       "local                 785\n",
       "hospitality           768\n",
       "news                  768\n",
       "semiconductor         696\n",
       "manufacturing         680\n",
       "sports                675\n",
       "music                 581\n",
       "fashion               562\n",
       "photo_video           544\n",
       "transportation        489\n",
       "real_estate           474\n",
       "messaging             296\n",
       "automotive            291\n",
       "design                281\n",
       "nonprofit             184\n",
       "nanotech               70\n",
       "pets                   61\n",
       "government             43\n",
       "Name: category_code, dtype: int64"
      ]
     },
     "execution_count": 74,
     "metadata": {},
     "output_type": "execute_result"
    }
   ],
   "source": [
    "data_2['category_code'].value_counts()"
   ]
  },
  {
   "cell_type": "code",
   "execution_count": 75,
   "id": "abfa624a",
   "metadata": {},
   "outputs": [
    {
     "data": {
      "text/plain": [
       "operating    183429\n",
       "acquired       9394\n",
       "closed         2584\n",
       "ipo            1134\n",
       "Name: status, dtype: int64"
      ]
     },
     "execution_count": 75,
     "metadata": {},
     "output_type": "execute_result"
    }
   ],
   "source": [
    "data_2['status'].value_counts()"
   ]
  },
  {
   "cell_type": "markdown",
   "id": "45ac7ab9",
   "metadata": {},
   "source": [
    "### Date transform "
   ]
  },
  {
   "cell_type": "code",
   "execution_count": 76,
   "id": "0f66417d",
   "metadata": {},
   "outputs": [],
   "source": [
    "data_2 = data_2.drop(columns=['year', 'month', 'day'])"
   ]
  },
  {
   "cell_type": "code",
   "execution_count": 77,
   "id": "6f59ada2",
   "metadata": {},
   "outputs": [],
   "source": [
    "data_2['founded_at'] = pd.to_datetime(\n",
    "    data_2['founded_at'], yearfirst=True, errors='coerce'\n",
    ")\n",
    "data_2['Funding Date'] = pd.to_datetime(\n",
    "    data_2['Funding Date'], yearfirst=True, errors='coerce'\n",
    ")"
   ]
  },
  {
   "cell_type": "code",
   "execution_count": 78,
   "id": "f3d445ae",
   "metadata": {},
   "outputs": [],
   "source": [
    "def date_transform(col):\n",
    "    if pd.isnull(col):\n",
    "        return col\n",
    "    else:\n",
    "        new_col = datetime.strptime(col, '%b-%y')\n",
    "\n",
    "    return new_col \n",
    "\n",
    "\n",
    "data_2['Funding Date'] = data_2['Funding Date'].apply(date_transform)"
   ]
  },
  {
   "cell_type": "code",
   "execution_count": 79,
   "id": "a1a70aaf",
   "metadata": {},
   "outputs": [],
   "source": [
    "data_2['Date dd/mm/yyyy'] = pd.to_datetime(\n",
    "    data_2['Date dd/mm/yyyy'], dayfirst=True, errors='coerce'\n",
    ")\n",
    "data_2['Date'] = pd.to_datetime(\n",
    "    data_2['Date'], dayfirst=True, errors='coerce', infer_datetime_format=True\n",
    ")"
   ]
  },
  {
   "cell_type": "code",
   "execution_count": 80,
   "id": "f731c18a",
   "metadata": {},
   "outputs": [],
   "source": [
    "def date_transform_2(col):\n",
    "    if pd.isnull(col):\n",
    "        return col\n",
    "    elif len(col) == 4:\n",
    "        new_col = datetime.strptime(col, '%Y')\n",
    "        return new_col\n",
    "    else:\n",
    "        date = ''\n",
    "        for i in col.split():\n",
    "            if 'st' in i or 'nd' in i or 'rd' in i or 'th' in i:\n",
    "                i = i[:-2]\n",
    "            date += i\n",
    "        try:\n",
    "            new_col = datetime.strptime(date, '%d%B%Y')\n",
    "            return new_col\n",
    "        except: pass\n",
    "\n",
    "    return col\n",
    "\n",
    "\n",
    "data_2['Founded'] = data_2['Founded'].apply(date_transform_2)"
   ]
  },
  {
   "cell_type": "code",
   "execution_count": 81,
   "id": "11e4c535",
   "metadata": {},
   "outputs": [],
   "source": [
    "data_2['founded'] = data_2['founded'].astype(str)\n",
    "data_2['founded'] = data_2['founded'].replace(to_replace='-1.0', value=np.nan)\n",
    "data_2['founded'] = data_2['founded'].replace(to_replace='nan', value=np.nan)"
   ]
  },
  {
   "cell_type": "code",
   "execution_count": 82,
   "id": "b4d5bfa9",
   "metadata": {},
   "outputs": [],
   "source": [
    "def date_transform_3(col):\n",
    "    if pd.isnull(col):\n",
    "        return col\n",
    "    else:\n",
    "        new_col = datetime.strptime(col[:4], '%Y')\n",
    "\n",
    "    return new_col \n",
    "\n",
    "\n",
    "data_2['founded'] = data_2['founded'].apply(date_transform_3)"
   ]
  },
  {
   "cell_type": "code",
   "execution_count": 83,
   "id": "d1f955c9",
   "metadata": {},
   "outputs": [
    {
     "name": "stderr",
     "output_type": "stream",
     "text": [
      "100%|████████████████████████████████████████████████████████████████████████| 236120/236120 [02:02<00:00, 1929.57it/s]\n"
     ]
    }
   ],
   "source": [
    "# Объединение дублирующих столбцов с аналогичной датой\n",
    "for ind in tqdm(range(data_2.shape[0])):\n",
    "    if pd.isnull(data_2.loc[ind, 'founded_at']):\n",
    "        data_2.loc[ind, 'founded_at'] = data_2.loc[ind, 'Funding Date']\n",
    "    if pd.isnull(data_2.loc[ind, 'founded_at']):\n",
    "        data_2.loc[ind, 'founded_at'] = data_2.loc[ind, 'Date dd/mm/yyyy']\n",
    "    if pd.isnull(data_2.loc[ind, 'founded_at']):\n",
    "        data_2.loc[ind, 'founded_at'] = data_2.loc[ind, 'Founded']\n",
    "    if pd.isnull(data_2.loc[ind, 'founded_at']):\n",
    "        data_2.loc[ind, 'founded_at'] = data_2.loc[ind, 'Date']\n",
    "    if pd.isnull(data_2.loc[ind, 'founded_at']):\n",
    "        data_2.loc[ind, 'founded_at'] = data_2.loc[ind, 'founded']"
   ]
  },
  {
   "cell_type": "code",
   "execution_count": 84,
   "id": "f352ba4d",
   "metadata": {},
   "outputs": [
    {
     "data": {
      "text/plain": [
       "(236120, 73)"
      ]
     },
     "execution_count": 84,
     "metadata": {},
     "output_type": "execute_result"
    }
   ],
   "source": [
    "data_2 = data_2.drop(\n",
    "    columns=['Funding Date', 'Date dd/mm/yyyy', 'Founded', 'Date', \n",
    "             'founded', 'created_at', 'updated_at', 'Updated at']\n",
    ").reset_index(drop=True)\n",
    "data_2.shape"
   ]
  },
  {
   "cell_type": "code",
   "execution_count": 85,
   "id": "8190b769",
   "metadata": {},
   "outputs": [],
   "source": [
    "data_2['closed_at'] = pd.to_datetime(\n",
    "    data_2['closed_at'], yearfirst=True, errors='coerce'\n",
    ")\n",
    "data_2['founded_at'] = pd.to_datetime(\n",
    "    data_2['founded_at'], yearfirst=True, errors='coerce'\n",
    ")\n",
    "data_2['first_investment_at'] = pd.to_datetime(\n",
    "    data_2['first_investment_at'], yearfirst=True, errors='coerce'\n",
    ")\n",
    "data_2['last_investment_at'] = pd.to_datetime(\n",
    "    data_2['last_investment_at'], yearfirst=True, errors='coerce'\n",
    ")\n",
    "data_2['first_funding_at'] = pd.to_datetime(\n",
    "    data_2['first_funding_at'], yearfirst=True, errors='coerce'\n",
    ")\n",
    "data_2['last_funding_at'] = pd.to_datetime(\n",
    "    data_2['last_funding_at'], yearfirst=True, errors='coerce'\n",
    ")\n",
    "data_2['first_milestone_at'] = pd.to_datetime(\n",
    "    data_2['first_milestone_at'], yearfirst=True, errors='coerce'\n",
    ")\n",
    "data_2['last_milestone_at'] = pd.to_datetime(\n",
    "    data_2['last_milestone_at'], yearfirst=True, errors='coerce'\n",
    ")"
   ]
  },
  {
   "cell_type": "raw",
   "id": "335361a8",
   "metadata": {},
   "source": [
    "data_2.to_csv('data_2_name_date.csv')"
   ]
  },
  {
   "cell_type": "raw",
   "id": "3c52c365",
   "metadata": {},
   "source": [
    "data_2 = pd.read_csv('data_2_name_date.csv', index_col=0, parse_dates=[7, 8, 9, 10, 11, 12, 13, 14])"
   ]
  },
  {
   "cell_type": "markdown",
   "id": "2a886401",
   "metadata": {},
   "source": [
    "### Money "
   ]
  },
  {
   "cell_type": "code",
   "execution_count": 88,
   "id": "705c49b0",
   "metadata": {},
   "outputs": [],
   "source": [
    "data_2['Funding Amount (USD)'] = (data_2['Funding Amount (USD)']\n",
    "                                  .replace(to_replace='Unknown', value=np.nan))\n",
    "data_2['Funding Amount (USD)'] = data_2['Funding Amount (USD)'].astype(float)"
   ]
  },
  {
   "cell_type": "code",
   "execution_count": 89,
   "id": "81020bf4",
   "metadata": {},
   "outputs": [],
   "source": [
    "data_2['Amount in USD'] = data_2['Amount in USD'].str.replace(',', '')\n",
    "data_2['Amount in USD'] = (data_2['Amount in USD']\n",
    "                           .replace(to_replace='undisclosed', value=np.nan))\n",
    "data_2['Amount in USD'] = (data_2['Amount in USD']\n",
    "                           .replace(to_replace='unknown', value=np.nan))\n",
    "data_2['Amount in USD'] = (data_2['Amount in USD']\n",
    "                           .replace(to_replace='Undisclosed', value=np.nan))\n",
    "data_2['Amount in USD'] = data_2['Amount in USD'].str.replace('+', '')\n",
    "data_2['Amount in USD'] = data_2['Amount in USD'].str.replace('\\\\', '')\n",
    "data_2['Amount in USD'] = data_2['Amount in USD'].str.replace('xc2', '')\n",
    "data_2['Amount in USD'] = data_2['Amount in USD'].str.replace('xa0', '')\n",
    "data_2['Amount in USD'] = data_2['Amount in USD'].str.replace('N/A', '')\n",
    "data_2 = data_2[data_2['Amount in USD'] != ''].reset_index(drop=True)"
   ]
  },
  {
   "cell_type": "code",
   "execution_count": 90,
   "id": "c3f7a27a",
   "metadata": {},
   "outputs": [],
   "source": [
    "data_2['Amount in USD'] = data_2['Amount in USD'].astype(float)"
   ]
  },
  {
   "cell_type": "code",
   "execution_count": 91,
   "id": "be0970ce",
   "metadata": {},
   "outputs": [
    {
     "data": {
      "text/html": [
       "<div>\n",
       "<style scoped>\n",
       "    .dataframe tbody tr th:only-of-type {\n",
       "        vertical-align: middle;\n",
       "    }\n",
       "\n",
       "    .dataframe tbody tr th {\n",
       "        vertical-align: top;\n",
       "    }\n",
       "\n",
       "    .dataframe thead th {\n",
       "        text-align: right;\n",
       "    }\n",
       "</style>\n",
       "<table border=\"1\" class=\"dataframe\">\n",
       "  <thead>\n",
       "    <tr style=\"text-align: right;\">\n",
       "      <th></th>\n",
       "      <th>count</th>\n",
       "      <th>mean</th>\n",
       "      <th>std</th>\n",
       "      <th>min</th>\n",
       "      <th>25%</th>\n",
       "      <th>50%</th>\n",
       "      <th>75%</th>\n",
       "      <th>max</th>\n",
       "    </tr>\n",
       "  </thead>\n",
       "  <tbody>\n",
       "    <tr>\n",
       "      <th>Funding Amount (USD)</th>\n",
       "      <td>3566.0</td>\n",
       "      <td>5.756014e+07</td>\n",
       "      <td>2.981976e+08</td>\n",
       "      <td>40000.0</td>\n",
       "      <td>5000000.0</td>\n",
       "      <td>15496301.5</td>\n",
       "      <td>50000000.0</td>\n",
       "      <td>1.660000e+10</td>\n",
       "    </tr>\n",
       "    <tr>\n",
       "      <th>funding_total_usd</th>\n",
       "      <td>27874.0</td>\n",
       "      <td>1.481652e+07</td>\n",
       "      <td>6.775937e+07</td>\n",
       "      <td>291.0</td>\n",
       "      <td>500000.0</td>\n",
       "      <td>2564500.0</td>\n",
       "      <td>11000000.0</td>\n",
       "      <td>5.700000e+09</td>\n",
       "    </tr>\n",
       "    <tr>\n",
       "      <th>Amount in USD</th>\n",
       "      <td>2073.0</td>\n",
       "      <td>1.840034e+07</td>\n",
       "      <td>1.211407e+08</td>\n",
       "      <td>16000.0</td>\n",
       "      <td>486000.0</td>\n",
       "      <td>1750000.0</td>\n",
       "      <td>8000000.0</td>\n",
       "      <td>3.900000e+09</td>\n",
       "    </tr>\n",
       "  </tbody>\n",
       "</table>\n",
       "</div>"
      ],
      "text/plain": [
       "                        count          mean           std      min        25%  \\\n",
       "Funding Amount (USD)   3566.0  5.756014e+07  2.981976e+08  40000.0  5000000.0   \n",
       "funding_total_usd     27874.0  1.481652e+07  6.775937e+07    291.0   500000.0   \n",
       "Amount in USD          2073.0  1.840034e+07  1.211407e+08  16000.0   486000.0   \n",
       "\n",
       "                             50%         75%           max  \n",
       "Funding Amount (USD)  15496301.5  50000000.0  1.660000e+10  \n",
       "funding_total_usd      2564500.0  11000000.0  5.700000e+09  \n",
       "Amount in USD          1750000.0   8000000.0  3.900000e+09  "
      ]
     },
     "execution_count": 91,
     "metadata": {},
     "output_type": "execute_result"
    }
   ],
   "source": [
    "data_2[[\n",
    "    'Funding Amount (USD)', 'funding_total_usd', 'Amount in USD'\n",
    "]].describe().T"
   ]
  },
  {
   "cell_type": "markdown",
   "id": "7d96d3e9",
   "metadata": {},
   "source": [
    "Т.к. диапазоны значений трех столбцов сопоставимы и нет пересекающихся записей относительно данных признаков, объединяем их в один признак."
   ]
  },
  {
   "cell_type": "code",
   "execution_count": 92,
   "id": "ee346ecc",
   "metadata": {},
   "outputs": [
    {
     "name": "stderr",
     "output_type": "stream",
     "text": [
      "100%|███████████████████████████████████████████████████████████████████████| 236116/236116 [00:20<00:00, 11510.58it/s]\n"
     ]
    }
   ],
   "source": [
    "for ind in tqdm(range(data_2.shape[0])):\n",
    "    if pd.isnull(data_2.loc[ind, 'funding_total_usd']):\n",
    "        data_2.loc[ind, 'funding_total_usd'] = data_2.loc[ind, 'Funding Amount (USD)']"
   ]
  },
  {
   "cell_type": "code",
   "execution_count": 93,
   "id": "78891f05",
   "metadata": {},
   "outputs": [
    {
     "name": "stderr",
     "output_type": "stream",
     "text": [
      "100%|███████████████████████████████████████████████████████████████████████| 236116/236116 [00:20<00:00, 11260.91it/s]\n"
     ]
    }
   ],
   "source": [
    "for ind in tqdm(range(data_2.shape[0])):\n",
    "    if pd.isnull(data_2.loc[ind, 'funding_total_usd']):\n",
    "        data_2.loc[ind, 'funding_total_usd'] = data_2.loc[ind, 'Amount in USD']"
   ]
  },
  {
   "cell_type": "code",
   "execution_count": 94,
   "id": "2f3e2606",
   "metadata": {},
   "outputs": [
    {
     "data": {
      "text/html": [
       "<div>\n",
       "<style scoped>\n",
       "    .dataframe tbody tr th:only-of-type {\n",
       "        vertical-align: middle;\n",
       "    }\n",
       "\n",
       "    .dataframe tbody tr th {\n",
       "        vertical-align: top;\n",
       "    }\n",
       "\n",
       "    .dataframe thead th {\n",
       "        text-align: right;\n",
       "    }\n",
       "</style>\n",
       "<table border=\"1\" class=\"dataframe\">\n",
       "  <thead>\n",
       "    <tr style=\"text-align: right;\">\n",
       "      <th></th>\n",
       "      <th>count</th>\n",
       "      <th>mean</th>\n",
       "      <th>std</th>\n",
       "      <th>min</th>\n",
       "      <th>25%</th>\n",
       "      <th>50%</th>\n",
       "      <th>75%</th>\n",
       "      <th>max</th>\n",
       "    </tr>\n",
       "  </thead>\n",
       "  <tbody>\n",
       "    <tr>\n",
       "      <th>Last Valuation (Billion $)</th>\n",
       "      <td>1199.0</td>\n",
       "      <td>3.225588</td>\n",
       "      <td>7.601195</td>\n",
       "      <td>1.0</td>\n",
       "      <td>1.10</td>\n",
       "      <td>1.57</td>\n",
       "      <td>3.0</td>\n",
       "      <td>140.0</td>\n",
       "    </tr>\n",
       "    <tr>\n",
       "      <th>Valuation</th>\n",
       "      <td>936.0</td>\n",
       "      <td>3.281154</td>\n",
       "      <td>7.473179</td>\n",
       "      <td>1.0</td>\n",
       "      <td>1.05</td>\n",
       "      <td>1.60</td>\n",
       "      <td>3.0</td>\n",
       "      <td>140.0</td>\n",
       "    </tr>\n",
       "  </tbody>\n",
       "</table>\n",
       "</div>"
      ],
      "text/plain": [
       "                             count      mean       std  min   25%   50%  75%  \\\n",
       "Last Valuation (Billion $)  1199.0  3.225588  7.601195  1.0  1.10  1.57  3.0   \n",
       "Valuation                    936.0  3.281154  7.473179  1.0  1.05  1.60  3.0   \n",
       "\n",
       "                              max  \n",
       "Last Valuation (Billion $)  140.0  \n",
       "Valuation                   140.0  "
      ]
     },
     "execution_count": 94,
     "metadata": {},
     "output_type": "execute_result"
    }
   ],
   "source": [
    "data_2[[\n",
    "    'Last Valuation (Billion $)', 'Valuation'\n",
    "]].describe().T"
   ]
  },
  {
   "cell_type": "markdown",
   "id": "a325f4c7",
   "metadata": {},
   "source": [
    "Аналогично соединяем 2 столбца с финансовой оценкой компаний."
   ]
  },
  {
   "cell_type": "code",
   "execution_count": 95,
   "id": "58523ae9",
   "metadata": {},
   "outputs": [
    {
     "name": "stderr",
     "output_type": "stream",
     "text": [
      "100%|████████████████████████████████████████████████████████████████████████| 236116/236116 [00:26<00:00, 9022.27it/s]\n"
     ]
    }
   ],
   "source": [
    "for ind in tqdm(range(data_2.shape[0])):\n",
    "    if pd.isnull(data_2.loc[ind, 'Last Valuation (Billion $)']):\n",
    "        data_2.loc[ind, 'Last Valuation (Billion $)'] = data_2.loc[ind, 'Valuation']"
   ]
  },
  {
   "cell_type": "code",
   "execution_count": 96,
   "id": "b2d30d89",
   "metadata": {},
   "outputs": [],
   "source": [
    "data_2 = data_2.rename(columns = {'Last Valuation (Billion $)': 'valuation_billion_usd'})"
   ]
  },
  {
   "cell_type": "code",
   "execution_count": 97,
   "id": "ea59d44a",
   "metadata": {},
   "outputs": [],
   "source": [
    "# Удаляем дублирующие столбцы\n",
    "data_2 = data_2.drop(columns=[\n",
    "    'Funding Amount (USD)', 'Amount in USD', 'Valuation'\n",
    "]).reset_index(drop=True)"
   ]
  },
  {
   "cell_type": "markdown",
   "id": "8474d7f0",
   "metadata": {},
   "source": [
    "### City, country"
   ]
  },
  {
   "cell_type": "code",
   "execution_count": 98,
   "id": "364abc99",
   "metadata": {},
   "outputs": [
    {
     "name": "stderr",
     "output_type": "stream",
     "text": [
      "100%|███████████████████████████████████████████████████████████████████████| 236116/236116 [00:15<00:00, 15655.38it/s]\n"
     ]
    }
   ],
   "source": [
    "# Объединяем дублирующие столбцы\n",
    "for ind in tqdm(range(data_2.shape[0])):\n",
    "    if pd.isnull(data_2.loc[ind, 'city']):\n",
    "        data_2.loc[ind, 'city'] = data_2.loc[ind, 'City']"
   ]
  },
  {
   "cell_type": "code",
   "execution_count": 99,
   "id": "3c73c60b",
   "metadata": {},
   "outputs": [
    {
     "name": "stderr",
     "output_type": "stream",
     "text": [
      "100%|███████████████████████████████████████████████████████████████████████| 236116/236116 [00:17<00:00, 13667.20it/s]\n"
     ]
    }
   ],
   "source": [
    "# Объединяем дублирующие столбцы\n",
    "for ind in tqdm(range(data_2.shape[0])):\n",
    "    if pd.isnull(data_2.loc[ind, 'city']):\n",
    "        data_2.loc[ind, 'city'] = data_2.loc[ind, 'City  Location']"
   ]
  },
  {
   "cell_type": "code",
   "execution_count": 100,
   "id": "0c33d942",
   "metadata": {},
   "outputs": [
    {
     "name": "stderr",
     "output_type": "stream",
     "text": [
      "100%|███████████████████████████████████████████████████████████████████████| 236116/236116 [00:02<00:00, 92282.74it/s]\n"
     ]
    }
   ],
   "source": [
    "# Выделяем из локации город и код страны и объединяем дублирующие столбцы\n",
    "for ind in tqdm(range(data_2.shape[0])):\n",
    "    if pd.notnull(data_2.loc[ind, 'location']):\n",
    "        lst = data_2.loc[ind, 'location'].split(', ')\n",
    "        data_2.loc[ind, 'city'] = lst[0]\n",
    "        if len(lst) > 1:\n",
    "            if len(lst[1]) == 2:\n",
    "                data_2.loc[ind, 'state_code'] = lst[1]\n",
    "            elif len(lst[1]) > 2:\n",
    "                data_2.loc[ind, 'country_code'] = lst[1]"
   ]
  },
  {
   "cell_type": "code",
   "execution_count": 101,
   "id": "a1581c78",
   "metadata": {},
   "outputs": [
    {
     "name": "stderr",
     "output_type": "stream",
     "text": [
      "100%|███████████████████████████████████████████████████████████████████████| 236116/236116 [00:17<00:00, 13635.52it/s]\n"
     ]
    }
   ],
   "source": [
    "# Объединяем дублирующие столбцы\n",
    "for ind in tqdm(range(data_2.shape[0])):\n",
    "    if pd.isnull(data_2.loc[ind, 'country_code']):\n",
    "        data_2.loc[ind, 'country_code'] = data_2.loc[ind, 'COUNTRY']"
   ]
  },
  {
   "cell_type": "code",
   "execution_count": 102,
   "id": "ce55c3ca",
   "metadata": {},
   "outputs": [],
   "source": [
    "# Удаляем дублирующие столбцы\n",
    "data_2 = data_2.drop(columns=[\n",
    "    'City', 'City  Location', 'location', 'COUNTRY', 'region'\n",
    "]).reset_index(drop=True)"
   ]
  },
  {
   "cell_type": "markdown",
   "id": "9366219a",
   "metadata": {},
   "source": [
    "### TOP index \n",
    "Следующие признаки содержат информацию по различным категориям, в ТОП скольки компаний входит исследуемая компания. Далее преобразуем эти признаки в числовые."
   ]
  },
  {
   "cell_type": "code",
   "execution_count": 106,
   "id": "66bfd80c",
   "metadata": {},
   "outputs": [
    {
     "data": {
      "text/html": [
       "<div>\n",
       "<style scoped>\n",
       "    .dataframe tbody tr th:only-of-type {\n",
       "        vertical-align: middle;\n",
       "    }\n",
       "\n",
       "    .dataframe tbody tr th {\n",
       "        vertical-align: top;\n",
       "    }\n",
       "\n",
       "    .dataframe thead th {\n",
       "        text-align: right;\n",
       "    }\n",
       "</style>\n",
       "<table border=\"1\" class=\"dataframe\">\n",
       "  <thead>\n",
       "    <tr style=\"text-align: right;\">\n",
       "      <th></th>\n",
       "      <th>Fund novelty</th>\n",
       "    </tr>\n",
       "  </thead>\n",
       "  <tbody>\n",
       "    <tr>\n",
       "      <th>204179</th>\n",
       "      <td>TOP10000</td>\n",
       "    </tr>\n",
       "    <tr>\n",
       "      <th>204180</th>\n",
       "      <td>TOP4000</td>\n",
       "    </tr>\n",
       "    <tr>\n",
       "      <th>204182</th>\n",
       "      <td>TOP10000</td>\n",
       "    </tr>\n",
       "  </tbody>\n",
       "</table>\n",
       "</div>"
      ],
      "text/plain": [
       "       Fund novelty\n",
       "204179     TOP10000\n",
       "204180      TOP4000\n",
       "204182     TOP10000"
      ]
     },
     "execution_count": 106,
     "metadata": {},
     "output_type": "execute_result"
    }
   ],
   "source": [
    "data_2[data_2['Fund novelty'].notna()][['Fund novelty']].head(3)"
   ]
  },
  {
   "cell_type": "code",
   "execution_count": 107,
   "id": "c0a9929e",
   "metadata": {},
   "outputs": [],
   "source": [
    "def top_modif(col):\n",
    "    top = col\n",
    "    if type(col) == str:\n",
    "        top = int(col[3:])\n",
    "    return top"
   ]
  },
  {
   "cell_type": "code",
   "execution_count": 108,
   "id": "b05f6164",
   "metadata": {},
   "outputs": [],
   "source": [
    "data_2 = data_2.rename(columns = {'Fund novelty': 'TOP_novelty_companies'})\n",
    "data_2['TOP_novelty_companies'] = data_2['TOP_novelty_companies'].apply(top_modif)"
   ]
  },
  {
   "cell_type": "code",
   "execution_count": 109,
   "id": "45be431f",
   "metadata": {},
   "outputs": [],
   "source": [
    "data_2 = data_2.rename(columns = {\n",
    "    'Proximity to the year of peak activity': 'TOP_companies_at_peak_activity'\n",
    "})\n",
    "data_2['TOP_companies_at_peak_activity'] = data_2['TOP_companies_at_peak_activity'].apply(top_modif)"
   ]
  },
  {
   "cell_type": "code",
   "execution_count": 110,
   "id": "60452634",
   "metadata": {},
   "outputs": [],
   "source": [
    "data_2 = data_2.rename(columns = {'Amount of Key Persons': 'TOP_key_persons'})\n",
    "data_2['TOP_key_persons'] = data_2['TOP_key_persons'].apply(top_modif)"
   ]
  },
  {
   "cell_type": "code",
   "execution_count": 111,
   "id": "014aa474",
   "metadata": {},
   "outputs": [],
   "source": [
    "data_2 = data_2.rename(columns = {'Lead investments': 'TOP_lead_investments'})\n",
    "data_2['TOP_lead_investments'] = data_2['TOP_lead_investments'].apply(top_modif)"
   ]
  },
  {
   "cell_type": "code",
   "execution_count": 112,
   "id": "dbca210f",
   "metadata": {},
   "outputs": [],
   "source": [
    "data_2 = data_2.rename(columns = {'Unicorn amount': 'TOP_unicorn_amount'})\n",
    "data_2['TOP_unicorn_amount'] = data_2['TOP_unicorn_amount'].apply(top_modif)"
   ]
  },
  {
   "cell_type": "code",
   "execution_count": 113,
   "id": "fb9e4602",
   "metadata": {},
   "outputs": [],
   "source": [
    "data_2 = data_2.rename(columns = {'Average rounds per year': 'TOP_avg_rounds_per_year'})\n",
    "data_2['TOP_avg_rounds_per_year'] = data_2['TOP_avg_rounds_per_year'].apply(top_modif)"
   ]
  },
  {
   "cell_type": "code",
   "execution_count": 114,
   "id": "378dda7f",
   "metadata": {},
   "outputs": [],
   "source": [
    "data_2 = data_2.rename(columns = {'Average round size': 'TOP_avg_round_size'})\n",
    "data_2['TOP_avg_round_size'] = data_2['TOP_avg_round_size'].apply(top_modif)"
   ]
  },
  {
   "cell_type": "code",
   "execution_count": 115,
   "id": "1c8fc0e6",
   "metadata": {},
   "outputs": [],
   "source": [
    "data_2 = data_2.rename(columns = {'Average startup valuation': 'TOP_avg_startup_valuation'})\n",
    "data_2['TOP_avg_startup_valuation'] = data_2['TOP_avg_startup_valuation'].apply(top_modif)"
   ]
  },
  {
   "cell_type": "code",
   "execution_count": 116,
   "id": "cce7d2f3",
   "metadata": {},
   "outputs": [],
   "source": [
    "data_2 = data_2.rename(columns = {\n",
    "    'Decision makers / strategy diversity index': 'TOP_decision_makers_strategy_diversity_index'\n",
    "})\n",
    "data_2['TOP_decision_makers_strategy_diversity_index'] = data_2[\n",
    "    'TOP_decision_makers_strategy_diversity_index'\n",
    "].apply(top_modif)"
   ]
  },
  {
   "cell_type": "code",
   "execution_count": 117,
   "id": "7fd71f12",
   "metadata": {},
   "outputs": [],
   "source": [
    "data_2 = data_2.rename(columns = {'Average multiplicator': 'TOP_avg_multiplicator'})\n",
    "data_2['TOP_avg_multiplicator'] = data_2['TOP_avg_multiplicator'].apply(top_modif)"
   ]
  },
  {
   "cell_type": "code",
   "execution_count": 118,
   "id": "0181b2bc",
   "metadata": {},
   "outputs": [],
   "source": [
    "data_2 = data_2.rename(columns = {\n",
    "    'Success / strategy diversity index': 'TOP_success_strategy_diversity_index'\n",
    "})\n",
    "data_2['TOP_success_strategy_diversity_index'] = data_2['TOP_success_strategy_diversity_index'].apply(top_modif)"
   ]
  },
  {
   "cell_type": "code",
   "execution_count": 119,
   "id": "b5e725e2",
   "metadata": {},
   "outputs": [],
   "source": [
    "data_2 = data_2.rename(columns = {'Follow-on index': 'TOP_follow_on_index'})\n",
    "data_2['TOP_follow_on_index'] = data_2['TOP_follow_on_index'].apply(top_modif)"
   ]
  },
  {
   "cell_type": "code",
   "execution_count": 120,
   "id": "e84aed75",
   "metadata": {},
   "outputs": [],
   "source": [
    "data_2 = data_2.rename(columns = {\n",
    "    'Readiness to take younger startups': 'TOP_readiness_take_younger_startups'\n",
    "})\n",
    "data_2['TOP_readiness_take_younger_startups'] = data_2['TOP_readiness_take_younger_startups'].apply(top_modif)"
   ]
  },
  {
   "cell_type": "code",
   "execution_count": 121,
   "id": "be6abc5d",
   "metadata": {},
   "outputs": [
    {
     "data": {
      "text/html": [
       "<div>\n",
       "<style scoped>\n",
       "    .dataframe tbody tr th:only-of-type {\n",
       "        vertical-align: middle;\n",
       "    }\n",
       "\n",
       "    .dataframe tbody tr th {\n",
       "        vertical-align: top;\n",
       "    }\n",
       "\n",
       "    .dataframe thead th {\n",
       "        text-align: right;\n",
       "    }\n",
       "</style>\n",
       "<table border=\"1\" class=\"dataframe\">\n",
       "  <thead>\n",
       "    <tr style=\"text-align: right;\">\n",
       "      <th></th>\n",
       "      <th>count</th>\n",
       "      <th>mean</th>\n",
       "      <th>std</th>\n",
       "      <th>min</th>\n",
       "      <th>25%</th>\n",
       "      <th>50%</th>\n",
       "      <th>75%</th>\n",
       "      <th>max</th>\n",
       "    </tr>\n",
       "  </thead>\n",
       "  <tbody>\n",
       "    <tr>\n",
       "      <th>TOP_novelty_companies</th>\n",
       "      <td>16261.0</td>\n",
       "      <td>12485.917225</td>\n",
       "      <td>6996.836067</td>\n",
       "      <td>50.0</td>\n",
       "      <td>10000.0</td>\n",
       "      <td>10000.0</td>\n",
       "      <td>20000.0</td>\n",
       "      <td>20000.0</td>\n",
       "    </tr>\n",
       "    <tr>\n",
       "      <th>TOP_companies_at_peak_activity</th>\n",
       "      <td>26171.0</td>\n",
       "      <td>17417.752474</td>\n",
       "      <td>9199.509698</td>\n",
       "      <td>100.0</td>\n",
       "      <td>10000.0</td>\n",
       "      <td>20000.0</td>\n",
       "      <td>20000.0</td>\n",
       "      <td>30000.0</td>\n",
       "    </tr>\n",
       "    <tr>\n",
       "      <th>TOP_key_persons</th>\n",
       "      <td>8479.0</td>\n",
       "      <td>6545.583206</td>\n",
       "      <td>3170.494057</td>\n",
       "      <td>100.0</td>\n",
       "      <td>5000.0</td>\n",
       "      <td>5000.0</td>\n",
       "      <td>10000.0</td>\n",
       "      <td>10000.0</td>\n",
       "    </tr>\n",
       "    <tr>\n",
       "      <th>TOP_lead_investments</th>\n",
       "      <td>8572.0</td>\n",
       "      <td>6583.061129</td>\n",
       "      <td>3173.489763</td>\n",
       "      <td>100.0</td>\n",
       "      <td>5000.0</td>\n",
       "      <td>5000.0</td>\n",
       "      <td>10000.0</td>\n",
       "      <td>10000.0</td>\n",
       "    </tr>\n",
       "    <tr>\n",
       "      <th>TOP_unicorn_amount</th>\n",
       "      <td>3053.0</td>\n",
       "      <td>3594.824763</td>\n",
       "      <td>2021.574188</td>\n",
       "      <td>100.0</td>\n",
       "      <td>1000.0</td>\n",
       "      <td>5000.0</td>\n",
       "      <td>5000.0</td>\n",
       "      <td>5000.0</td>\n",
       "    </tr>\n",
       "    <tr>\n",
       "      <th>TOP_avg_rounds_per_year</th>\n",
       "      <td>26252.0</td>\n",
       "      <td>17474.859058</td>\n",
       "      <td>9226.719532</td>\n",
       "      <td>100.0</td>\n",
       "      <td>10000.0</td>\n",
       "      <td>20000.0</td>\n",
       "      <td>20000.0</td>\n",
       "      <td>30000.0</td>\n",
       "    </tr>\n",
       "    <tr>\n",
       "      <th>TOP_avg_round_size</th>\n",
       "      <td>25540.0</td>\n",
       "      <td>17106.891151</td>\n",
       "      <td>9094.715869</td>\n",
       "      <td>100.0</td>\n",
       "      <td>10000.0</td>\n",
       "      <td>20000.0</td>\n",
       "      <td>20000.0</td>\n",
       "      <td>30000.0</td>\n",
       "    </tr>\n",
       "    <tr>\n",
       "      <th>TOP_avg_startup_valuation</th>\n",
       "      <td>5282.0</td>\n",
       "      <td>4454.751988</td>\n",
       "      <td>2130.947328</td>\n",
       "      <td>100.0</td>\n",
       "      <td>5000.0</td>\n",
       "      <td>5000.0</td>\n",
       "      <td>5000.0</td>\n",
       "      <td>10000.0</td>\n",
       "    </tr>\n",
       "    <tr>\n",
       "      <th>TOP_decision_makers_strategy_diversity_index</th>\n",
       "      <td>997.0</td>\n",
       "      <td>709.127382</td>\n",
       "      <td>311.504544</td>\n",
       "      <td>100.0</td>\n",
       "      <td>500.0</td>\n",
       "      <td>500.0</td>\n",
       "      <td>1000.0</td>\n",
       "      <td>1000.0</td>\n",
       "    </tr>\n",
       "    <tr>\n",
       "      <th>TOP_avg_multiplicator</th>\n",
       "      <td>7813.0</td>\n",
       "      <td>6251.119928</td>\n",
       "      <td>3131.286359</td>\n",
       "      <td>100.0</td>\n",
       "      <td>5000.0</td>\n",
       "      <td>5000.0</td>\n",
       "      <td>10000.0</td>\n",
       "      <td>10000.0</td>\n",
       "    </tr>\n",
       "    <tr>\n",
       "      <th>TOP_success_strategy_diversity_index</th>\n",
       "      <td>7481.0</td>\n",
       "      <td>6084.748028</td>\n",
       "      <td>3096.558158</td>\n",
       "      <td>100.0</td>\n",
       "      <td>5000.0</td>\n",
       "      <td>5000.0</td>\n",
       "      <td>10000.0</td>\n",
       "      <td>10000.0</td>\n",
       "    </tr>\n",
       "    <tr>\n",
       "      <th>TOP_follow_on_index</th>\n",
       "      <td>9053.0</td>\n",
       "      <td>6764.608417</td>\n",
       "      <td>3181.718044</td>\n",
       "      <td>100.0</td>\n",
       "      <td>5000.0</td>\n",
       "      <td>5000.0</td>\n",
       "      <td>10000.0</td>\n",
       "      <td>10000.0</td>\n",
       "    </tr>\n",
       "    <tr>\n",
       "      <th>TOP_readiness_take_younger_startups</th>\n",
       "      <td>24240.0</td>\n",
       "      <td>16415.429043</td>\n",
       "      <td>8817.959532</td>\n",
       "      <td>100.0</td>\n",
       "      <td>10000.0</td>\n",
       "      <td>20000.0</td>\n",
       "      <td>20000.0</td>\n",
       "      <td>30000.0</td>\n",
       "    </tr>\n",
       "  </tbody>\n",
       "</table>\n",
       "</div>"
      ],
      "text/plain": [
       "                                                count          mean  \\\n",
       "TOP_novelty_companies                         16261.0  12485.917225   \n",
       "TOP_companies_at_peak_activity                26171.0  17417.752474   \n",
       "TOP_key_persons                                8479.0   6545.583206   \n",
       "TOP_lead_investments                           8572.0   6583.061129   \n",
       "TOP_unicorn_amount                             3053.0   3594.824763   \n",
       "TOP_avg_rounds_per_year                       26252.0  17474.859058   \n",
       "TOP_avg_round_size                            25540.0  17106.891151   \n",
       "TOP_avg_startup_valuation                      5282.0   4454.751988   \n",
       "TOP_decision_makers_strategy_diversity_index    997.0    709.127382   \n",
       "TOP_avg_multiplicator                          7813.0   6251.119928   \n",
       "TOP_success_strategy_diversity_index           7481.0   6084.748028   \n",
       "TOP_follow_on_index                            9053.0   6764.608417   \n",
       "TOP_readiness_take_younger_startups           24240.0  16415.429043   \n",
       "\n",
       "                                                      std    min      25%  \\\n",
       "TOP_novelty_companies                         6996.836067   50.0  10000.0   \n",
       "TOP_companies_at_peak_activity                9199.509698  100.0  10000.0   \n",
       "TOP_key_persons                               3170.494057  100.0   5000.0   \n",
       "TOP_lead_investments                          3173.489763  100.0   5000.0   \n",
       "TOP_unicorn_amount                            2021.574188  100.0   1000.0   \n",
       "TOP_avg_rounds_per_year                       9226.719532  100.0  10000.0   \n",
       "TOP_avg_round_size                            9094.715869  100.0  10000.0   \n",
       "TOP_avg_startup_valuation                     2130.947328  100.0   5000.0   \n",
       "TOP_decision_makers_strategy_diversity_index   311.504544  100.0    500.0   \n",
       "TOP_avg_multiplicator                         3131.286359  100.0   5000.0   \n",
       "TOP_success_strategy_diversity_index          3096.558158  100.0   5000.0   \n",
       "TOP_follow_on_index                           3181.718044  100.0   5000.0   \n",
       "TOP_readiness_take_younger_startups           8817.959532  100.0  10000.0   \n",
       "\n",
       "                                                  50%      75%      max  \n",
       "TOP_novelty_companies                         10000.0  20000.0  20000.0  \n",
       "TOP_companies_at_peak_activity                20000.0  20000.0  30000.0  \n",
       "TOP_key_persons                                5000.0  10000.0  10000.0  \n",
       "TOP_lead_investments                           5000.0  10000.0  10000.0  \n",
       "TOP_unicorn_amount                             5000.0   5000.0   5000.0  \n",
       "TOP_avg_rounds_per_year                       20000.0  20000.0  30000.0  \n",
       "TOP_avg_round_size                            20000.0  20000.0  30000.0  \n",
       "TOP_avg_startup_valuation                      5000.0   5000.0  10000.0  \n",
       "TOP_decision_makers_strategy_diversity_index    500.0   1000.0   1000.0  \n",
       "TOP_avg_multiplicator                          5000.0  10000.0  10000.0  \n",
       "TOP_success_strategy_diversity_index           5000.0  10000.0  10000.0  \n",
       "TOP_follow_on_index                            5000.0  10000.0  10000.0  \n",
       "TOP_readiness_take_younger_startups           20000.0  20000.0  30000.0  "
      ]
     },
     "execution_count": 121,
     "metadata": {},
     "output_type": "execute_result"
    }
   ],
   "source": [
    "data_2[['TOP_novelty_companies', 'TOP_companies_at_peak_activity',\n",
    "        'TOP_key_persons', 'TOP_lead_investments',\n",
    "        'TOP_unicorn_amount', 'TOP_avg_rounds_per_year',\n",
    "        'TOP_avg_round_size', 'TOP_avg_startup_valuation',\n",
    "        'TOP_decision_makers_strategy_diversity_index',\n",
    "        'TOP_avg_multiplicator', 'TOP_success_strategy_diversity_index',\n",
    "        'TOP_follow_on_index', 'TOP_readiness_take_younger_startups'\n",
    "        ]].describe().T"
   ]
  },
  {
   "cell_type": "code",
   "execution_count": 122,
   "id": "4b3b9431",
   "metadata": {},
   "outputs": [],
   "source": [
    "# Удаляем неинформативные признаки\n",
    "data_2 = data_2.drop(columns=[\n",
    "    'lat', 'lng', 'Date Joined', 'Year Joined',\n",
    "    'One of the most outstanding startups', 'Exits'\n",
    "]).reset_index(drop=True)"
   ]
  },
  {
   "cell_type": "markdown",
   "id": "1cd15849",
   "metadata": {},
   "source": [
    "### Description "
   ]
  },
  {
   "cell_type": "code",
   "execution_count": 123,
   "id": "ce286cd2",
   "metadata": {},
   "outputs": [],
   "source": [
    "data_2 = data_2.rename(columns = {'short_description': 'long_description'})"
   ]
  },
  {
   "cell_type": "code",
   "execution_count": 124,
   "id": "31976675",
   "metadata": {},
   "outputs": [
    {
     "name": "stderr",
     "output_type": "stream",
     "text": [
      "100%|████████████████████████████████████████████████████████████████████████| 236116/236116 [00:23<00:00, 9910.58it/s]\n"
     ]
    }
   ],
   "source": [
    "for ind in tqdm(range(data_2.shape[0])):\n",
    "    if pd.isnull(data_2.loc[ind, 'long_description']):\n",
    "        data_2.loc[ind, 'long_description'] = data_2.loc[ind, 'overview']"
   ]
  },
  {
   "cell_type": "code",
   "execution_count": 125,
   "id": "f33e1603",
   "metadata": {},
   "outputs": [
    {
     "name": "stderr",
     "output_type": "stream",
     "text": [
      "100%|███████████████████████████████████████████████████████████████████████| 236116/236116 [00:18<00:00, 12466.52it/s]\n"
     ]
    }
   ],
   "source": [
    "for ind in tqdm(range(data_2.shape[0])):\n",
    "    if pd.isnull(data_2.loc[ind, 'description']):\n",
    "        data_2.loc[ind, 'description'] = data_2.loc[ind, 'SubVertical']"
   ]
  },
  {
   "cell_type": "code",
   "execution_count": 126,
   "id": "3cadaf6a",
   "metadata": {},
   "outputs": [
    {
     "name": "stderr",
     "output_type": "stream",
     "text": [
      "100%|███████████████████████████████████████████████████████████████████████| 236116/236116 [00:13<00:00, 16927.21it/s]\n"
     ]
    }
   ],
   "source": [
    "for ind in tqdm(range(data_2.shape[0])):\n",
    "    if pd.isnull(data_2.loc[ind, 'long_description']):\n",
    "        data_2.loc[ind, 'long_description'] = data_2.loc[ind, 'Tagline']"
   ]
  },
  {
   "cell_type": "code",
   "execution_count": 127,
   "id": "709f7053",
   "metadata": {},
   "outputs": [
    {
     "name": "stderr",
     "output_type": "stream",
     "text": [
      "100%|███████████████████████████████████████████████████████████████████████| 236116/236116 [00:18<00:00, 12596.40it/s]\n"
     ]
    }
   ],
   "source": [
    "for ind in tqdm(range(data_2.shape[0])):\n",
    "    if pd.isnull(data_2.loc[ind, 'description']):\n",
    "        data_2.loc[ind, 'description'] = data_2.loc[ind, 'Description']"
   ]
  },
  {
   "cell_type": "code",
   "execution_count": 128,
   "id": "9bb97aaf",
   "metadata": {},
   "outputs": [],
   "source": [
    "data_2 = data_2.drop(columns=[\n",
    "    'overview', 'SubVertical', 'Tagline', 'Description'\n",
    "]).reset_index(drop=True)"
   ]
  },
  {
   "cell_type": "markdown",
   "id": "dd1e8a33",
   "metadata": {},
   "source": [
    "### Funding stage, investors "
   ]
  },
  {
   "cell_type": "code",
   "execution_count": 129,
   "id": "bd36fed0",
   "metadata": {},
   "outputs": [
    {
     "name": "stderr",
     "output_type": "stream",
     "text": [
      "100%|████████████████████████████████████████████████████████████████████████| 236116/236116 [00:28<00:00, 8274.59it/s]\n"
     ]
    }
   ],
   "source": [
    "for ind in tqdm(range(data_2.shape[0])):\n",
    "    if pd.isnull(data_2.loc[ind, 'Investors']):\n",
    "        data_2.loc[ind, 'Investors'] = data_2.loc[ind, 'Investors Name']"
   ]
  },
  {
   "cell_type": "code",
   "execution_count": 130,
   "id": "cdce1239",
   "metadata": {},
   "outputs": [],
   "source": [
    "# Приводим в соответствие названия стадий финансирования \n",
    "# с названиями в таблицей the.org (для последующего объединения таблиц)\n",
    "\n",
    "data_2['Funding Stage'] = data_2['Funding Stage'].replace(to_replace='Unkown', value='Unknown')\n",
    "data_2['Funding Stage'] = data_2['Funding Stage'].replace(to_replace='Debt Financing', value='Debt Funding')\n",
    "\n",
    "data_2['InvestmentnType'] = data_2['InvestmentnType'].replace(to_replace='Seed/ Angel Funding', value='Angel')\n",
    "data_2['InvestmentnType'] = data_2['InvestmentnType'].replace(to_replace='Seed / Angel Funding', value='Angel')\n",
    "data_2['InvestmentnType'] = data_2['InvestmentnType'].replace(to_replace='Seed / Angle Funding', value='Angel')\n",
    "data_2['InvestmentnType'] = data_2['InvestmentnType'].replace(to_replace=r'Seed\\\\nFunding', value='Seed')\n",
    "data_2['InvestmentnType'] = data_2['InvestmentnType'].replace(to_replace='Seed/Angel Funding', value='Angel')\n",
    "data_2['InvestmentnType'] = data_2['InvestmentnType'].replace(to_replace='Angel / Seed Funding', value='Angel')\n",
    "data_2['InvestmentnType'] = data_2['InvestmentnType'].replace(to_replace='Private Equity Round', value='Private Equity')\n",
    "data_2['InvestmentnType'] = data_2['InvestmentnType'].replace(to_replace='Equity', value='Private Equity')\n",
    "data_2['InvestmentnType'] = data_2['InvestmentnType'].replace(to_replace='Venture Round', value='Venture')\n",
    "data_2['InvestmentnType'] = data_2['InvestmentnType'].replace(to_replace='Venture - Series Unknown', value='Venture')\n",
    "data_2['InvestmentnType'] = data_2['InvestmentnType'].replace(to_replace='Seed Funding Round', value='Seed')\n",
    "data_2['InvestmentnType'] = data_2['InvestmentnType'].replace(to_replace='Equity Based Funding', value='Private Equity')\n",
    "data_2['InvestmentnType'] = data_2['InvestmentnType'].replace(to_replace='Angel Funding', value='Angel')\n",
    "data_2['InvestmentnType'] = data_2['InvestmentnType'].replace(to_replace='Angel Round', value='Angel')\n",
    "data_2['InvestmentnType'] = data_2['InvestmentnType'].replace(to_replace='Crowd Funding', value='Crowdfunding')\n",
    "data_2['InvestmentnType'] = data_2['InvestmentnType'].replace(to_replace='Debt', value='Debt Funding')\n",
    "data_2['InvestmentnType'] = data_2['InvestmentnType'].replace(to_replace='Debt and Preference capital', value='Debt Funding')\n",
    "data_2['InvestmentnType'] = data_2['InvestmentnType'].replace(to_replace='Debt Funding', value='Debt Funding')\n",
    "data_2['InvestmentnType'] = data_2['InvestmentnType'].replace(to_replace='Funding Round', value='Funding')\n",
    "data_2['InvestmentnType'] = data_2['InvestmentnType'].replace(to_replace=r'Private\\\\nEquity', value='Private Equity')\n",
    "data_2['InvestmentnType'] = data_2['InvestmentnType'].replace(to_replace='Pre Series A', value='Pre-Series A')\n",
    "data_2['InvestmentnType'] = data_2['InvestmentnType'].replace(to_replace='pre-Series A', value='Pre-Series A')\n",
    "data_2['InvestmentnType'] = data_2['InvestmentnType'].replace(to_replace='Pre Series A', value='Pre-Series A')\n",
    "data_2['InvestmentnType'] = data_2['InvestmentnType'].replace(to_replace='Pre-series A', value='Pre-Series A')\n",
    "data_2['InvestmentnType'] = data_2['InvestmentnType'].replace(to_replace='pre-series A', value='Pre-Series A')\n",
    "data_2['InvestmentnType'] = data_2['InvestmentnType'].replace(to_replace='Private', value='Private Funding')\n",
    "data_2['InvestmentnType'] = data_2['InvestmentnType'].replace(to_replace='PrivateEquity', value='Private Equity')\n",
    "data_2['InvestmentnType'] = data_2['InvestmentnType'].replace(to_replace='Seed funding', value='Seed')\n",
    "data_2['InvestmentnType'] = data_2['InvestmentnType'].replace(to_replace='Seed Funding', value='Seed')\n",
    "data_2['InvestmentnType'] = data_2['InvestmentnType'].replace(to_replace='Debt-Funding', value='Debt Funding')"
   ]
  },
  {
   "cell_type": "code",
   "execution_count": 131,
   "id": "afa0bab6",
   "metadata": {},
   "outputs": [
    {
     "name": "stderr",
     "output_type": "stream",
     "text": [
      "100%|████████████████████████████████████████████████████████████████████████| 236116/236116 [00:26<00:00, 8857.94it/s]\n"
     ]
    }
   ],
   "source": [
    "for ind in tqdm(range(data_2.shape[0])):\n",
    "    if pd.isnull(data_2.loc[ind, 'Funding Stage']):\n",
    "        data_2.loc[ind, 'Funding Stage'] = data_2.loc[ind, 'InvestmentnType']"
   ]
  },
  {
   "cell_type": "code",
   "execution_count": 132,
   "id": "a6a942a9",
   "metadata": {},
   "outputs": [],
   "source": [
    "data_2 = data_2.rename(columns = {'Funding Stage': 'funding_stage'})"
   ]
  },
  {
   "cell_type": "code",
   "execution_count": 133,
   "id": "63293c38",
   "metadata": {},
   "outputs": [],
   "source": [
    "data_2['funding_stage'] = data_2['funding_stage'].apply(\n",
    "    lambda x: x.lower() if type(x)==str else x\n",
    ")"
   ]
  },
  {
   "cell_type": "code",
   "execution_count": 134,
   "id": "33862a32",
   "metadata": {},
   "outputs": [
    {
     "data": {
      "text/plain": [
       "seed                     2239\n",
       "private equity           1386\n",
       "series a                  975\n",
       "series b                  670\n",
       "series c                  477\n",
       "series d                  261\n",
       "angel                     158\n",
       "series e                  137\n",
       "unknown                    65\n",
       "series f                   64\n",
       "pre-seed                   58\n",
       "debt funding               40\n",
       "series g                   27\n",
       "pre-series a                9\n",
       "seed round                  7\n",
       "ico                         5\n",
       "series h                    5\n",
       "venture                     4\n",
       "crowdfunding                4\n",
       "private funding             2\n",
       "corporate round             2\n",
       "funding                     2\n",
       "growth                      1\n",
       "grant                       1\n",
       "undisclosed                 1\n",
       "maiden round                1\n",
       "single venture              1\n",
       "series j                    1\n",
       "bridge round                1\n",
       "inhouse funding             1\n",
       "mezzanine                   1\n",
       "series b (extension)        1\n",
       "initial coin offering       1\n",
       "structured debt             1\n",
       "term loan                   1\n",
       "crowd funding               1\n",
       "Name: funding_stage, dtype: int64"
      ]
     },
     "execution_count": 134,
     "metadata": {},
     "output_type": "execute_result"
    }
   ],
   "source": [
    "data_2['funding_stage'].value_counts()"
   ]
  },
  {
   "cell_type": "code",
   "execution_count": 135,
   "id": "fcb45d38",
   "metadata": {},
   "outputs": [],
   "source": [
    "data_2 = data_2.drop(columns=[\n",
    "    'Investors Name', 'InvestmentnType'\n",
    "]).reset_index(drop=True)"
   ]
  },
  {
   "cell_type": "code",
   "execution_count": 136,
   "id": "cba87037",
   "metadata": {},
   "outputs": [
    {
     "data": {
      "text/plain": [
       "operating    183429\n",
       "acquired       9394\n",
       "closed         2584\n",
       "ipo            1134\n",
       "Name: status, dtype: int64"
      ]
     },
     "execution_count": 136,
     "metadata": {},
     "output_type": "execute_result"
    }
   ],
   "source": [
    "data_2['status'].value_counts()"
   ]
  },
  {
   "cell_type": "code",
   "execution_count": 137,
   "id": "125c6e2e",
   "metadata": {},
   "outputs": [
    {
     "data": {
      "text/plain": [
       "VC             15834\n",
       "Corporation     9178\n",
       "Name: Fund structure, dtype: int64"
      ]
     },
     "execution_count": 137,
     "metadata": {},
     "output_type": "execute_result"
    }
   ],
   "source": [
    "data_2['Fund structure'].value_counts()"
   ]
  },
  {
   "cell_type": "code",
   "execution_count": 138,
   "id": "345c85bc",
   "metadata": {},
   "outputs": [
    {
     "data": {
      "text/plain": [
       "software            17921\n",
       "web                 15118\n",
       "other               13617\n",
       "ecommerce            9065\n",
       "games_video          7520\n",
       "mobile               6862\n",
       "advertising          6098\n",
       "consulting           5006\n",
       "enterprise           4441\n",
       "biotech              4430\n",
       "hardware             2951\n",
       "education            2901\n",
       "public_relations     2846\n",
       "network_hosting      2350\n",
       "search               2182\n",
       "cleantech            1940\n",
       "health               1698\n",
       "finance              1386\n",
       "social               1310\n",
       "security             1171\n",
       "medical              1153\n",
       "analytics            1022\n",
       "legal                1012\n",
       "travel                936\n",
       "local                 785\n",
       "hospitality           768\n",
       "news                  768\n",
       "semiconductor         696\n",
       "manufacturing         680\n",
       "sports                675\n",
       "music                 581\n",
       "fashion               562\n",
       "photo_video           544\n",
       "transportation        489\n",
       "real_estate           474\n",
       "messaging             296\n",
       "automotive            291\n",
       "design                281\n",
       "nonprofit             184\n",
       "nanotech               70\n",
       "pets                   61\n",
       "government             43\n",
       "Name: category_code, dtype: int64"
      ]
     },
     "execution_count": 138,
     "metadata": {},
     "output_type": "execute_result"
    }
   ],
   "source": [
    "data_2['category_code'].value_counts()"
   ]
  },
  {
   "cell_type": "code",
   "execution_count": 139,
   "id": "75eb8023",
   "metadata": {},
   "outputs": [
    {
     "data": {
      "text/plain": [
       "Software and Services             1052\n",
       "Consumer Internet                  941\n",
       "Consumer                           848\n",
       "B2B Software                       632\n",
       "Technology                         483\n",
       "                                  ... \n",
       "Virtual Reality, Hardware            1\n",
       "Health Care, Renewable Energy        1\n",
       "Music, Computer                      1\n",
       "Water Purification, Industrial       1\n",
       "Finttech                             1\n",
       "Name: INDUSTRY, Length: 13637, dtype: int64"
      ]
     },
     "execution_count": 139,
     "metadata": {},
     "output_type": "execute_result"
    }
   ],
   "source": [
    "data_2['INDUSTRY'].value_counts()"
   ]
  },
  {
   "cell_type": "code",
   "execution_count": 140,
   "id": "ee4eb412",
   "metadata": {},
   "outputs": [
    {
     "data": {
      "text/plain": [
       "35"
      ]
     },
     "execution_count": 140,
     "metadata": {},
     "output_type": "execute_result"
    }
   ],
   "source": [
    "data_2.duplicated().sum()"
   ]
  },
  {
   "cell_type": "code",
   "execution_count": 141,
   "id": "90114e93",
   "metadata": {},
   "outputs": [
    {
     "data": {
      "text/plain": [
       "(236081, 53)"
      ]
     },
     "execution_count": 141,
     "metadata": {},
     "output_type": "execute_result"
    }
   ],
   "source": [
    "data_2 = data_2.drop_duplicates().reset_index(drop=True)\n",
    "data_2.shape"
   ]
  },
  {
   "cell_type": "code",
   "execution_count": 142,
   "id": "50b23fba",
   "metadata": {},
   "outputs": [
    {
     "data": {
      "text/plain": [
       "ROI                                                 99.692478\n",
       "TOP_decision_makers_strategy_diversity_index        99.577687\n",
       "team_size                                           99.576417\n",
       "valuation_billion_usd                               99.095649\n",
       "first_investment_at                                 98.906731\n",
       "last_investment_at                                  98.906731\n",
       "invested_companies                                  98.903342\n",
       "investment_rounds                                   98.903342\n",
       "closed_at                                           98.890211\n",
       "SUB-INDUSTRY                                        98.787704\n",
       "TOP_unicorn_amount                                  98.706800\n",
       "Investors                                           97.818122\n",
       "TOP_avg_startup_valuation                           97.762632\n",
       "funding_stage                                       97.200537\n",
       "TOP_success_strategy_diversity_index                96.831172\n",
       "TOP_avg_multiplicator                               96.690543\n",
       "TOP_key_persons                                     96.408436\n",
       "TOP_lead_investments                                96.369043\n",
       "TOP_follow_on_index                                 96.165299\n",
       "TOP_novelty_companies                               93.112110\n",
       "Fund that most often invests in following rounds    92.152693\n",
       "Fund that most often invests in previous rounds     91.405492\n",
       "Fund that most often invests together               90.053414\n",
       "TOP_readiness_take_younger_startups                 89.732338\n",
       "Fund structure                                      89.405331\n",
       "TOP_avg_round_size                                  89.181679\n",
       "TOP_companies_at_peak_activity                      88.914398\n",
       "TOP_avg_rounds_per_year                             88.880088\n",
       "Unicorn Nest website link                           88.737340\n",
       "Crunchbase Url                                      88.229464\n",
       "last_funding_at                                     86.654157\n",
       "first_funding_at                                    86.654157\n",
       "funding_rounds                                      86.569440\n",
       "funding_total_usd                                   85.805296\n",
       "INDUSTRY                                            83.811488\n",
       "state_code                                          78.343874\n",
       "twitter_username                                    65.864258\n",
       "tag_list                                            65.500824\n",
       "city                                                61.947806\n",
       "milestones                                          61.162059\n",
       "last_milestone_at                                   61.162059\n",
       "first_milestone_at                                  61.162059\n",
       "description                                         59.551595\n",
       "founded_at                                          59.189431\n",
       "country_code                                        48.377887\n",
       "category_code                                       47.823417\n",
       "long_description                                    45.583507\n",
       "relationships                                       45.089609\n",
       "Website                                             38.900632\n",
       "created_by                                          34.137436\n",
       "status                                              16.762467\n",
       "dtype: float64"
      ]
     },
     "execution_count": 142,
     "metadata": {},
     "output_type": "execute_result"
    },
    {
     "data": {
      "image/png": "[encoded data removed]",
      "text/plain": [
       "<Figure size 1152x720 with 2 Axes>"
      ]
     },
     "metadata": {
      "needs_background": "light"
     },
     "output_type": "display_data"
    }
   ],
   "source": [
    "# Оцениваем пропуски\n",
    "cols_null_percent(data=data_2)"
   ]
  },
  {
   "cell_type": "raw",
   "id": "8e86fc0e",
   "metadata": {},
   "source": [
    "data_2.to_csv('raw_data/data_2_final.csv', index_label=False)"
   ]
  },
  {
   "cell_type": "code",
   "execution_count": 152,
   "id": "ffb76bd5",
   "metadata": {},
   "outputs": [],
   "source": [
    "df_2 = pd.read_csv('raw_data/data_2_final.csv', parse_dates=[7, 8, 9, 10, 11, 12, 13, 14])"
   ]
  },
  {
   "cell_type": "markdown",
   "id": "8e83a99c",
   "metadata": {},
   "source": [
    "____"
   ]
  },
  {
   "cell_type": "markdown",
   "id": "fe8e40d2",
   "metadata": {},
   "source": [
    "# Part 3. Merge kaggle and theorg datasets\n",
    "Для объединения выбрано 3 ключа (компания, сайт и стадия финансирования), метод outer для избежжания потери информации"
   ]
  },
  {
   "cell_type": "code",
   "execution_count": 153,
   "id": "4e7cce44",
   "metadata": {},
   "outputs": [],
   "source": [
    "data_merge = pd.merge(\n",
    "    df_2, df_1, \n",
    "    left_on=['name_norm', 'Website', 'funding_stage'], \n",
    "    right_on=['name_norm', 'websiteUrl', 'funding_type'], how='outer'\n",
    ")"
   ]
  },
  {
   "cell_type": "code",
   "execution_count": 154,
   "id": "e2b75d0e",
   "metadata": {},
   "outputs": [
    {
     "name": "stdout",
     "output_type": "stream",
     "text": [
      "<class 'pandas.core.frame.DataFrame'>\n",
      "Int64Index: 604428 entries, 0 to 604427\n",
      "Data columns (total 65 columns):\n",
      " #   Column                                            Non-Null Count   Dtype         \n",
      "---  ------                                            --------------   -----         \n",
      " 0   name_x                                            236081 non-null  object        \n",
      " 1   name_norm                                         604428 non-null  object        \n",
      " 2   Website                                           144244 non-null  object        \n",
      " 3   country_code                                      121870 non-null  object        \n",
      " 4   city_x                                            89834 non-null   object        \n",
      " 5   state_code                                        51126 non-null   object        \n",
      " 6   status                                            196508 non-null  object        \n",
      " 7   founded_at                                        96346 non-null   datetime64[ns]\n",
      " 8   closed_at                                         2620 non-null    datetime64[ns]\n",
      " 9   first_investment_at                               2581 non-null    datetime64[ns]\n",
      " 10  last_investment_at                                2581 non-null    datetime64[ns]\n",
      " 11  first_funding_at                                  31507 non-null   datetime64[ns]\n",
      " 12  last_funding_at                                   31507 non-null   datetime64[ns]\n",
      " 13  first_milestone_at                                91689 non-null   datetime64[ns]\n",
      " 14  last_milestone_at                                 91689 non-null   datetime64[ns]\n",
      " 15  description                                       95491 non-null   object        \n",
      " 16  long_description                                  128467 non-null  object        \n",
      " 17  category_code                                     123179 non-null  object        \n",
      " 18  INDUSTRY                                          38218 non-null   object        \n",
      " 19  SUB-INDUSTRY                                      2862 non-null    object        \n",
      " 20  tag_list                                          81446 non-null   object        \n",
      " 21  valuation_billion_usd                             2135 non-null    float64       \n",
      " 22  funding_total_usd                                 33511 non-null   float64       \n",
      " 23  ROI                                               726 non-null     float64       \n",
      " 24  created_by                                        155489 non-null  object        \n",
      " 25  funding_stage                                     6609 non-null    object        \n",
      " 26  Fund structure                                    25012 non-null   object        \n",
      " 27  investment_rounds                                 2589 non-null    float64       \n",
      " 28  invested_companies                                2589 non-null    float64       \n",
      " 29  funding_rounds                                    31707 non-null   float64       \n",
      " 30  milestones                                        91689 non-null   float64       \n",
      " 31  relationships                                     129633 non-null  float64       \n",
      " 32  twitter_username                                  80588 non-null   object        \n",
      " 33  Crunchbase Url                                    27788 non-null   object        \n",
      " 34  Unicorn Nest website link                         26589 non-null   object        \n",
      " 35  Investors                                         5151 non-null    object        \n",
      " 36  Fund that most often invests in previous rounds   20290 non-null   object        \n",
      " 37  Fund that most often invests together             23482 non-null   object        \n",
      " 38  Fund that most often invests in following rounds  18526 non-null   object        \n",
      " 39  TOP_novelty_companies                             16261 non-null   float64       \n",
      " 40  TOP_companies_at_peak_activity                    26171 non-null   float64       \n",
      " 41  TOP_key_persons                                   8479 non-null    float64       \n",
      " 42  TOP_lead_investments                              8572 non-null    float64       \n",
      " 43  TOP_unicorn_amount                                3053 non-null    float64       \n",
      " 44  TOP_avg_rounds_per_year                           26252 non-null   float64       \n",
      " 45  TOP_avg_round_size                                25540 non-null   float64       \n",
      " 46  TOP_avg_startup_valuation                         5282 non-null    float64       \n",
      " 47  TOP_decision_makers_strategy_diversity_index      997 non-null     float64       \n",
      " 48  TOP_avg_multiplicator                             7813 non-null    float64       \n",
      " 49  TOP_success_strategy_diversity_index              7481 non-null    float64       \n",
      " 50  TOP_follow_on_index                               9053 non-null    float64       \n",
      " 51  TOP_readiness_take_younger_startups               24240 non-null   float64       \n",
      " 52  team_size                                         1000 non-null    float64       \n",
      " 53  name_y                                            376840 non-null  object        \n",
      " 54  city_y                                            341126 non-null  object        \n",
      " 55  state                                             269761 non-null  object        \n",
      " 56  country                                           345713 non-null  object        \n",
      " 57  employeeRange                                     354777 non-null  object        \n",
      " 58  followerCount                                     376840 non-null  object        \n",
      " 59  positionCount                                     376840 non-null  float64       \n",
      " 60  stage                                             18720 non-null   object        \n",
      " 61  websiteUrl                                        372450 non-null  object        \n",
      " 62  Industry                                          352931 non-null  object        \n",
      " 63  funding_type                                      102393 non-null  object        \n",
      " 64  best_company                                      376840 non-null  float64       \n",
      "dtypes: datetime64[ns](8), float64(24), object(33)\n",
      "memory usage: 304.4+ MB\n"
     ]
    }
   ],
   "source": [
    "data_merge.info()"
   ]
  },
  {
   "cell_type": "code",
   "execution_count": 155,
   "id": "e53557c6",
   "metadata": {},
   "outputs": [],
   "source": [
    "dm = data_merge.copy()"
   ]
  },
  {
   "cell_type": "code",
   "execution_count": 156,
   "id": "b689faa4",
   "metadata": {},
   "outputs": [
    {
     "name": "stderr",
     "output_type": "stream",
     "text": [
      "100%|███████████████████████████████████████████████████████████████████████| 604428/604428 [00:48<00:00, 12425.86it/s]\n"
     ]
    }
   ],
   "source": [
    "# Далее объединяем дублирующие столбцы\n",
    "\n",
    "for ind in tqdm(range(dm.shape[0])):\n",
    "    if pd.isnull(dm.loc[ind, 'name_x']):\n",
    "        dm.loc[ind, 'name_x'] = dm.loc[ind, 'name_y']"
   ]
  },
  {
   "cell_type": "code",
   "execution_count": 157,
   "id": "c6774463",
   "metadata": {},
   "outputs": [],
   "source": [
    "dm = dm.rename(columns = {'name_x': 'name'})\n",
    "dm = dm.drop(columns=['name_y']).reset_index(drop=True)"
   ]
  },
  {
   "cell_type": "code",
   "execution_count": 158,
   "id": "3b2c75b2",
   "metadata": {},
   "outputs": [
    {
     "name": "stderr",
     "output_type": "stream",
     "text": [
      "100%|████████████████████████████████████████████████████████████████████████| 604428/604428 [01:07<00:00, 8991.86it/s]\n"
     ]
    }
   ],
   "source": [
    "for ind in tqdm(range(dm.shape[0])):\n",
    "    if pd.isnull(dm.loc[ind, 'city_x']):\n",
    "        dm.loc[ind, 'city_x'] = dm.loc[ind, 'city_y']"
   ]
  },
  {
   "cell_type": "code",
   "execution_count": 159,
   "id": "cb65e332",
   "metadata": {},
   "outputs": [],
   "source": [
    "dm = dm.rename(columns = {'city_x': 'city'})"
   ]
  },
  {
   "cell_type": "code",
   "execution_count": 160,
   "id": "2548adfb",
   "metadata": {},
   "outputs": [
    {
     "name": "stderr",
     "output_type": "stream",
     "text": [
      "100%|████████████████████████████████████████████████████████████████████████| 604428/604428 [01:14<00:00, 8136.27it/s]\n"
     ]
    }
   ],
   "source": [
    "for ind in tqdm(range(dm.shape[0])):\n",
    "    if pd.isnull(dm.loc[ind, 'state_code']):\n",
    "        dm.loc[ind, 'state_code'] = dm.loc[ind, 'state']"
   ]
  },
  {
   "cell_type": "code",
   "execution_count": 161,
   "id": "5a8c00fe",
   "metadata": {},
   "outputs": [
    {
     "name": "stderr",
     "output_type": "stream",
     "text": [
      "100%|████████████████████████████████████████████████████████████████████████| 604428/604428 [01:07<00:00, 8984.77it/s]\n"
     ]
    }
   ],
   "source": [
    "for ind in tqdm(range(dm.shape[0])):\n",
    "    if pd.isnull(dm.loc[ind, 'country_code']):\n",
    "        dm.loc[ind, 'country_code'] = dm.loc[ind, 'country']"
   ]
  },
  {
   "cell_type": "code",
   "execution_count": 162,
   "id": "5023575c",
   "metadata": {},
   "outputs": [
    {
     "name": "stderr",
     "output_type": "stream",
     "text": [
      "100%|███████████████████████████████████████████████████████████████████████| 604428/604428 [00:58<00:00, 10307.95it/s]\n"
     ]
    }
   ],
   "source": [
    "for ind in tqdm(range(dm.shape[0])):\n",
    "    if pd.isnull(dm.loc[ind, 'Website']):\n",
    "        dm.loc[ind, 'Website'] = dm.loc[ind, 'websiteUrl']"
   ]
  },
  {
   "cell_type": "code",
   "execution_count": 163,
   "id": "c9c40b6a",
   "metadata": {},
   "outputs": [
    {
     "name": "stderr",
     "output_type": "stream",
     "text": [
      "100%|████████████████████████████████████████████████████████████████████████| 604428/604428 [01:19<00:00, 7622.47it/s]\n"
     ]
    }
   ],
   "source": [
    "for ind in tqdm(range(dm.shape[0])):\n",
    "    if pd.isnull(dm.loc[ind, 'funding_stage']):\n",
    "        dm.loc[ind, 'funding_stage'] = dm.loc[ind, 'funding_type']"
   ]
  },
  {
   "cell_type": "code",
   "execution_count": 164,
   "id": "2cdb23bf",
   "metadata": {},
   "outputs": [],
   "source": [
    "dm = dm.drop(columns=[\n",
    "    'city_y', 'state', 'country', 'websiteUrl', 'funding_type'\n",
    "]).reset_index(drop=True)"
   ]
  },
  {
   "cell_type": "code",
   "execution_count": 165,
   "id": "c4ca1cd3",
   "metadata": {},
   "outputs": [],
   "source": [
    "dm1 = dm.copy()"
   ]
  },
  {
   "cell_type": "code",
   "execution_count": 166,
   "id": "ffcf665d",
   "metadata": {},
   "outputs": [
    {
     "name": "stderr",
     "output_type": "stream",
     "text": [
      "100%|████████████████████████████████████████████████████████████████████████| 604428/604428 [01:13<00:00, 8270.03it/s]\n"
     ]
    }
   ],
   "source": [
    "dm1['Industry'] = dm1['Industry'].str.replace('[', '')\n",
    "dm1['Industry'] = dm1['Industry'].str.replace(']', '')\n",
    "dm1['Industry'] = dm1['Industry'].str.replace(\"'\", '')\n",
    "\n",
    "for ind in tqdm(range(dm1.shape[0])):\n",
    "    if pd.isnull(dm1.loc[ind, 'INDUSTRY']):\n",
    "        dm1.loc[ind, 'INDUSTRY'] = dm1.loc[ind, 'Industry']"
   ]
  },
  {
   "cell_type": "code",
   "execution_count": 167,
   "id": "7c89565a",
   "metadata": {},
   "outputs": [],
   "source": [
    "dm1 = dm1.drop(columns=['Industry']).reset_index(drop=True)"
   ]
  },
  {
   "cell_type": "code",
   "execution_count": 168,
   "id": "eb99248e",
   "metadata": {},
   "outputs": [],
   "source": [
    "dm2 = dm1.copy()"
   ]
  },
  {
   "cell_type": "code",
   "execution_count": 169,
   "id": "535f5c13",
   "metadata": {},
   "outputs": [],
   "source": [
    "# Добавляем признак - лучшие компании к оставшимся записям\n",
    "dm2['best_company2'] = dm2['name'].apply(\n",
    "    lambda x: 1 if x in best_set else 0)\n",
    "dm2 = dm2.drop(columns=['best_company']).reset_index(drop=True\n",
    "                                                    )\n",
    "dm2 = dm2.rename(columns = {'best_company2': 'best_company'})"
   ]
  },
  {
   "cell_type": "code",
   "execution_count": 170,
   "id": "6f355089",
   "metadata": {},
   "outputs": [
    {
     "data": {
      "text/plain": [
       "0    600680\n",
       "1      3748\n",
       "Name: best_company, dtype: int64"
      ]
     },
     "execution_count": 170,
     "metadata": {},
     "output_type": "execute_result"
    }
   ],
   "source": [
    "dm2['best_company'].value_counts()"
   ]
  },
  {
   "cell_type": "code",
   "execution_count": 171,
   "id": "e2c08367",
   "metadata": {},
   "outputs": [
    {
     "data": {
      "text/plain": [
       "0"
      ]
     },
     "execution_count": 171,
     "metadata": {},
     "output_type": "execute_result"
    }
   ],
   "source": [
    "dm2.duplicated().sum()"
   ]
  },
  {
   "cell_type": "code",
   "execution_count": 172,
   "id": "fdb945e3",
   "metadata": {},
   "outputs": [
    {
     "name": "stderr",
     "output_type": "stream",
     "text": [
      "100%|███████████████████████████████████████████████████████████████████████| 604428/604428 [00:07<00:00, 79287.79it/s]\n"
     ]
    }
   ],
   "source": [
    "# Добавляем категоризацию количества сотрудников к части строк\n",
    "for ind in tqdm(range(dm2.shape[0])):\n",
    "    if pd.notnull(dm2.loc[ind, 'team_size']):\n",
    "        if dm2.loc[ind, 'team_size'] <=10:\n",
    "            dm2.loc[ind, 'employeeRange'] = '1-10'\n",
    "        elif (dm2.loc[ind, 'team_size'] <=50) & (dm2.loc[ind, 'team_size'] >10):\n",
    "            dm2.loc[ind, 'employeeRange'] = '10-50'\n",
    "        elif (dm2.loc[ind, 'team_size'] <=200) & (dm2.loc[ind, 'team_size'] >50):\n",
    "            dm2.loc[ind, 'employeeRange'] = '50-200'\n",
    "        elif (dm2.loc[ind, 'team_size'] <=500) & (dm2.loc[ind, 'team_size'] >200):\n",
    "            dm2.loc[ind, 'employeeRange'] = '200-500'\n",
    "        elif (dm2.loc[ind, 'team_size'] <=1000) & (dm2.loc[ind, 'team_size'] >500):\n",
    "            dm2.loc[ind, 'employeeRange'] = '500-1000'\n",
    "        elif (dm2.loc[ind, 'team_size'] <=5000) & (dm2.loc[ind, 'team_size'] >1000):\n",
    "            dm2.loc[ind, 'employeeRange'] = '1000-5000'\n",
    "        elif (dm2.loc[ind, 'team_size'] <=10000) & (dm2.loc[ind, 'team_size'] >5000):\n",
    "            dm2.loc[ind, 'employeeRange'] = '5000-10000'\n",
    "        elif dm2.loc[ind, 'team_size'] > 10000:\n",
    "            dm2.loc[ind, 'employeeRange'] = '>10000'"
   ]
  },
  {
   "cell_type": "code",
   "execution_count": 173,
   "id": "1a6cdb1d",
   "metadata": {},
   "outputs": [
    {
     "data": {
      "text/plain": [
       "10-50         103708\n",
       "1-10           97050\n",
       "50-200         46056\n",
       "200-500        45217\n",
       "1000-5000      31307\n",
       "500-1000       20073\n",
       ">10000          6851\n",
       "5000-10000      5496\n",
       "Name: employeeRange, dtype: int64"
      ]
     },
     "execution_count": 173,
     "metadata": {},
     "output_type": "execute_result"
    }
   ],
   "source": [
    "dm2['employeeRange'].value_counts()"
   ]
  },
  {
   "cell_type": "raw",
   "id": "ae25707b",
   "metadata": {},
   "source": [
    "dm2.to_csv('final_dataset.csv', index_label=False)"
   ]
  },
  {
   "cell_type": "code",
   "execution_count": 174,
   "id": "f1fb9f1a",
   "metadata": {},
   "outputs": [
    {
     "data": {
      "text/plain": [
       "(604428, 58)"
      ]
     },
     "execution_count": 174,
     "metadata": {},
     "output_type": "execute_result"
    }
   ],
   "source": [
    "dm2.shape"
   ]
  },
  {
   "cell_type": "code",
   "execution_count": 192,
   "id": "887775a4",
   "metadata": {},
   "outputs": [
    {
     "data": {
      "image/png": "[encoded data removed]",
      "text/plain": [
       "<Figure size 1152x2016 with 24 Axes>"
      ]
     },
     "metadata": {
      "needs_background": "light"
     },
     "output_type": "display_data"
    }
   ],
   "source": [
    "plot_histograms(dm2.select_dtypes(include='number'), 10, (16, 28))"
   ]
  },
  {
   "cell_type": "code",
   "execution_count": null,
   "id": "ccb0e330",
   "metadata": {},
   "outputs": [],
   "source": []
  }
 ],
 "metadata": {
  "kernelspec": {
   "display_name": "Python 3 (ipykernel)",
   "language": "python",
   "name": "python3"
  },
  "language_info": {
   "codemirror_mode": {
    "name": "ipython",
    "version": 3
   },
   "file_extension": ".py",
   "mimetype": "text/x-python",
   "name": "python",
   "nbconvert_exporter": "python",
   "pygments_lexer": "ipython3",
   "version": "3.9.12"
  }
 },
 "nbformat": 4,
 "nbformat_minor": 5
}
