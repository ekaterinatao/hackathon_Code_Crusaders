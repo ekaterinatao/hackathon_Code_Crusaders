{
 "cells": [
  {
   "cell_type": "code",
   "execution_count": 1,
   "id": "9cb953b1",
   "metadata": {
    "scrolled": true
   },
   "outputs": [
    {
     "name": "stdout",
     "output_type": "stream",
     "text": [
      "Requirement already satisfied: opendatasets in c:\\anaconda3\\lib\\site-packages (0.1.22)\n",
      "Requirement already satisfied: kaggle in c:\\anaconda3\\lib\\site-packages (from opendatasets) (1.5.13)\n",
      "Requirement already satisfied: click in c:\\anaconda3\\lib\\site-packages (from opendatasets) (8.0.4)\n",
      "Requirement already satisfied: tqdm in c:\\anaconda3\\lib\\site-packages (from opendatasets) (4.64.1)\n",
      "Requirement already satisfied: colorama in c:\\anaconda3\\lib\\site-packages (from click->opendatasets) (0.4.6)\n",
      "Requirement already satisfied: python-slugify in c:\\anaconda3\\lib\\site-packages (from kaggle->opendatasets) (5.0.2)\n",
      "Requirement already satisfied: requests in c:\\anaconda3\\lib\\site-packages (from kaggle->opendatasets) (2.28.1)\n",
      "Requirement already satisfied: certifi in c:\\anaconda3\\lib\\site-packages (from kaggle->opendatasets) (2022.12.7)\n",
      "Requirement already satisfied: six>=1.10 in c:\\anaconda3\\lib\\site-packages (from kaggle->opendatasets) (1.16.0)\n",
      "Requirement already satisfied: python-dateutil in c:\\anaconda3\\lib\\site-packages (from kaggle->opendatasets) (2.8.2)\n",
      "Requirement already satisfied: urllib3 in c:\\anaconda3\\lib\\site-packages (from kaggle->opendatasets) (1.26.14)\n",
      "Requirement already satisfied: text-unidecode>=1.3 in c:\\anaconda3\\lib\\site-packages (from python-slugify->kaggle->opendatasets) (1.3)\n",
      "Requirement already satisfied: charset-normalizer<3,>=2 in c:\\anaconda3\\lib\\site-packages (from requests->kaggle->opendatasets) (2.0.4)\n",
      "Requirement already satisfied: idna<4,>=2.5 in c:\\anaconda3\\lib\\site-packages (from requests->kaggle->opendatasets) (3.4)\n"
     ]
    }
   ],
   "source": [
    "!pip install opendatasets\n",
    "import opendatasets as od\n",
    "import pandas as pd\n",
    "import numpy as np"
   ]
  },
  {
   "cell_type": "code",
   "execution_count": 2,
   "id": "6e3ebfd6",
   "metadata": {},
   "outputs": [],
   "source": [
    "ws = pd.read_excel('hackathon_tables.xlsx')\n",
    "links = pd.DataFrame(ws, columns = ['Link'])"
   ]
  },
  {
   "cell_type": "code",
   "execution_count": 3,
   "id": "49a57955",
   "metadata": {},
   "outputs": [
    {
     "name": "stdout",
     "output_type": "stream",
     "text": [
      "Skipping, found downloaded files in \".\\big-startup-secsees-fail-dataset-from-crunchbase\" (use force=True to force download)\n",
      "Skipping, found downloaded files in \".\\startup-investments\" (use force=True to force download)\n",
      "Skipping, found downloaded files in \".\\company-acquisitions-7-top-companies\" (use force=True to force download)\n",
      "Skipping, found downloaded files in \".\\startups-valued-at-1-billion-or-more\" (use force=True to force download)\n",
      "Skipping, found downloaded files in \".\\startups\" (use force=True to force download)\n",
      "Skipping, found downloaded files in \".\\unicorn-nest-startup-fundraising-dataset\" (use force=True to force download)\n",
      "Skipping, found downloaded files in \".\\indian-startup-funding\" (use force=True to force download)\n",
      "Skipping, found downloaded files in \".\\pakistan-startup-census\" (use force=True to force download)\n",
      "Skipping, found downloaded files in \".\\world-wide-unicorn-startups\" (use force=True to force download)\n",
      "Skipping, found downloaded files in \".\\empowering-the-next-wave-of-entrepreneurs\" (use force=True to force download)\n",
      "Skipping, found downloaded files in \".\\shark-tank-us-dataset\" (use force=True to force download)\n",
      "Skipping, found downloaded files in \".\\shark-tank-india\" (use force=True to force download)\n",
      "Skipping, found downloaded files in \".\\producthunt-startups-dataset\" (use force=True to force download)\n",
      "Skipping, found downloaded files in \".\\company-ipos-2019-2021\" (use force=True to force download)\n",
      "Skipping, found downloaded files in \".\\tech-company-fundings-2020-onwards\" (use force=True to force download)\n"
     ]
    }
   ],
   "source": [
    "for i, row in links.iterrows():\n",
    "    url = str(row[0])\n",
    "    od.download(url)\n",
    "    if i == 14:\n",
    "        break"
   ]
  },
  {
   "cell_type": "code",
   "execution_count": 4,
   "id": "a7ae53df",
   "metadata": {
    "scrolled": true
   },
   "outputs": [
    {
     "name": "stdout",
     "output_type": "stream",
     "text": [
      "<class 'pandas.core.frame.DataFrame'>\n",
      "RangeIndex: 196553 entries, 0 to 196552\n",
      "Data columns (total 44 columns):\n",
      " #   Column               Non-Null Count   Dtype  \n",
      "---  ------               --------------   -----  \n",
      " 0   id                   196553 non-null  object \n",
      " 1   Unnamed: 0.1         196553 non-null  int64  \n",
      " 2   entity_type          196553 non-null  object \n",
      " 3   entity_id            196553 non-null  int64  \n",
      " 4   parent_id            0 non-null       float64\n",
      " 5   name                 196531 non-null  object \n",
      " 6   normalized_name      196527 non-null  object \n",
      " 7   permalink            196553 non-null  object \n",
      " 8   category_code        123186 non-null  object \n",
      " 9   status               196553 non-null  object \n",
      " 10  founded_at           91227 non-null   object \n",
      " 11  closed_at            2620 non-null    object \n",
      " 12  domain               126545 non-null  object \n",
      " 13  homepage_url         126545 non-null  object \n",
      " 14  twitter_username     80591 non-null   object \n",
      " 15  logo_url             110110 non-null  object \n",
      " 16  logo_width           110110 non-null  float64\n",
      " 17  logo_height          110110 non-null  float64\n",
      " 18  short_description    7131 non-null    object \n",
      " 19  description          92048 non-null   object \n",
      " 20  overview             126971 non-null  object \n",
      " 21  tag_list             81452 non-null   object \n",
      " 22  country_code         87990 non-null   object \n",
      " 23  state_code           50903 non-null   object \n",
      " 24  city                 83890 non-null   object \n",
      " 25  region               196553 non-null  object \n",
      " 26  first_investment_at  2583 non-null    object \n",
      " 27  last_investment_at   2583 non-null    object \n",
      " 28  investment_rounds    2591 non-null    float64\n",
      " 29  invested_companies   2591 non-null    float64\n",
      " 30  first_funding_at     31507 non-null   object \n",
      " 31  last_funding_at      31507 non-null   object \n",
      " 32  funding_rounds       31707 non-null   float64\n",
      " 33  funding_total_usd    27874 non-null   float64\n",
      " 34  first_milestone_at   91699 non-null   object \n",
      " 35  last_milestone_at    91699 non-null   object \n",
      " 36  milestones           91699 non-null   float64\n",
      " 37  relationships        129667 non-null  float64\n",
      " 38  created_by           155533 non-null  object \n",
      " 39  created_at           196553 non-null  object \n",
      " 40  updated_at           196553 non-null  object \n",
      " 41  lat                  83852 non-null   float64\n",
      " 42  lng                  83852 non-null   float64\n",
      " 43  ROI                  726 non-null     float64\n",
      "dtypes: float64(12), int64(2), object(30)\n",
      "memory usage: 66.0+ MB\n"
     ]
    },
    {
     "data": {
      "text/html": [
       "<div>\n",
       "<style scoped>\n",
       "    .dataframe tbody tr th:only-of-type {\n",
       "        vertical-align: middle;\n",
       "    }\n",
       "\n",
       "    .dataframe tbody tr th {\n",
       "        vertical-align: top;\n",
       "    }\n",
       "\n",
       "    .dataframe thead th {\n",
       "        text-align: right;\n",
       "    }\n",
       "</style>\n",
       "<table border=\"1\" class=\"dataframe\">\n",
       "  <thead>\n",
       "    <tr style=\"text-align: right;\">\n",
       "      <th></th>\n",
       "      <th>id</th>\n",
       "      <th>Unnamed: 0.1</th>\n",
       "      <th>entity_type</th>\n",
       "      <th>entity_id</th>\n",
       "      <th>parent_id</th>\n",
       "      <th>name</th>\n",
       "      <th>normalized_name</th>\n",
       "      <th>permalink</th>\n",
       "      <th>category_code</th>\n",
       "      <th>status</th>\n",
       "      <th>...</th>\n",
       "      <th>first_milestone_at</th>\n",
       "      <th>last_milestone_at</th>\n",
       "      <th>milestones</th>\n",
       "      <th>relationships</th>\n",
       "      <th>created_by</th>\n",
       "      <th>created_at</th>\n",
       "      <th>updated_at</th>\n",
       "      <th>lat</th>\n",
       "      <th>lng</th>\n",
       "      <th>ROI</th>\n",
       "    </tr>\n",
       "  </thead>\n",
       "  <tbody>\n",
       "    <tr>\n",
       "      <th>0</th>\n",
       "      <td>c:1</td>\n",
       "      <td>0</td>\n",
       "      <td>Company</td>\n",
       "      <td>1</td>\n",
       "      <td>NaN</td>\n",
       "      <td>Wetpaint</td>\n",
       "      <td>wetpaint</td>\n",
       "      <td>/company/wetpaint</td>\n",
       "      <td>web</td>\n",
       "      <td>operating</td>\n",
       "      <td>...</td>\n",
       "      <td>2010-09-05</td>\n",
       "      <td>2013-09-18</td>\n",
       "      <td>5.0</td>\n",
       "      <td>17.0</td>\n",
       "      <td>initial-importer</td>\n",
       "      <td>2007-05-25 06:51:27</td>\n",
       "      <td>2013-04-13 03:29:00</td>\n",
       "      <td>47.606209</td>\n",
       "      <td>-122.332071</td>\n",
       "      <td>15.5</td>\n",
       "    </tr>\n",
       "    <tr>\n",
       "      <th>1</th>\n",
       "      <td>c:10</td>\n",
       "      <td>1</td>\n",
       "      <td>Company</td>\n",
       "      <td>10</td>\n",
       "      <td>NaN</td>\n",
       "      <td>Flektor</td>\n",
       "      <td>flektor</td>\n",
       "      <td>/company/flektor</td>\n",
       "      <td>games_video</td>\n",
       "      <td>acquired</td>\n",
       "      <td>...</td>\n",
       "      <td>NaN</td>\n",
       "      <td>NaN</td>\n",
       "      <td>NaN</td>\n",
       "      <td>6.0</td>\n",
       "      <td>initial-importer</td>\n",
       "      <td>2007-05-31 21:11:51</td>\n",
       "      <td>2008-05-23 23:23:14</td>\n",
       "      <td>34.021122</td>\n",
       "      <td>-118.396467</td>\n",
       "      <td>NaN</td>\n",
       "    </tr>\n",
       "    <tr>\n",
       "      <th>2</th>\n",
       "      <td>c:100</td>\n",
       "      <td>2</td>\n",
       "      <td>Company</td>\n",
       "      <td>100</td>\n",
       "      <td>NaN</td>\n",
       "      <td>There</td>\n",
       "      <td>there</td>\n",
       "      <td>/company/there</td>\n",
       "      <td>games_video</td>\n",
       "      <td>acquired</td>\n",
       "      <td>...</td>\n",
       "      <td>2003-02-01</td>\n",
       "      <td>2011-09-23</td>\n",
       "      <td>4.0</td>\n",
       "      <td>12.0</td>\n",
       "      <td>initial-importer</td>\n",
       "      <td>2007-08-06 23:52:45</td>\n",
       "      <td>2013-11-04 02:09:48</td>\n",
       "      <td>37.562992</td>\n",
       "      <td>-122.325525</td>\n",
       "      <td>NaN</td>\n",
       "    </tr>\n",
       "    <tr>\n",
       "      <th>3</th>\n",
       "      <td>c:10000</td>\n",
       "      <td>3</td>\n",
       "      <td>Company</td>\n",
       "      <td>10000</td>\n",
       "      <td>NaN</td>\n",
       "      <td>MYWEBBO</td>\n",
       "      <td>mywebbo</td>\n",
       "      <td>/company/mywebbo</td>\n",
       "      <td>network_hosting</td>\n",
       "      <td>operating</td>\n",
       "      <td>...</td>\n",
       "      <td>NaN</td>\n",
       "      <td>NaN</td>\n",
       "      <td>NaN</td>\n",
       "      <td>NaN</td>\n",
       "      <td>NaN</td>\n",
       "      <td>2008-08-24 16:51:57</td>\n",
       "      <td>2008-09-06 14:19:18</td>\n",
       "      <td>NaN</td>\n",
       "      <td>NaN</td>\n",
       "      <td>NaN</td>\n",
       "    </tr>\n",
       "    <tr>\n",
       "      <th>4</th>\n",
       "      <td>c:10001</td>\n",
       "      <td>4</td>\n",
       "      <td>Company</td>\n",
       "      <td>10001</td>\n",
       "      <td>NaN</td>\n",
       "      <td>THE Movie Streamer</td>\n",
       "      <td>the movie streamer</td>\n",
       "      <td>/company/the-movie-streamer</td>\n",
       "      <td>games_video</td>\n",
       "      <td>operating</td>\n",
       "      <td>...</td>\n",
       "      <td>NaN</td>\n",
       "      <td>NaN</td>\n",
       "      <td>NaN</td>\n",
       "      <td>NaN</td>\n",
       "      <td>NaN</td>\n",
       "      <td>2008-08-24 17:10:34</td>\n",
       "      <td>2008-09-06 14:19:18</td>\n",
       "      <td>NaN</td>\n",
       "      <td>NaN</td>\n",
       "      <td>NaN</td>\n",
       "    </tr>\n",
       "  </tbody>\n",
       "</table>\n",
       "<p>5 rows × 44 columns</p>\n",
       "</div>"
      ],
      "text/plain": [
       "        id  Unnamed: 0.1 entity_type  entity_id  parent_id  \\\n",
       "0      c:1             0     Company          1        NaN   \n",
       "1     c:10             1     Company         10        NaN   \n",
       "2    c:100             2     Company        100        NaN   \n",
       "3  c:10000             3     Company      10000        NaN   \n",
       "4  c:10001             4     Company      10001        NaN   \n",
       "\n",
       "                 name     normalized_name                    permalink  \\\n",
       "0            Wetpaint            wetpaint            /company/wetpaint   \n",
       "1             Flektor             flektor             /company/flektor   \n",
       "2               There               there               /company/there   \n",
       "3             MYWEBBO             mywebbo             /company/mywebbo   \n",
       "4  THE Movie Streamer  the movie streamer  /company/the-movie-streamer   \n",
       "\n",
       "     category_code     status  ... first_milestone_at last_milestone_at  \\\n",
       "0              web  operating  ...         2010-09-05        2013-09-18   \n",
       "1      games_video   acquired  ...                NaN               NaN   \n",
       "2      games_video   acquired  ...         2003-02-01        2011-09-23   \n",
       "3  network_hosting  operating  ...                NaN               NaN   \n",
       "4      games_video  operating  ...                NaN               NaN   \n",
       "\n",
       "  milestones relationships        created_by           created_at  \\\n",
       "0        5.0          17.0  initial-importer  2007-05-25 06:51:27   \n",
       "1        NaN           6.0  initial-importer  2007-05-31 21:11:51   \n",
       "2        4.0          12.0  initial-importer  2007-08-06 23:52:45   \n",
       "3        NaN           NaN               NaN  2008-08-24 16:51:57   \n",
       "4        NaN           NaN               NaN  2008-08-24 17:10:34   \n",
       "\n",
       "            updated_at        lat         lng   ROI  \n",
       "0  2013-04-13 03:29:00  47.606209 -122.332071  15.5  \n",
       "1  2008-05-23 23:23:14  34.021122 -118.396467   NaN  \n",
       "2  2013-11-04 02:09:48  37.562992 -122.325525   NaN  \n",
       "3  2008-09-06 14:19:18        NaN         NaN   NaN  \n",
       "4  2008-09-06 14:19:18        NaN         NaN   NaN  \n",
       "\n",
       "[5 rows x 44 columns]"
      ]
     },
     "execution_count": 4,
     "metadata": {},
     "output_type": "execute_result"
    }
   ],
   "source": [
    "df5 = pd.read_csv('startups/companies.csv')\n",
    "df5.info()\n",
    "df5.head()"
   ]
  },
  {
   "cell_type": "code",
   "execution_count": 5,
   "id": "6b23e893",
   "metadata": {},
   "outputs": [],
   "source": [
    "df5 = df5.drop(columns = ['id','Unnamed: 0.1','entity_type','entity_id','parent_id'])"
   ]
  },
  {
   "cell_type": "code",
   "execution_count": 6,
   "id": "bc72c774",
   "metadata": {},
   "outputs": [
    {
     "data": {
      "text/plain": [
       "array(['wetpaint-inc.com', 'flektor.com', 'there.com', ..., 'csc.com',\n",
       "       'top-candidate.com', 'closetcouture.com'], dtype=object)"
      ]
     },
     "execution_count": 6,
     "metadata": {},
     "output_type": "execute_result"
    }
   ],
   "source": [
    "df5['domain'].unique()"
   ]
  },
  {
   "cell_type": "code",
   "execution_count": 7,
   "id": "6f914de8",
   "metadata": {},
   "outputs": [],
   "source": [
    "df5 = df5.drop(columns = ['normalized_name', 'permalink', 'domain'])"
   ]
  },
  {
   "cell_type": "code",
   "execution_count": 8,
   "id": "fd4183a7",
   "metadata": {},
   "outputs": [],
   "source": [
    "df5= df5.drop(columns = ['logo_url','logo_width','logo_height'])"
   ]
  },
  {
   "cell_type": "code",
   "execution_count": 9,
   "id": "c8641d24",
   "metadata": {},
   "outputs": [],
   "source": [
    "df5.to_csv('data/df_5.csv')"
   ]
  },
  {
   "cell_type": "code",
   "execution_count": 10,
   "id": "7e4f6fdb",
   "metadata": {},
   "outputs": [],
   "source": [
    "df3 = pd.read_csv('big-startup-secsees-fail-dataset-from-crunchbase/big_startup_secsees_dataset.csv')"
   ]
  },
  {
   "cell_type": "code",
   "execution_count": 11,
   "id": "aa9e2c4d",
   "metadata": {},
   "outputs": [],
   "source": [
    "df3 = df3.drop(columns = ['permalink'])"
   ]
  },
  {
   "cell_type": "code",
   "execution_count": 12,
   "id": "dd3fb2a2",
   "metadata": {},
   "outputs": [],
   "source": [
    "df3.to_csv('data/df_1.csv')"
   ]
  },
  {
   "cell_type": "code",
   "execution_count": 13,
   "id": "ed02b54b",
   "metadata": {},
   "outputs": [],
   "source": [
    "df4 = pd.read_csv('startups-valued-at-1-billion-or-more/unicorns.csv')"
   ]
  },
  {
   "cell_type": "code",
   "execution_count": 14,
   "id": "dce515f5",
   "metadata": {},
   "outputs": [
    {
     "data": {
      "text/plain": [
       "array([nan])"
      ]
     },
     "execution_count": 14,
     "metadata": {},
     "output_type": "execute_result"
    }
   ],
   "source": [
    "df4['Company Website'].unique()"
   ]
  },
  {
   "cell_type": "code",
   "execution_count": 15,
   "id": "54431c16",
   "metadata": {},
   "outputs": [],
   "source": [
    "df4 = df4.drop(columns = ['Company Website'])"
   ]
  },
  {
   "cell_type": "code",
   "execution_count": 16,
   "id": "be4cd292",
   "metadata": {},
   "outputs": [],
   "source": [
    "df4.to_csv('data/df_4.csv')"
   ]
  },
  {
   "cell_type": "code",
   "execution_count": 17,
   "id": "8432d824",
   "metadata": {},
   "outputs": [],
   "source": [
    "df6 = pd.read_csv('unicorn-nest-startup-fundraising-dataset/funds.csv')"
   ]
  },
  {
   "cell_type": "code",
   "execution_count": 18,
   "id": "a136a17c",
   "metadata": {},
   "outputs": [],
   "source": [
    "df6 = df6.drop(columns = ['Fund LinkedIn', 'Email format for website','Coincidence of the geography of the fund and its TOP1 invest geofocus'])"
   ]
  },
  {
   "cell_type": "code",
   "execution_count": 19,
   "id": "3a81c115",
   "metadata": {},
   "outputs": [],
   "source": [
    "df6.to_csv('data/df_6.csv')"
   ]
  },
  {
   "cell_type": "code",
   "execution_count": 20,
   "id": "8a1928d0",
   "metadata": {},
   "outputs": [],
   "source": [
    "df16 = pd.read_csv('500 startups companies.csv', delimiter = ';')"
   ]
  },
  {
   "cell_type": "code",
   "execution_count": 21,
   "id": "3006304f",
   "metadata": {},
   "outputs": [],
   "source": [
    "df16.to_csv('data/df_16.csv')"
   ]
  },
  {
   "cell_type": "code",
   "execution_count": 24,
   "id": "da109f00",
   "metadata": {},
   "outputs": [],
   "source": [
    "df11 = pd.read_csv('shark-tank-us-dataset/Shark_Tank_US_dataset.csv', encoding='latin-1')"
   ]
  },
  {
   "cell_type": "code",
   "execution_count": 25,
   "id": "9661f00a",
   "metadata": {},
   "outputs": [],
   "source": [
    "df12 = pd.read_csv('shark-tank-india/Shark Tank India.csv', encoding='latin-1')"
   ]
  },
  {
   "cell_type": "code",
   "execution_count": 26,
   "id": "5e0f5e7f",
   "metadata": {},
   "outputs": [],
   "source": [
    "df11_12 = df11.merge(df12, how='outer')"
   ]
  },
  {
   "cell_type": "code",
   "execution_count": 27,
   "id": "62a6cb5c",
   "metadata": {},
   "outputs": [],
   "source": [
    "df11_12.to_csv('data/df_11_12.csv')"
   ]
  },
  {
   "cell_type": "code",
   "execution_count": 28,
   "id": "6aba4070",
   "metadata": {},
   "outputs": [],
   "source": [
    "df_15 = pd.read_csv('tech-company-fundings-2020-onwards/tech_fundings.csv')"
   ]
  },
  {
   "cell_type": "code",
   "execution_count": 29,
   "id": "2328df43",
   "metadata": {},
   "outputs": [],
   "source": [
    "df_15 = df_15.drop(columns = ['index'])"
   ]
  },
  {
   "cell_type": "code",
   "execution_count": 30,
   "id": "74ac001d",
   "metadata": {},
   "outputs": [],
   "source": [
    "df_15.to_csv('data/df_15.csv')"
   ]
  },
  {
   "cell_type": "code",
   "execution_count": 31,
   "id": "c75af57a",
   "metadata": {},
   "outputs": [],
   "source": [
    "df7 = pd.read_csv('indian-startup-funding/startup_funding.csv')"
   ]
  },
  {
   "cell_type": "code",
   "execution_count": 32,
   "id": "7c8d482b",
   "metadata": {},
   "outputs": [],
   "source": [
    "df7 = df7.drop(columns = ['Sr No'])"
   ]
  },
  {
   "cell_type": "code",
   "execution_count": 33,
   "id": "c66e7e60",
   "metadata": {},
   "outputs": [],
   "source": [
    "df7 = df7.drop(columns = ['Remarks'])"
   ]
  },
  {
   "cell_type": "code",
   "execution_count": 34,
   "id": "d8bcf101",
   "metadata": {},
   "outputs": [],
   "source": [
    "df7.to_csv('data/df_7.csv')"
   ]
  },
  {
   "cell_type": "code",
   "execution_count": 35,
   "id": "6fec0f9e",
   "metadata": {},
   "outputs": [],
   "source": [
    "df8 = pd.read_csv('pakistan-startup-census/Pakistan Startup Census.csv')"
   ]
  },
  {
   "cell_type": "code",
   "execution_count": 36,
   "id": "5ec84b53",
   "metadata": {
    "scrolled": true
   },
   "outputs": [
    {
     "data": {
      "text/html": [
       "<div>\n",
       "<style scoped>\n",
       "    .dataframe tbody tr th:only-of-type {\n",
       "        vertical-align: middle;\n",
       "    }\n",
       "\n",
       "    .dataframe tbody tr th {\n",
       "        vertical-align: top;\n",
       "    }\n",
       "\n",
       "    .dataframe thead th {\n",
       "        text-align: right;\n",
       "    }\n",
       "</style>\n",
       "<table border=\"1\" class=\"dataframe\">\n",
       "  <thead>\n",
       "    <tr style=\"text-align: right;\">\n",
       "      <th></th>\n",
       "      <th>Name</th>\n",
       "      <th>Location</th>\n",
       "      <th>Tagline</th>\n",
       "      <th>Category</th>\n",
       "      <th>Website</th>\n",
       "      <th>Founded</th>\n",
       "      <th>Description</th>\n",
       "    </tr>\n",
       "  </thead>\n",
       "  <tbody>\n",
       "    <tr>\n",
       "      <th>0</th>\n",
       "      <td>Outnet</td>\n",
       "      <td>Karachi  Pakistan</td>\n",
       "      <td>Cloud based SaaS platform for planning  procur...</td>\n",
       "      <td>Advertising  OOH  Outdoor Advertising  Data an...</td>\n",
       "      <td>http://www.outnet.com.pk</td>\n",
       "      <td>1st September  2014</td>\n",
       "      <td>24Grey is a T4M (technology for marketing) com...</td>\n",
       "    </tr>\n",
       "    <tr>\n",
       "      <th>1</th>\n",
       "      <td>7Vals</td>\n",
       "      <td>Lahore  Pakistan</td>\n",
       "      <td>Understanding and enabling businesses to impro...</td>\n",
       "      <td>Consulting  Rails  Product Development  UI</td>\n",
       "      <td>http://www.7vals.com</td>\n",
       "      <td>2011</td>\n",
       "      <td>We're changing the way businesses work by maki...</td>\n",
       "    </tr>\n",
       "    <tr>\n",
       "      <th>2</th>\n",
       "      <td>92Solution</td>\n",
       "      <td>Lahore  Pakistan</td>\n",
       "      <td>92 Solution  A Pakistani Company Giving his Pa...</td>\n",
       "      <td>Consulting  Website &amp; Software Development</td>\n",
       "      <td>http://92solution.com</td>\n",
       "      <td>7th January  2015</td>\n",
       "      <td>92 Solution is a Software &amp; Website Developmen...</td>\n",
       "    </tr>\n",
       "    <tr>\n",
       "      <th>3</th>\n",
       "      <td>A2Z Yellow Pages &amp; Info Services</td>\n",
       "      <td>Lahore</td>\n",
       "      <td>Find local Businesses and Services in Pakistan...</td>\n",
       "      <td>Online Business Directory &amp; Portal</td>\n",
       "      <td>https://www.yp-pak.com</td>\n",
       "      <td>30th January  2017</td>\n",
       "      <td>A2Z| Yellow Pages Pakistan will be the innovat...</td>\n",
       "    </tr>\n",
       "    <tr>\n",
       "      <th>5</th>\n",
       "      <td>AbBachao</td>\n",
       "      <td>Karachi  Pakistan</td>\n",
       "      <td>Perfect app that updates you with discounts yo...</td>\n",
       "      <td>Application  E-commerce</td>\n",
       "      <td>http://www.abbachao.pk/</td>\n",
       "      <td>28th March  2016</td>\n",
       "      <td>Users can search deals as per their liking  an...</td>\n",
       "    </tr>\n",
       "    <tr>\n",
       "      <th>...</th>\n",
       "      <td>...</td>\n",
       "      <td>...</td>\n",
       "      <td>...</td>\n",
       "      <td>...</td>\n",
       "      <td>...</td>\n",
       "      <td>...</td>\n",
       "      <td>...</td>\n",
       "    </tr>\n",
       "    <tr>\n",
       "      <th>426</th>\n",
       "      <td>Yofit</td>\n",
       "      <td>Karachi</td>\n",
       "      <td>Yofit is an online discovery and booking platf...</td>\n",
       "      <td>Fitness</td>\n",
       "      <td>http://www.yofit.pk</td>\n",
       "      <td>15th November  2016</td>\n",
       "      <td>Yofit is an online discovery and booking platf...</td>\n",
       "    </tr>\n",
       "    <tr>\n",
       "      <th>427</th>\n",
       "      <td>Yourneeds.pk</td>\n",
       "      <td>Lahore Pakistan</td>\n",
       "      <td>Yourneeds.pk is the easiest way to get anythin...</td>\n",
       "      <td>Delivery Services</td>\n",
       "      <td>http://www.yourneeds.pk/</td>\n",
       "      <td>1st January  2016</td>\n",
       "      <td>Yourneeds.pk will not deliver any haraam  into...</td>\n",
       "    </tr>\n",
       "    <tr>\n",
       "      <th>428</th>\n",
       "      <td>Yum to Yikes</td>\n",
       "      <td>Islamabad  Pakistan</td>\n",
       "      <td>Yum to Yikes aims to inform  entertain and gui...</td>\n",
       "      <td>Media/News</td>\n",
       "      <td>http://yumtoyikes.com</td>\n",
       "      <td>1st May  2015</td>\n",
       "      <td>We are a bunch of enthusiastically-creative fo...</td>\n",
       "    </tr>\n",
       "    <tr>\n",
       "      <th>429</th>\n",
       "      <td>Zambeel</td>\n",
       "      <td>Multan  Pakistan</td>\n",
       "      <td>Online Shopping for Quality Products at lowest...</td>\n",
       "      <td>E-commerce</td>\n",
       "      <td>https://www.zambeel.com</td>\n",
       "      <td>2015</td>\n",
       "      <td>Online Shopping for Quality Products at lowest...</td>\n",
       "    </tr>\n",
       "    <tr>\n",
       "      <th>432</th>\n",
       "      <td>Zindagi - Find a Doctor</td>\n",
       "      <td>Lahore  Pakistan</td>\n",
       "      <td>A fast  simple and secure way to connect docto...</td>\n",
       "      <td>Healthcare</td>\n",
       "      <td>https://www.myzindagi.pk/</td>\n",
       "      <td>12th January  2016</td>\n",
       "      <td>Zindagi is a free service that helps patients ...</td>\n",
       "    </tr>\n",
       "  </tbody>\n",
       "</table>\n",
       "<p>374 rows × 7 columns</p>\n",
       "</div>"
      ],
      "text/plain": [
       "                                 Name             Location  \\\n",
       "0                              Outnet    Karachi  Pakistan   \n",
       "1                              7Vals      Lahore  Pakistan   \n",
       "2                          92Solution     Lahore  Pakistan   \n",
       "3    A2Z Yellow Pages & Info Services               Lahore   \n",
       "5                            AbBachao    Karachi  Pakistan   \n",
       "..                                ...                  ...   \n",
       "426                             Yofit              Karachi   \n",
       "427                      Yourneeds.pk      Lahore Pakistan   \n",
       "428                      Yum to Yikes  Islamabad  Pakistan   \n",
       "429                           Zambeel     Multan  Pakistan   \n",
       "432           Zindagi - Find a Doctor     Lahore  Pakistan   \n",
       "\n",
       "                                               Tagline  \\\n",
       "0    Cloud based SaaS platform for planning  procur...   \n",
       "1    Understanding and enabling businesses to impro...   \n",
       "2    92 Solution  A Pakistani Company Giving his Pa...   \n",
       "3    Find local Businesses and Services in Pakistan...   \n",
       "5    Perfect app that updates you with discounts yo...   \n",
       "..                                                 ...   \n",
       "426  Yofit is an online discovery and booking platf...   \n",
       "427  Yourneeds.pk is the easiest way to get anythin...   \n",
       "428  Yum to Yikes aims to inform  entertain and gui...   \n",
       "429  Online Shopping for Quality Products at lowest...   \n",
       "432  A fast  simple and secure way to connect docto...   \n",
       "\n",
       "                                              Category  \\\n",
       "0    Advertising  OOH  Outdoor Advertising  Data an...   \n",
       "1           Consulting  Rails  Product Development  UI   \n",
       "2           Consulting  Website & Software Development   \n",
       "3                   Online Business Directory & Portal   \n",
       "5                              Application  E-commerce   \n",
       "..                                                 ...   \n",
       "426                                            Fitness   \n",
       "427                                  Delivery Services   \n",
       "428                                         Media/News   \n",
       "429                                        E-commerce    \n",
       "432                                         Healthcare   \n",
       "\n",
       "                       Website               Founded  \\\n",
       "0     http://www.outnet.com.pk  1st September  2014    \n",
       "1         http://www.7vals.com                  2011   \n",
       "2        http://92solution.com    7th January  2015    \n",
       "3       https://www.yp-pak.com   30th January  2017    \n",
       "5      http://www.abbachao.pk/     28th March  2016    \n",
       "..                         ...                   ...   \n",
       "426        http://www.yofit.pk  15th November  2016    \n",
       "427   http://www.yourneeds.pk/    1st January  2016    \n",
       "428      http://yumtoyikes.com        1st May  2015    \n",
       "429    https://www.zambeel.com                  2015   \n",
       "432  https://www.myzindagi.pk/   12th January  2016    \n",
       "\n",
       "                                           Description  \n",
       "0    24Grey is a T4M (technology for marketing) com...  \n",
       "1    We're changing the way businesses work by maki...  \n",
       "2    92 Solution is a Software & Website Developmen...  \n",
       "3    A2Z| Yellow Pages Pakistan will be the innovat...  \n",
       "5    Users can search deals as per their liking  an...  \n",
       "..                                                 ...  \n",
       "426  Yofit is an online discovery and booking platf...  \n",
       "427  Yourneeds.pk will not deliver any haraam  into...  \n",
       "428  We are a bunch of enthusiastically-creative fo...  \n",
       "429  Online Shopping for Quality Products at lowest...  \n",
       "432  Zindagi is a free service that helps patients ...  \n",
       "\n",
       "[374 rows x 7 columns]"
      ]
     },
     "execution_count": 36,
     "metadata": {},
     "output_type": "execute_result"
    }
   ],
   "source": [
    "df8.dropna()"
   ]
  },
  {
   "cell_type": "code",
   "execution_count": 37,
   "id": "7a14902b",
   "metadata": {},
   "outputs": [],
   "source": [
    "df8.to_csv('data/df_8.csv')"
   ]
  },
  {
   "cell_type": "code",
   "execution_count": 38,
   "id": "91b6e4be",
   "metadata": {},
   "outputs": [],
   "source": [
    "df9 = pd.read_csv('world-wide-unicorn-startups/World_Wide_Unicorn_Startups.csv')"
   ]
  },
  {
   "cell_type": "code",
   "execution_count": 39,
   "id": "1e05db59",
   "metadata": {},
   "outputs": [],
   "source": [
    "df9.to_csv('data/df_9.csv')"
   ]
  },
  {
   "cell_type": "code",
   "execution_count": 40,
   "id": "ccf30253",
   "metadata": {},
   "outputs": [],
   "source": [
    "df10 = pd.read_csv('empowering-the-next-wave-of-entrepreneurs/company.csv')"
   ]
  },
  {
   "cell_type": "code",
   "execution_count": 41,
   "id": "15563989",
   "metadata": {},
   "outputs": [
    {
     "name": "stdout",
     "output_type": "stream",
     "text": [
      "<class 'pandas.core.frame.DataFrame'>\n",
      "RangeIndex: 1000 entries, 0 to 999\n",
      "Data columns (total 12 columns):\n",
      " #   Column              Non-Null Count  Dtype \n",
      "---  ------              --------------  ----- \n",
      " 0   id                  1000 non-null   int64 \n",
      " 1   company_name        1000 non-null   object\n",
      " 2   link                999 non-null    object\n",
      " 3   short_description   993 non-null    object\n",
      " 4   founded             1000 non-null   int64 \n",
      " 5   team_size           1000 non-null   int64 \n",
      " 6   location            985 non-null    object\n",
      " 7   country             1000 non-null   object\n",
      " 8   no_founders         1000 non-null   int64 \n",
      " 9   no_company_socials  1000 non-null   int64 \n",
      " 10  no_tags             1000 non-null   int64 \n",
      " 11  description         969 non-null    object\n",
      "dtypes: int64(6), object(6)\n",
      "memory usage: 93.9+ KB\n"
     ]
    }
   ],
   "source": [
    "df10.info()"
   ]
  },
  {
   "cell_type": "code",
   "execution_count": 42,
   "id": "0c0fdbaf",
   "metadata": {},
   "outputs": [],
   "source": [
    "df10 = df10.drop(columns = ['id', 'no_founders', 'no_company_socials', 'no_tags'])"
   ]
  },
  {
   "cell_type": "code",
   "execution_count": 43,
   "id": "e0f4d23f",
   "metadata": {},
   "outputs": [],
   "source": [
    "df10.to_csv('data/df_10.csv')"
   ]
  },
  {
   "cell_type": "code",
   "execution_count": 44,
   "id": "4f68f2f7",
   "metadata": {},
   "outputs": [],
   "source": [
    "df14 = pd.read_csv('company-ipos-2019-2021/company_ipo.csv')"
   ]
  },
  {
   "cell_type": "code",
   "execution_count": 45,
   "id": "db60275c",
   "metadata": {
    "scrolled": false
   },
   "outputs": [
    {
     "data": {
      "text/html": [
       "<div>\n",
       "<style scoped>\n",
       "    .dataframe tbody tr th:only-of-type {\n",
       "        vertical-align: middle;\n",
       "    }\n",
       "\n",
       "    .dataframe tbody tr th {\n",
       "        vertical-align: top;\n",
       "    }\n",
       "\n",
       "    .dataframe thead th {\n",
       "        text-align: right;\n",
       "    }\n",
       "</style>\n",
       "<table border=\"1\" class=\"dataframe\">\n",
       "  <thead>\n",
       "    <tr style=\"text-align: right;\">\n",
       "      <th></th>\n",
       "      <th>ID</th>\n",
       "      <th>IPO Date</th>\n",
       "      <th>Symbol</th>\n",
       "      <th>Company Name</th>\n",
       "      <th>IPO Price</th>\n",
       "      <th>Current</th>\n",
       "      <th>Return</th>\n",
       "    </tr>\n",
       "  </thead>\n",
       "  <tbody>\n",
       "    <tr>\n",
       "      <th>0</th>\n",
       "      <td>1</td>\n",
       "      <td>Dec 21, 2021</td>\n",
       "      <td>NVAC</td>\n",
       "      <td>NorthView Acquisition</td>\n",
       "      <td>$10.00</td>\n",
       "      <td>$10.03</td>\n",
       "      <td>0.30%</td>\n",
       "    </tr>\n",
       "    <tr>\n",
       "      <th>1</th>\n",
       "      <td>2</td>\n",
       "      <td>Dec 21, 2021</td>\n",
       "      <td>LSPR</td>\n",
       "      <td>Larkspur Health Acquisition</td>\n",
       "      <td>$10.00</td>\n",
       "      <td>$9.98</td>\n",
       "      <td>-0.20%</td>\n",
       "    </tr>\n",
       "    <tr>\n",
       "      <th>2</th>\n",
       "      <td>3</td>\n",
       "      <td>Dec 21, 2021</td>\n",
       "      <td>SAGA</td>\n",
       "      <td>Sagaliam Acquisition</td>\n",
       "      <td>$10.00</td>\n",
       "      <td>$9.97</td>\n",
       "      <td>-0.30%</td>\n",
       "    </tr>\n",
       "    <tr>\n",
       "      <th>3</th>\n",
       "      <td>4</td>\n",
       "      <td>Dec 17, 2021</td>\n",
       "      <td>RCAC</td>\n",
       "      <td>Revelstone Capital Acquisition</td>\n",
       "      <td>$10.00</td>\n",
       "      <td>$9.90</td>\n",
       "      <td>-1.00%</td>\n",
       "    </tr>\n",
       "    <tr>\n",
       "      <th>4</th>\n",
       "      <td>5</td>\n",
       "      <td>Dec 17, 2021</td>\n",
       "      <td>APCA</td>\n",
       "      <td>AP Acquisition</td>\n",
       "      <td>$10.00</td>\n",
       "      <td>$10.11</td>\n",
       "      <td>1.10%</td>\n",
       "    </tr>\n",
       "    <tr>\n",
       "      <th>...</th>\n",
       "      <td>...</td>\n",
       "      <td>...</td>\n",
       "      <td>...</td>\n",
       "      <td>...</td>\n",
       "      <td>...</td>\n",
       "      <td>...</td>\n",
       "      <td>...</td>\n",
       "    </tr>\n",
       "    <tr>\n",
       "      <th>1760</th>\n",
       "      <td>1761</td>\n",
       "      <td>Jan 17, 2019</td>\n",
       "      <td>RBKB</td>\n",
       "      <td>Rhinebeck Bancorp</td>\n",
       "      <td>$10.00</td>\n",
       "      <td>$10.61</td>\n",
       "      <td>6.10%</td>\n",
       "    </tr>\n",
       "    <tr>\n",
       "      <th>1761</th>\n",
       "      <td>1762</td>\n",
       "      <td>Jan 9, 2019</td>\n",
       "      <td>BCOW</td>\n",
       "      <td>1895 Bancorp of Wisconsin</td>\n",
       "      <td>$10.00</td>\n",
       "      <td>$10.93</td>\n",
       "      <td>9.30%</td>\n",
       "    </tr>\n",
       "    <tr>\n",
       "      <th>1762</th>\n",
       "      <td>1763</td>\n",
       "      <td>Jan 8, 2019</td>\n",
       "      <td>MDJH</td>\n",
       "      <td>MDJM Ltd.</td>\n",
       "      <td>$5.00</td>\n",
       "      <td>$1.91</td>\n",
       "      <td>-61.80%</td>\n",
       "    </tr>\n",
       "    <tr>\n",
       "      <th>1763</th>\n",
       "      <td>1764</td>\n",
       "      <td>Jan 8, 2019</td>\n",
       "      <td>MTC</td>\n",
       "      <td>MMTec</td>\n",
       "      <td>$4.00</td>\n",
       "      <td>$0.85</td>\n",
       "      <td>-78.73%</td>\n",
       "    </tr>\n",
       "    <tr>\n",
       "      <th>1764</th>\n",
       "      <td>1765</td>\n",
       "      <td>Jan 4, 2019</td>\n",
       "      <td>SXTC</td>\n",
       "      <td>China SXT Pharmaceuticals</td>\n",
       "      <td>$4.00</td>\n",
       "      <td>$0.58</td>\n",
       "      <td>-85.60%</td>\n",
       "    </tr>\n",
       "  </tbody>\n",
       "</table>\n",
       "<p>1765 rows × 7 columns</p>\n",
       "</div>"
      ],
      "text/plain": [
       "        ID      IPO Date Symbol                    Company Name IPO Price  \\\n",
       "0        1  Dec 21, 2021   NVAC           NorthView Acquisition    $10.00   \n",
       "1        2  Dec 21, 2021   LSPR     Larkspur Health Acquisition    $10.00   \n",
       "2        3  Dec 21, 2021   SAGA            Sagaliam Acquisition    $10.00   \n",
       "3        4  Dec 17, 2021   RCAC  Revelstone Capital Acquisition    $10.00   \n",
       "4        5  Dec 17, 2021   APCA                  AP Acquisition    $10.00   \n",
       "...    ...           ...    ...                             ...       ...   \n",
       "1760  1761  Jan 17, 2019   RBKB               Rhinebeck Bancorp    $10.00   \n",
       "1761  1762   Jan 9, 2019   BCOW       1895 Bancorp of Wisconsin    $10.00   \n",
       "1762  1763   Jan 8, 2019   MDJH                       MDJM Ltd.     $5.00   \n",
       "1763  1764   Jan 8, 2019    MTC                           MMTec     $4.00   \n",
       "1764  1765   Jan 4, 2019   SXTC       China SXT Pharmaceuticals     $4.00   \n",
       "\n",
       "     Current   Return  \n",
       "0     $10.03    0.30%  \n",
       "1      $9.98   -0.20%  \n",
       "2      $9.97   -0.30%  \n",
       "3      $9.90   -1.00%  \n",
       "4     $10.11    1.10%  \n",
       "...      ...      ...  \n",
       "1760  $10.61    6.10%  \n",
       "1761  $10.93    9.30%  \n",
       "1762   $1.91  -61.80%  \n",
       "1763   $0.85  -78.73%  \n",
       "1764   $0.58  -85.60%  \n",
       "\n",
       "[1765 rows x 7 columns]"
      ]
     },
     "execution_count": 45,
     "metadata": {},
     "output_type": "execute_result"
    }
   ],
   "source": [
    "df14"
   ]
  },
  {
   "cell_type": "code",
   "execution_count": 46,
   "id": "04aa3c64",
   "metadata": {},
   "outputs": [],
   "source": [
    "df3 = pd.read_csv('company-acquisitions-7-top-companies/acquisitions_update_2021.csv')"
   ]
  },
  {
   "cell_type": "code",
   "execution_count": 47,
   "id": "039f6856",
   "metadata": {},
   "outputs": [
    {
     "data": {
      "text/html": [
       "<div>\n",
       "<style scoped>\n",
       "    .dataframe tbody tr th:only-of-type {\n",
       "        vertical-align: middle;\n",
       "    }\n",
       "\n",
       "    .dataframe tbody tr th {\n",
       "        vertical-align: top;\n",
       "    }\n",
       "\n",
       "    .dataframe thead th {\n",
       "        text-align: right;\n",
       "    }\n",
       "</style>\n",
       "<table border=\"1\" class=\"dataframe\">\n",
       "  <thead>\n",
       "    <tr style=\"text-align: right;\">\n",
       "      <th></th>\n",
       "      <th>ID</th>\n",
       "      <th>Parent Company</th>\n",
       "      <th>Acquisition Year</th>\n",
       "      <th>Acquisition Month</th>\n",
       "      <th>Acquired Company</th>\n",
       "      <th>Business</th>\n",
       "      <th>Country</th>\n",
       "      <th>Acquisition Price</th>\n",
       "      <th>Category</th>\n",
       "      <th>Derived Products</th>\n",
       "    </tr>\n",
       "  </thead>\n",
       "  <tbody>\n",
       "    <tr>\n",
       "      <th>0</th>\n",
       "      <td>1</td>\n",
       "      <td>Apple</td>\n",
       "      <td>1988</td>\n",
       "      <td>Mar</td>\n",
       "      <td>Network Innovations</td>\n",
       "      <td>Software</td>\n",
       "      <td>-</td>\n",
       "      <td>-</td>\n",
       "      <td>-</td>\n",
       "      <td>-</td>\n",
       "    </tr>\n",
       "    <tr>\n",
       "      <th>1</th>\n",
       "      <td>2</td>\n",
       "      <td>Apple</td>\n",
       "      <td>1988</td>\n",
       "      <td>Jun</td>\n",
       "      <td>Orion Network Systems</td>\n",
       "      <td>Computer Software</td>\n",
       "      <td>-</td>\n",
       "      <td>-</td>\n",
       "      <td>-</td>\n",
       "      <td>-</td>\n",
       "    </tr>\n",
       "    <tr>\n",
       "      <th>2</th>\n",
       "      <td>3</td>\n",
       "      <td>Apple</td>\n",
       "      <td>1988</td>\n",
       "      <td>Jun</td>\n",
       "      <td>Styleware</td>\n",
       "      <td>Computer software</td>\n",
       "      <td>-</td>\n",
       "      <td>-</td>\n",
       "      <td>-</td>\n",
       "      <td>-</td>\n",
       "    </tr>\n",
       "    <tr>\n",
       "      <th>3</th>\n",
       "      <td>4</td>\n",
       "      <td>Apple</td>\n",
       "      <td>1988</td>\n",
       "      <td>Jul</td>\n",
       "      <td>Nashoba Systems</td>\n",
       "      <td>Computer software</td>\n",
       "      <td>-</td>\n",
       "      <td>-</td>\n",
       "      <td>-</td>\n",
       "      <td>-</td>\n",
       "    </tr>\n",
       "    <tr>\n",
       "      <th>4</th>\n",
       "      <td>5</td>\n",
       "      <td>Apple</td>\n",
       "      <td>1989</td>\n",
       "      <td>Jan</td>\n",
       "      <td>Coral Software</td>\n",
       "      <td>Computer software</td>\n",
       "      <td>-</td>\n",
       "      <td>-</td>\n",
       "      <td>-</td>\n",
       "      <td>-</td>\n",
       "    </tr>\n",
       "    <tr>\n",
       "      <th>...</th>\n",
       "      <td>...</td>\n",
       "      <td>...</td>\n",
       "      <td>...</td>\n",
       "      <td>...</td>\n",
       "      <td>...</td>\n",
       "      <td>...</td>\n",
       "      <td>...</td>\n",
       "      <td>...</td>\n",
       "      <td>...</td>\n",
       "      <td>...</td>\n",
       "    </tr>\n",
       "    <tr>\n",
       "      <th>1450</th>\n",
       "      <td>1451</td>\n",
       "      <td>Citrix</td>\n",
       "      <td>2015</td>\n",
       "      <td>Apr</td>\n",
       "      <td>Grasshopper</td>\n",
       "      <td>Telephone services</td>\n",
       "      <td>United States</td>\n",
       "      <td>-</td>\n",
       "      <td>-</td>\n",
       "      <td>GoToMeeting, GoToTraining, GoToWebinar, ShareF...</td>\n",
       "    </tr>\n",
       "    <tr>\n",
       "      <th>1451</th>\n",
       "      <td>1452</td>\n",
       "      <td>Citrix</td>\n",
       "      <td>2016</td>\n",
       "      <td>Sep</td>\n",
       "      <td>Norskale</td>\n",
       "      <td>UEM and application performance optimization</td>\n",
       "      <td>France</td>\n",
       "      <td>-</td>\n",
       "      <td>-</td>\n",
       "      <td>XenApp, XenDesktop</td>\n",
       "    </tr>\n",
       "    <tr>\n",
       "      <th>1452</th>\n",
       "      <td>1453</td>\n",
       "      <td>Citrix</td>\n",
       "      <td>2017</td>\n",
       "      <td>Jan</td>\n",
       "      <td>Unidesk</td>\n",
       "      <td>-</td>\n",
       "      <td>United States</td>\n",
       "      <td>-</td>\n",
       "      <td>-</td>\n",
       "      <td>XenApp, XenDesktop</td>\n",
       "    </tr>\n",
       "    <tr>\n",
       "      <th>1453</th>\n",
       "      <td>1454</td>\n",
       "      <td>Citrix</td>\n",
       "      <td>2018</td>\n",
       "      <td>Feb</td>\n",
       "      <td>Cedexis</td>\n",
       "      <td>Intelligent traffic management</td>\n",
       "      <td>France</td>\n",
       "      <td>-</td>\n",
       "      <td>-</td>\n",
       "      <td>Citrix ITM</td>\n",
       "    </tr>\n",
       "    <tr>\n",
       "      <th>1454</th>\n",
       "      <td>1455</td>\n",
       "      <td>Citrix</td>\n",
       "      <td>2021</td>\n",
       "      <td>Mar</td>\n",
       "      <td>Wrike</td>\n",
       "      <td>Project management</td>\n",
       "      <td>United States</td>\n",
       "      <td>-</td>\n",
       "      <td>-</td>\n",
       "      <td>Citrix Workspace</td>\n",
       "    </tr>\n",
       "  </tbody>\n",
       "</table>\n",
       "<p>1455 rows × 10 columns</p>\n",
       "</div>"
      ],
      "text/plain": [
       "        ID Parent Company Acquisition Year Acquisition Month  \\\n",
       "0        1          Apple             1988               Mar   \n",
       "1        2          Apple             1988               Jun   \n",
       "2        3          Apple             1988               Jun   \n",
       "3        4          Apple             1988               Jul   \n",
       "4        5          Apple             1989               Jan   \n",
       "...    ...            ...              ...               ...   \n",
       "1450  1451         Citrix             2015               Apr   \n",
       "1451  1452         Citrix             2016               Sep   \n",
       "1452  1453         Citrix             2017               Jan   \n",
       "1453  1454         Citrix             2018               Feb   \n",
       "1454  1455         Citrix             2021               Mar   \n",
       "\n",
       "           Acquired Company                                      Business  \\\n",
       "0       Network Innovations                                      Software   \n",
       "1     Orion Network Systems                             Computer Software   \n",
       "2                 Styleware                             Computer software   \n",
       "3           Nashoba Systems                             Computer software   \n",
       "4            Coral Software                             Computer software   \n",
       "...                     ...                                           ...   \n",
       "1450            Grasshopper                            Telephone services   \n",
       "1451               Norskale  UEM and application performance optimization   \n",
       "1452                Unidesk                                             -   \n",
       "1453                Cedexis                Intelligent traffic management   \n",
       "1454                  Wrike                            Project management   \n",
       "\n",
       "            Country Acquisition Price Category  \\\n",
       "0                 -                 -        -   \n",
       "1                 -                 -        -   \n",
       "2                 -                 -        -   \n",
       "3                 -                 -        -   \n",
       "4                 -                 -        -   \n",
       "...             ...               ...      ...   \n",
       "1450  United States                 -        -   \n",
       "1451         France                 -        -   \n",
       "1452  United States                 -        -   \n",
       "1453         France                 -        -   \n",
       "1454  United States                 -        -   \n",
       "\n",
       "                                       Derived Products  \n",
       "0                                                     -  \n",
       "1                                                     -  \n",
       "2                                                     -  \n",
       "3                                                     -  \n",
       "4                                                     -  \n",
       "...                                                 ...  \n",
       "1450  GoToMeeting, GoToTraining, GoToWebinar, ShareF...  \n",
       "1451                                 XenApp, XenDesktop  \n",
       "1452                                 XenApp, XenDesktop  \n",
       "1453                                         Citrix ITM  \n",
       "1454                                   Citrix Workspace  \n",
       "\n",
       "[1455 rows x 10 columns]"
      ]
     },
     "execution_count": 47,
     "metadata": {},
     "output_type": "execute_result"
    }
   ],
   "source": [
    "df3"
   ]
  },
  {
   "cell_type": "code",
   "execution_count": 48,
   "id": "5b082593",
   "metadata": {},
   "outputs": [],
   "source": [
    "comp_name = df14['Company Name'].unique()"
   ]
  },
  {
   "cell_type": "code",
   "execution_count": 49,
   "id": "4d8b0f20",
   "metadata": {},
   "outputs": [],
   "source": [
    "check = df3['Acquired Company'].isin(comp_name)"
   ]
  },
  {
   "cell_type": "code",
   "execution_count": 50,
   "id": "5f04cbe8",
   "metadata": {},
   "outputs": [
    {
     "data": {
      "text/plain": [
       "array([False])"
      ]
     },
     "execution_count": 50,
     "metadata": {},
     "output_type": "execute_result"
    }
   ],
   "source": [
    "check.unique()"
   ]
  },
  {
   "cell_type": "code",
   "execution_count": 51,
   "id": "c4a53ec8",
   "metadata": {},
   "outputs": [],
   "source": [
    "df1 = pd.read_csv('big-startup-secsees-fail-dataset-from-crunchbase/big_startup_secsees_dataset.csv')"
   ]
  },
  {
   "cell_type": "code",
   "execution_count": 52,
   "id": "6857d2df",
   "metadata": {},
   "outputs": [
    {
     "name": "stdout",
     "output_type": "stream",
     "text": [
      "<class 'pandas.core.frame.DataFrame'>\n",
      "RangeIndex: 66368 entries, 0 to 66367\n",
      "Data columns (total 14 columns):\n",
      " #   Column             Non-Null Count  Dtype \n",
      "---  ------             --------------  ----- \n",
      " 0   permalink          66368 non-null  object\n",
      " 1   name               66367 non-null  object\n",
      " 2   homepage_url       61310 non-null  object\n",
      " 3   category_list      63220 non-null  object\n",
      " 4   funding_total_usd  66368 non-null  object\n",
      " 5   status             66368 non-null  object\n",
      " 6   country_code       59410 non-null  object\n",
      " 7   state_code         57821 non-null  object\n",
      " 8   region             58338 non-null  object\n",
      " 9   city               58340 non-null  object\n",
      " 10  funding_rounds     66368 non-null  int64 \n",
      " 11  founded_at         51147 non-null  object\n",
      " 12  first_funding_at   66344 non-null  object\n",
      " 13  last_funding_at    66368 non-null  object\n",
      "dtypes: int64(1), object(13)\n",
      "memory usage: 7.1+ MB\n"
     ]
    }
   ],
   "source": [
    "df1.info()"
   ]
  },
  {
   "cell_type": "code",
   "execution_count": 54,
   "id": "2de3ef70",
   "metadata": {},
   "outputs": [],
   "source": [
    "df5 = pd.read_csv('data/df_5.csv')"
   ]
  },
  {
   "cell_type": "code",
   "execution_count": 55,
   "id": "ae48af9b",
   "metadata": {},
   "outputs": [],
   "source": [
    "df16 = pd.read_csv('data/df_16.csv')"
   ]
  },
  {
   "cell_type": "code",
   "execution_count": 56,
   "id": "24608566",
   "metadata": {},
   "outputs": [
    {
     "data": {
      "text/plain": [
       "array([False,  True])"
      ]
     },
     "execution_count": 56,
     "metadata": {},
     "output_type": "execute_result"
    }
   ],
   "source": [
    "df5 = df5.rename(columns = {'name':'COMPANY NAME'})\n",
    "\n",
    "comp_name = df16['COMPANY NAME'].unique()\n",
    "\n",
    "check = df5['COMPANY NAME'].isin(comp_name)\n",
    "\n",
    "check.unique()"
   ]
  },
  {
   "cell_type": "code",
   "execution_count": 57,
   "id": "04e5db9d",
   "metadata": {},
   "outputs": [
    {
     "name": "stdout",
     "output_type": "stream",
     "text": [
      "<class 'pandas.core.frame.DataFrame'>\n",
      "Int64Index: 199416 entries, 0 to 199415\n",
      "Data columns (total 37 columns):\n",
      " #   Column               Non-Null Count   Dtype  \n",
      "---  ------               --------------   -----  \n",
      " 0   Unnamed: 0           199416 non-null  int64  \n",
      " 1   COMPANY NAME         199394 non-null  object \n",
      " 2   category_code        123186 non-null  object \n",
      " 3   status               196553 non-null  object \n",
      " 4   founded_at           91227 non-null   object \n",
      " 5   closed_at            2620 non-null    object \n",
      " 6   homepage_url         126545 non-null  object \n",
      " 7   twitter_username     80591 non-null   object \n",
      " 8   short_description    7131 non-null    object \n",
      " 9   description          92048 non-null   object \n",
      " 10  overview             126971 non-null  object \n",
      " 11  tag_list             81452 non-null   object \n",
      " 12  country_code         87990 non-null   object \n",
      " 13  state_code           50903 non-null   object \n",
      " 14  city                 83890 non-null   object \n",
      " 15  region               196553 non-null  object \n",
      " 16  first_investment_at  2583 non-null    object \n",
      " 17  last_investment_at   2583 non-null    object \n",
      " 18  investment_rounds    2591 non-null    float64\n",
      " 19  invested_companies   2591 non-null    float64\n",
      " 20  first_funding_at     31507 non-null   object \n",
      " 21  last_funding_at      31507 non-null   object \n",
      " 22  funding_rounds       31707 non-null   float64\n",
      " 23  funding_total_usd    27874 non-null   float64\n",
      " 24  first_milestone_at   91699 non-null   object \n",
      " 25  last_milestone_at    91699 non-null   object \n",
      " 26  milestones           91699 non-null   float64\n",
      " 27  relationships        129667 non-null  float64\n",
      " 28  created_by           155533 non-null  object \n",
      " 29  created_at           196553 non-null  object \n",
      " 30  updated_at           196553 non-null  object \n",
      " 31  lat                  83852 non-null   float64\n",
      " 32  lng                  83852 non-null   float64\n",
      " 33  ROI                  726 non-null     float64\n",
      " 34  INDUSTRY             2863 non-null    object \n",
      " 35  SUB-INDUSTRY         2863 non-null    object \n",
      " 36  COUNTRY              2863 non-null    object \n",
      "dtypes: float64(9), int64(1), object(27)\n",
      "memory usage: 57.8+ MB\n"
     ]
    }
   ],
   "source": [
    "df5_16 = df5.merge(df16, how='outer')\n",
    "\n",
    "df5_16.info()"
   ]
  },
  {
   "cell_type": "code",
   "execution_count": 58,
   "id": "6b0850c4",
   "metadata": {},
   "outputs": [],
   "source": [
    "df15 = pd.read_csv('data/df_15.csv')"
   ]
  },
  {
   "cell_type": "code",
   "execution_count": 59,
   "id": "e6710e8f",
   "metadata": {},
   "outputs": [],
   "source": [
    "df15 = df15.rename(columns = {'Company':'COMPANY NAME', 'Region':'COUNTRY','Vertical':'INDUSTRY'})\n",
    "\n",
    "df5_16 = df5_16.rename(columns = {'homepage_url':'Website'})\n",
    "\n",
    "df_5_15_16 = df5_16.merge(df15, how = 'outer')"
   ]
  },
  {
   "cell_type": "code",
   "execution_count": 60,
   "id": "3ee66356",
   "metadata": {},
   "outputs": [],
   "source": [
    "df4 = pd.read_csv('data/df_4.csv')"
   ]
  },
  {
   "cell_type": "code",
   "execution_count": 61,
   "id": "5c77d5b1",
   "metadata": {},
   "outputs": [],
   "source": [
    "df4 = df4.rename(columns = {'Company':'COMPANY NAME', 'Country':'COUNTRY','Industry':'INDUSTRY'})\n",
    "\n",
    "df4_5_15_16 = df_5_15_16.merge(df4, how = 'outer')\n",
    "\n",
    "data = df4_5_15_16"
   ]
  },
  {
   "cell_type": "code",
   "execution_count": 62,
   "id": "16937531",
   "metadata": {},
   "outputs": [],
   "source": [
    "df6 = pd.read_csv('data/df_6.csv')\n",
    "\n",
    "df6 = df6.rename(columns = {'Fund name':'COMPANY NAME', 'Country':'COUNTRY','Some of TOP industries':'INDUSTRY', 'Fund website':'Website', 'Fund Crunchbase':'Crunchbase Url'})\n",
    "\n",
    "df4to6 = df4_5_15_16.merge(df6, how = 'outer')\n",
    "\n",
    "df7 = pd.read_csv('data/df_7.csv')\n",
    "\n",
    "df7 = df7.rename(columns = {'Startup Name':'COMPANY NAME','Industry Vertical':'INDUSTRY'})\n",
    "\n",
    "df7['COUNTRY'] = 'India'\n",
    "\n",
    "df4to7 = df4to6.merge(df7, how = 'outer')\n",
    "\n",
    "df8 = pd.read_csv('data/df_8.csv')\n",
    "\n",
    "df8 = df8.dropna()\n",
    "\n",
    "df8 = df8.rename(columns = {'Name':'COMPANY NAME','Category':'INDUSTRY'})\n",
    "\n",
    "df8['Location'] = 'Pakistan'\n",
    "\n",
    "df8 = df8.rename(columns = {'Location':'COUNTRY'})\n",
    "\n",
    "df4to8 = df4to7.merge(df8, how = 'outer')\n",
    "\n",
    "df9 = pd.read_csv('data/df_9.csv')\n",
    "\n",
    "df9 = df9.rename(columns = {'Company':'COMPANY NAME','Industry':'INDUSTRY','Country':'COUNTRY'})\n",
    "\n",
    "df4to9 = df4to8.merge(df9, how = 'outer')\n",
    "\n",
    "df10 = pd.read_csv('data/df_10.csv')\n",
    "\n",
    "df10 = df10.rename(columns = {'company_name':'COMPANY NAME', 'link':'Website', 'country':'COUNTRY'})\n",
    "\n",
    "df4to10 = df4to9.merge(df10, how = 'outer')\n",
    "\n",
    "df1 = pd.read_csv('data/df_1.csv')\n",
    "\n",
    "df1 = df1.rename(columns = {'name':'COMPANY NAME', 'homepage_url':'Website','country_code':'COUNTRY','category_list':'INDUSTRY'})"
   ]
  },
  {
   "cell_type": "code",
   "execution_count": 63,
   "id": "e599dbd7",
   "metadata": {},
   "outputs": [],
   "source": [
    "df4to10.to_csv('dataset.csv')"
   ]
  }
 ],
 "metadata": {
  "kernelspec": {
   "display_name": "Python 3 (ipykernel)",
   "language": "python",
   "name": "python3"
  },
  "language_info": {
   "codemirror_mode": {
    "name": "ipython",
    "version": 3
   },
   "file_extension": ".py",
   "mimetype": "text/x-python",
   "name": "python",
   "nbconvert_exporter": "python",
   "pygments_lexer": "ipython3",
   "version": "3.10.9"
  }
 },
 "nbformat": 4,
 "nbformat_minor": 5
}
