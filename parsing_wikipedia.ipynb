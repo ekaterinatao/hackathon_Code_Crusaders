{
 "cells": [
  {
   "cell_type": "code",
   "execution_count": 9,
   "id": "a63c8212-0a44-4e92-817e-e3b0b4a014a6",
   "metadata": {},
   "outputs": [],
   "source": [
    "import sqlite3\n",
    "import os\n",
    "from sqlite3 import Error\n",
    "import pandas as pd"
   ]
  },
  {
   "cell_type": "code",
   "execution_count": 2,
   "id": "a37238cc-699d-4970-8cd0-877bf0c862d8",
   "metadata": {},
   "outputs": [
    {
     "name": "stderr",
     "output_type": "stream",
     "text": [
      "C:\\Users\\beneo\\AppData\\Roaming\\Python\\Python38\\site-packages\\requests\\__init__.py:102: RequestsDependencyWarning: urllib3 (1.26.7) or chardet (5.0.0)/charset_normalizer (2.0.6) doesn't match a supported version!\n",
      "  warnings.warn(\"urllib3 ({}) or chardet ({})/charset_normalizer ({}) doesn't match a supported \"\n"
     ]
    }
   ],
   "source": [
    "import requests\n",
    "from bs4 import BeautifulSoup"
   ]
  },
  {
   "cell_type": "code",
   "execution_count": 4,
   "id": "7915f182-fc64-4dba-9b2b-af7bbf638e96",
   "metadata": {},
   "outputs": [],
   "source": [
    "# Здесь указываем рабочую директорию.\n",
    "os.chdir('A:/MIPT')"
   ]
  },
  {
   "cell_type": "code",
   "execution_count": 10,
   "id": "1129ae62-65cb-46ee-9dd5-9e7d2f787d62",
   "metadata": {},
   "outputs": [
    {
     "name": "stderr",
     "output_type": "stream",
     "text": [
      "C:\\Users\\Ekaterina\\AppData\\Local\\Temp\\ipykernel_14252\\1482730268.py:2: DtypeWarning: Columns (7,8,9,10,11,12,13,14,15,16,17,18,20,21,25,26,27,33,34,35,36,37,38,39,55) have mixed types. Specify dtype option on import or set low_memory=False.\n",
      "  df = pd.read_csv(\"final_dataset.csv\")\n"
     ]
    }
   ],
   "source": [
    "# Загружаем полную таблицу с датасетом\n",
    "df = pd.read_csv(\"final_dataset.csv\")"
   ]
  },
  {
   "cell_type": "code",
   "execution_count": 3,
   "id": "f8ad2a13-79cf-470b-84d6-1e56ce15f37f",
   "metadata": {},
   "outputs": [
    {
     "data": {
      "text/html": [
       "<div>\n",
       "<style scoped>\n",
       "    .dataframe tbody tr th:only-of-type {\n",
       "        vertical-align: middle;\n",
       "    }\n",
       "\n",
       "    .dataframe tbody tr th {\n",
       "        vertical-align: top;\n",
       "    }\n",
       "\n",
       "    .dataframe thead th {\n",
       "        text-align: right;\n",
       "    }\n",
       "</style>\n",
       "<table border=\"1\" class=\"dataframe\">\n",
       "  <thead>\n",
       "    <tr style=\"text-align: right;\">\n",
       "      <th></th>\n",
       "      <th>name</th>\n",
       "      <th>name_norm</th>\n",
       "      <th>Website</th>\n",
       "      <th>country_code</th>\n",
       "      <th>city</th>\n",
       "      <th>state_code</th>\n",
       "      <th>status</th>\n",
       "      <th>founded_at</th>\n",
       "      <th>closed_at</th>\n",
       "      <th>first_investment_at</th>\n",
       "      <th>...</th>\n",
       "      <th>TOP_avg_multiplicator</th>\n",
       "      <th>TOP_success_strategy_diversity_index</th>\n",
       "      <th>TOP_follow_on_index</th>\n",
       "      <th>TOP_readiness_take_younger_startups</th>\n",
       "      <th>team_size</th>\n",
       "      <th>employeeRange</th>\n",
       "      <th>followerCount</th>\n",
       "      <th>positionCount</th>\n",
       "      <th>stage</th>\n",
       "      <th>best_company</th>\n",
       "    </tr>\n",
       "  </thead>\n",
       "  <tbody>\n",
       "    <tr>\n",
       "      <th>0</th>\n",
       "      <td>Wetpaint</td>\n",
       "      <td>wetpaint</td>\n",
       "      <td>http://wetpaint-inc.com</td>\n",
       "      <td>USA</td>\n",
       "      <td>Seattle</td>\n",
       "      <td>WA</td>\n",
       "      <td>operating</td>\n",
       "      <td>2005-10-17</td>\n",
       "      <td>NaN</td>\n",
       "      <td>NaN</td>\n",
       "      <td>...</td>\n",
       "      <td>NaN</td>\n",
       "      <td>NaN</td>\n",
       "      <td>NaN</td>\n",
       "      <td>NaN</td>\n",
       "      <td>NaN</td>\n",
       "      <td>NaN</td>\n",
       "      <td>NaN</td>\n",
       "      <td>NaN</td>\n",
       "      <td>NaN</td>\n",
       "      <td>0</td>\n",
       "    </tr>\n",
       "    <tr>\n",
       "      <th>1</th>\n",
       "      <td>Flektor</td>\n",
       "      <td>flektor</td>\n",
       "      <td>http://www.flektor.com</td>\n",
       "      <td>USA</td>\n",
       "      <td>Culver City</td>\n",
       "      <td>CA</td>\n",
       "      <td>acquired</td>\n",
       "      <td>NaN</td>\n",
       "      <td>NaN</td>\n",
       "      <td>NaN</td>\n",
       "      <td>...</td>\n",
       "      <td>NaN</td>\n",
       "      <td>NaN</td>\n",
       "      <td>NaN</td>\n",
       "      <td>NaN</td>\n",
       "      <td>NaN</td>\n",
       "      <td>NaN</td>\n",
       "      <td>NaN</td>\n",
       "      <td>NaN</td>\n",
       "      <td>NaN</td>\n",
       "      <td>0</td>\n",
       "    </tr>\n",
       "    <tr>\n",
       "      <th>2</th>\n",
       "      <td>There</td>\n",
       "      <td>there</td>\n",
       "      <td>http://www.there.com</td>\n",
       "      <td>USA</td>\n",
       "      <td>San Mateo</td>\n",
       "      <td>CA</td>\n",
       "      <td>acquired</td>\n",
       "      <td>NaN</td>\n",
       "      <td>NaN</td>\n",
       "      <td>NaN</td>\n",
       "      <td>...</td>\n",
       "      <td>NaN</td>\n",
       "      <td>NaN</td>\n",
       "      <td>NaN</td>\n",
       "      <td>NaN</td>\n",
       "      <td>NaN</td>\n",
       "      <td>NaN</td>\n",
       "      <td>NaN</td>\n",
       "      <td>NaN</td>\n",
       "      <td>NaN</td>\n",
       "      <td>0</td>\n",
       "    </tr>\n",
       "    <tr>\n",
       "      <th>3</th>\n",
       "      <td>MYWEBBO</td>\n",
       "      <td>mywebbo</td>\n",
       "      <td>http://www.mywebbo.com</td>\n",
       "      <td>NaN</td>\n",
       "      <td>NaN</td>\n",
       "      <td>NaN</td>\n",
       "      <td>operating</td>\n",
       "      <td>2008-07-26</td>\n",
       "      <td>NaN</td>\n",
       "      <td>NaN</td>\n",
       "      <td>...</td>\n",
       "      <td>NaN</td>\n",
       "      <td>NaN</td>\n",
       "      <td>NaN</td>\n",
       "      <td>NaN</td>\n",
       "      <td>NaN</td>\n",
       "      <td>NaN</td>\n",
       "      <td>NaN</td>\n",
       "      <td>NaN</td>\n",
       "      <td>NaN</td>\n",
       "      <td>0</td>\n",
       "    </tr>\n",
       "    <tr>\n",
       "      <th>4</th>\n",
       "      <td>THE Movie Streamer</td>\n",
       "      <td>the movie streamer</td>\n",
       "      <td>http://themoviestreamer.com</td>\n",
       "      <td>NaN</td>\n",
       "      <td>NaN</td>\n",
       "      <td>NaN</td>\n",
       "      <td>operating</td>\n",
       "      <td>2008-07-26</td>\n",
       "      <td>NaN</td>\n",
       "      <td>NaN</td>\n",
       "      <td>...</td>\n",
       "      <td>NaN</td>\n",
       "      <td>NaN</td>\n",
       "      <td>NaN</td>\n",
       "      <td>NaN</td>\n",
       "      <td>NaN</td>\n",
       "      <td>NaN</td>\n",
       "      <td>NaN</td>\n",
       "      <td>NaN</td>\n",
       "      <td>NaN</td>\n",
       "      <td>0</td>\n",
       "    </tr>\n",
       "  </tbody>\n",
       "</table>\n",
       "<p>5 rows × 58 columns</p>\n",
       "</div>"
      ],
      "text/plain": [
       "                 name           name_norm                      Website  \\\n",
       "0            Wetpaint            wetpaint      http://wetpaint-inc.com   \n",
       "1             Flektor             flektor       http://www.flektor.com   \n",
       "2               There               there         http://www.there.com   \n",
       "3             MYWEBBO             mywebbo       http://www.mywebbo.com   \n",
       "4  THE Movie Streamer  the movie streamer  http://themoviestreamer.com   \n",
       "\n",
       "  country_code         city state_code     status  founded_at closed_at  \\\n",
       "0          USA      Seattle         WA  operating  2005-10-17       NaN   \n",
       "1          USA  Culver City         CA   acquired         NaN       NaN   \n",
       "2          USA    San Mateo         CA   acquired         NaN       NaN   \n",
       "3          NaN          NaN        NaN  operating  2008-07-26       NaN   \n",
       "4          NaN          NaN        NaN  operating  2008-07-26       NaN   \n",
       "\n",
       "  first_investment_at  ... TOP_avg_multiplicator  \\\n",
       "0                 NaN  ...                   NaN   \n",
       "1                 NaN  ...                   NaN   \n",
       "2                 NaN  ...                   NaN   \n",
       "3                 NaN  ...                   NaN   \n",
       "4                 NaN  ...                   NaN   \n",
       "\n",
       "  TOP_success_strategy_diversity_index TOP_follow_on_index  \\\n",
       "0                                  NaN                 NaN   \n",
       "1                                  NaN                 NaN   \n",
       "2                                  NaN                 NaN   \n",
       "3                                  NaN                 NaN   \n",
       "4                                  NaN                 NaN   \n",
       "\n",
       "  TOP_readiness_take_younger_startups team_size employeeRange followerCount  \\\n",
       "0                                 NaN       NaN           NaN           NaN   \n",
       "1                                 NaN       NaN           NaN           NaN   \n",
       "2                                 NaN       NaN           NaN           NaN   \n",
       "3                                 NaN       NaN           NaN           NaN   \n",
       "4                                 NaN       NaN           NaN           NaN   \n",
       "\n",
       "  positionCount stage best_company  \n",
       "0           NaN   NaN            0  \n",
       "1           NaN   NaN            0  \n",
       "2           NaN   NaN            0  \n",
       "3           NaN   NaN            0  \n",
       "4           NaN   NaN            0  \n",
       "\n",
       "[5 rows x 58 columns]"
      ]
     },
     "execution_count": 3,
     "metadata": {},
     "output_type": "execute_result"
    }
   ],
   "source": [
    "df.head()"
   ]
  },
  {
   "cell_type": "code",
   "execution_count": 4,
   "id": "3320f9b2-2a16-4e78-9000-6a8dffb5f13d",
   "metadata": {},
   "outputs": [],
   "source": [
    "# Берем только те строки, где у компании есть web сайт.\n",
    "dataset = df[df['Website'].notna()]"
   ]
  },
  {
   "cell_type": "code",
   "execution_count": 11,
   "id": "85414352",
   "metadata": {},
   "outputs": [],
   "source": [
    "comp_dict = {}\n",
    "for name, site in zip(dataset['name'], dataset['Website']):\n",
    "    comp_dict[name] = site"
   ]
  },
  {
   "cell_type": "code",
   "execution_count": 13,
   "id": "c3fe9165",
   "metadata": {},
   "outputs": [
    {
     "data": {
      "text/plain": [
       "480737"
      ]
     },
     "execution_count": 13,
     "metadata": {},
     "output_type": "execute_result"
    }
   ],
   "source": [
    "len(comp_dict)"
   ]
  },
  {
   "cell_type": "code",
   "execution_count": 5,
   "id": "425861c2-53d1-436a-bb68-a773b2d3708a",
   "metadata": {},
   "outputs": [
    {
     "data": {
      "text/plain": [
       "508262"
      ]
     },
     "execution_count": 5,
     "metadata": {},
     "output_type": "execute_result"
    }
   ],
   "source": [
    "# Делаем список имен компаний, в том порядке, в котором они даны в таблице.\n",
    "company_list = []\n",
    "for i in dataset['name']:\n",
    "    company_list.append(i)\n",
    "len(company_list)"
   ]
  },
  {
   "cell_type": "code",
   "execution_count": 6,
   "id": "d4b3fbf4",
   "metadata": {},
   "outputs": [
    {
     "data": {
      "text/plain": [
       "480737"
      ]
     },
     "execution_count": 6,
     "metadata": {},
     "output_type": "execute_result"
    }
   ],
   "source": [
    "len(set(company_list))"
   ]
  },
  {
   "cell_type": "code",
   "execution_count": 7,
   "id": "bc98f4bd-f90d-4b38-8dd3-7f547bf5e5a2",
   "metadata": {},
   "outputs": [
    {
     "data": {
      "text/plain": [
       "508262"
      ]
     },
     "execution_count": 7,
     "metadata": {},
     "output_type": "execute_result"
    }
   ],
   "source": [
    "# Делаем соответствующий список web-адресов компаний.\n",
    "website_list = []\n",
    "for i in dataset['Website']:\n",
    "    website_list.append(i)\n",
    "len(website_list)"
   ]
  },
  {
   "cell_type": "code",
   "execution_count": 8,
   "id": "561deae3",
   "metadata": {},
   "outputs": [
    {
     "data": {
      "text/plain": [
       "499987"
      ]
     },
     "execution_count": 8,
     "metadata": {},
     "output_type": "execute_result"
    }
   ],
   "source": [
    "len(set(website_list))"
   ]
  },
  {
   "cell_type": "code",
   "execution_count": 36,
   "id": "e2f64371-0adb-43bf-b840-3874a07e06be",
   "metadata": {},
   "outputs": [],
   "source": [
    "# Функция, которая осуществляет парсинг. Функция берет сайт википедии и прибавляет к нему имя компании. \n",
    "# Если такого сайта нет, при парсинге добавляются наиболее типичные окончания из списка additions (ниже).\n",
    "# Функция работает только для имен без пробелов.\n",
    "\n",
    "def parsing(u):\n",
    "    url = 'https://en.wikipedia.org/wiki/'+u\n",
    "    print(url)\n",
    "    response = requests.get(url)\n",
    "    print(response.status_code)\n",
    "    soup = BeautifulSoup(response.text, \"lxml\")\n",
    "    txt = soup.find('tbody').text\n",
    "    begin = ['Traded as','Founded','Revenue ','Operating income ','Net income ','Total assets ','Total equity ']\n",
    "    end = [':',';','(','(','(','(','(',]\n",
    "    features = u+'%'+url+'%'\n",
    "    for i in range(len(begin)):\n",
    "        try:\n",
    "            x = txt.find(begin[i])\n",
    "            txt = txt[x+len(begin[i]):]\n",
    "            b = txt.find((end[i]))\n",
    "            word = txt[:b].strip()\n",
    "            features += word\n",
    "            features +='%'\n",
    "        except Exception:\n",
    "            features += 'None'\n",
    "            features +='%'\n",
    "    if len(features) < 300:\n",
    "        return features\n",
    "    else:\n",
    "        features = u+'%'+url+'%'\n",
    "        return features"
   ]
  },
  {
   "cell_type": "code",
   "execution_count": 37,
   "id": "27a2654d-ca1e-4c4b-9f4b-a2391ae11823",
   "metadata": {},
   "outputs": [],
   "source": [
    "additions=[',_Inc.','_(company)','_Platforms']"
   ]
  },
  {
   "cell_type": "code",
   "execution_count": 40,
   "id": "da452931-b131-444a-8f61-d9c0d12f3639",
   "metadata": {},
   "outputs": [],
   "source": [
    "# !!! Здесь указываем, какой дипазон компаний берем для парсинга\n",
    "name_parsing_list = company_list[:100000]\n",
    "web_parsing_list = website_list[:100000]"
   ]
  },
  {
   "cell_type": "code",
   "execution_count": null,
   "id": "83c3ecc9-ecf8-4232-b6f3-ffa2d7dce0c4",
   "metadata": {},
   "outputs": [],
   "source": [
    "# Здесь проводится сам парсинг.\n",
    "with open('full_wiki_parsing.csv','a', encoding = 'utf-8') as f:\n",
    "    for k in range(len(company_list)):\n",
    "        try:\n",
    "            features = parsing(str(name_parsing_list[k]))\n",
    "            f.write(str(web_parsing_list[k])+'%')\n",
    "            f.write(features)\n",
    "            f.write(\"\\n\")\n",
    "        except Exception:\n",
    "            for l in additions:\n",
    "                try:\n",
    "                    features = parsing(name_parsing_list[k]+l)\n",
    "                    f.write(str(web_parsing_list[k])+'%')\n",
    "                    f.write(features)\n",
    "                    f.write(\"\\n\")\n",
    "                except Exception:\n",
    "                    print(f'{str(name_parsing_list[k])+l} was not included')"
   ]
  }
 ],
 "metadata": {
  "kernelspec": {
   "display_name": "Python 3 (ipykernel)",
   "language": "python",
   "name": "python3"
  },
  "language_info": {
   "codemirror_mode": {
    "name": "ipython",
    "version": 3
   },
   "file_extension": ".py",
   "mimetype": "text/x-python",
   "name": "python",
   "nbconvert_exporter": "python",
   "pygments_lexer": "ipython3",
   "version": "3.9.12"
  }
 },
 "nbformat": 4,
 "nbformat_minor": 5
}
